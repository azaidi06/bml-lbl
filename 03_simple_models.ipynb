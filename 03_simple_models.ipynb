{
 "cells": [
  {
   "cell_type": "code",
   "execution_count": null,
   "metadata": {},
   "outputs": [],
   "source": [
    "from sklearn.preprocessing import StandardScaler\n",
    "from sklearn.linear_model import Ridge\n",
    "from sklearn.ensemble import RandomForestRegressor \n",
    "from sklearn.metrics import mean_squared_error, r2_score\n",
    "from sklearn.model_selection import train_test_split\n",
    "import pandas as pd\n",
    "import numpy as np\n",
    "import xgboost as xgb"
   ]
  },
  {
   "cell_type": "code",
   "execution_count": null,
   "metadata": {},
   "outputs": [
    {
     "data": {
      "text/html": [
       "<div>\n",
       "<style scoped>\n",
       "    .dataframe tbody tr th:only-of-type {\n",
       "        vertical-align: middle;\n",
       "    }\n",
       "\n",
       "    .dataframe tbody tr th {\n",
       "        vertical-align: top;\n",
       "    }\n",
       "\n",
       "    .dataframe thead th {\n",
       "        text-align: right;\n",
       "    }\n",
       "</style>\n",
       "<table border=\"1\" class=\"dataframe\">\n",
       "  <thead>\n",
       "    <tr style=\"text-align: right;\">\n",
       "      <th></th>\n",
       "      <th>gate_type</th>\n",
       "      <th>voltage</th>\n",
       "      <th>thickness</th>\n",
       "      <th>clock_cycle</th>\n",
       "      <th>t_rise</th>\n",
       "      <th>t_fall</th>\n",
       "      <th>t_delay</th>\n",
       "    </tr>\n",
       "  </thead>\n",
       "  <tbody>\n",
       "    <tr>\n",
       "      <th>0</th>\n",
       "      <td>buffer</td>\n",
       "      <td>0.3</td>\n",
       "      <td>0.1</td>\n",
       "      <td>100</td>\n",
       "      <td>3.131324e-12</td>\n",
       "      <td>3.17279e-12</td>\n",
       "      <td>9.921646e-12</td>\n",
       "    </tr>\n",
       "    <tr>\n",
       "      <th>1</th>\n",
       "      <td>buffer</td>\n",
       "      <td>0.4</td>\n",
       "      <td>0.1</td>\n",
       "      <td>100</td>\n",
       "      <td>8.473565e-13</td>\n",
       "      <td>1.456597e-12</td>\n",
       "      <td>7.269524e-12</td>\n",
       "    </tr>\n",
       "  </tbody>\n",
       "</table>\n",
       "</div>"
      ],
      "text/plain": [
       "  gate_type  voltage  thickness  clock_cycle        t_rise        t_fall  \\\n",
       "0    buffer      0.3        0.1          100  3.131324e-12   3.17279e-12   \n",
       "1    buffer      0.4        0.1          100  8.473565e-13  1.456597e-12   \n",
       "\n",
       "        t_delay  \n",
       "0  9.921646e-12  \n",
       "1  7.269524e-12  "
      ]
     },
     "execution_count": null,
     "metadata": {},
     "output_type": "execute_result"
    }
   ],
   "source": [
    "df = pd.read_csv('data/run1.csv')\n",
    "df.head(2)"
   ]
  },
  {
   "cell_type": "code",
   "execution_count": null,
   "metadata": {},
   "outputs": [
    {
     "data": {
      "text/plain": [
       "36"
      ]
     },
     "execution_count": null,
     "metadata": {},
     "output_type": "execute_result"
    }
   ],
   "source": [
    "#these are the bad t_fall values in nand4 that need to be dropped\n",
    "nand4_drop_idxs = ((df['gate_type'] == 'nand4') & (df['t_fall'] == ' FAILED')).values\n",
    "nand4_drop_idxs.sum()"
   ]
  },
  {
   "cell_type": "code",
   "execution_count": null,
   "metadata": {},
   "outputs": [
    {
     "data": {
      "text/plain": [
       "(11304, 7)"
      ]
     },
     "execution_count": null,
     "metadata": {},
     "output_type": "execute_result"
    }
   ],
   "source": [
    "df = df.loc[~nand4_drop_idxs].reset_index(drop=True)\n",
    "df.shape"
   ]
  },
  {
   "cell_type": "code",
   "execution_count": null,
   "metadata": {},
   "outputs": [],
   "source": [
    "def get_gate(gate_type='buffer'): return df[df.gate_type == gate_type]"
   ]
  },
  {
   "cell_type": "code",
   "execution_count": null,
   "metadata": {},
   "outputs": [
    {
     "data": {
      "text/plain": [
       "['buffer',\n",
       " 'inv_x1',\n",
       " 'inv_x2',\n",
       " 'inv_x4',\n",
       " 'nand2',\n",
       " 'nand3',\n",
       " 'nand4',\n",
       " 'nor2',\n",
       " 'nor3',\n",
       " 'nor4']"
      ]
     },
     "execution_count": null,
     "metadata": {},
     "output_type": "execute_result"
    }
   ],
   "source": [
    "unique_gates = list(df.gate_type.unique())\n",
    "unique_gates"
   ]
  },
  {
   "cell_type": "code",
   "execution_count": null,
   "metadata": {},
   "outputs": [],
   "source": [
    "def get_gate_xy(gate_type='buffer'):\n",
    "    y_drop = 't_fall' if gate_type=='buffer' else 't_rise'\n",
    "    df = get_gate(gate_type)\n",
    "    x_cols = ['clock_cycle', 'thickness', 'voltage']\n",
    "    y_cols = ['t_delay', 't_rise', 't_fall']\n",
    "    y_cols.remove(y_drop)\n",
    "    x = np.vstack(df[x_cols].values).astype('float')\n",
    "    y = np.vstack(np.vstack(df[y_cols].values)).astype('float')\n",
    "    return x, y"
   ]
  },
  {
   "cell_type": "code",
   "execution_count": null,
   "metadata": {},
   "outputs": [
    {
     "data": {
      "text/plain": [
       "((1134, 3), (1134, 2))"
      ]
     },
     "execution_count": null,
     "metadata": {},
     "output_type": "execute_result"
    }
   ],
   "source": [
    "x, y = get_gate_xy('nor3')\n",
    "x.shape, y.shape"
   ]
  },
  {
   "cell_type": "code",
   "execution_count": null,
   "metadata": {},
   "outputs": [
    {
     "data": {
      "text/plain": [
       "{'buffer': None,\n",
       " 'inv_x1': None,\n",
       " 'inv_x2': None,\n",
       " 'inv_x4': None,\n",
       " 'nand2': None,\n",
       " 'nand3': None,\n",
       " 'nand4': None,\n",
       " 'nor2': None,\n",
       " 'nor3': None,\n",
       " 'nor4': None}"
      ]
     },
     "execution_count": null,
     "metadata": {},
     "output_type": "execute_result"
    }
   ],
   "source": [
    "gate_dict = dict.fromkeys(unique_gates)\n",
    "gate_dict"
   ]
  },
  {
   "cell_type": "code",
   "execution_count": null,
   "metadata": {},
   "outputs": [],
   "source": [
    "for gate in unique_gates: \n",
    "    gate_dict[gate] = get_gate_xy(gate_type=gate)"
   ]
  },
  {
   "cell_type": "code",
   "execution_count": null,
   "metadata": {},
   "outputs": [],
   "source": [
    "def ridge_reg(x_train, y_train, x_valid, y_valid):\n",
    "    print('Doing Ridge Regression.....')\n",
    "    ridge = Ridge(alpha = 1)\n",
    "    ridge.fit(x_train, y_train)\n",
    "    print('training score = ', ridge.score(x_train, y_train))\n",
    "    y_pred_ridge = ridge.predict(x_valid)\n",
    "    mse_ridge = mean_squared_error(y_valid, y_pred_ridge) \n",
    "    print('test score =', ridge.score(x_valid, y_valid)) \n",
    "\n",
    "def do_rf(x_train, y_train, x_valid, y_valid):\n",
    "    print('ndoing RF.....')\n",
    "    RF = RandomForestRegressor(max_depth=100, random_state=0)\n",
    "    RF.fit(x_train, y_train)\n",
    "    print('trainig score = ', RF.score(x_train, y_train))\n",
    "    y_pred = RF.predict(x_valid)\n",
    "    mse = mean_squared_error(y_valid, y_pred)\n",
    "    r2 = r2_score(y_valid, y_pred) # coefficient of determination\n",
    "    print('test score =', RF.score(x_valid, y_valid))\n",
    "    print(f'the mse is {mse}')\n",
    "    print(f\"the r2 score is: {r2}\")\n",
    "    return y_pred\n",
    "\n",
    "\n",
    "def do_xgb(x_train, y_train, x_valid, y_valid):\n",
    "    print('nboosting the trees.....')\n",
    "    regressor=xgb.XGBRegressor(eval_metric='rmse')\n",
    "    regressor.fit(x_train, y_train)\n",
    "    train_score = regressor.score(x_train, y_train) ** 2 #bc using RMSE\n",
    "    y_pred = regressor.predict(x_valid)\n",
    "    mse = mean_squared_error(y_valid, y_pred)\n",
    "    r2 = r2_score(y_valid, y_pred) # coefficient of determination\n",
    "    valid_score = regressor.score(x_valid, y_valid)\n",
    "\n",
    "    print(f'the training score is {train_score:3f}')    \n",
    "    print(f\"the validation score is {valid_score:3f}\")\n",
    "    print(f'the mse is {mse:3f}')\n",
    "    print(f\"the r2 score is: {r2:3f}\")\n",
    "    return y_pred\n",
    "\n",
    "\n",
    "\n",
    "def train_models(gate_type='buffer', random_state=0, normalize_y=True):\n",
    "    print(f'-----Analyzing {gate_type} gates-----\\n')\n",
    "    x, y = gate_dict[gate_type]\n",
    "    x_train, x_valid, y_train, y_valid = train_test_split(x, y, \n",
    "                                                        random_state=random_state, \n",
    "                                                        test_size=0.1)    \n",
    "    ridge_reg(x_train, y_train, x_valid, y_valid)\n",
    "    if normalize_y: \n",
    "        y_train = y_train / y_train.min()\n",
    "        y_valid = y_valid / y_valid.min()\n",
    "    y_pred = do_rf(x_train, y_train, x_valid, y_valid)\n",
    "    _ = do_xgb(x_train, y_train, x_valid, y_valid)\n",
    "    print('\\n\\n')\n",
    "    #return y_pred"
   ]
  },
  {
   "cell_type": "code",
   "execution_count": null,
   "metadata": {},
   "outputs": [
    {
     "data": {
      "text/plain": [
       "((850, 3), (284, 3), (850, 2), (284, 2))"
      ]
     },
     "execution_count": null,
     "metadata": {},
     "output_type": "execute_result"
    }
   ],
   "source": [
    "x, y = gate_dict['buffer']\n",
    "x_tr, x_val, y_tr, y_val = train_test_split(x,y)\n",
    "x_tr.shape, x_val.shape, y_tr.shape, y_val.shape"
   ]
  },
  {
   "cell_type": "code",
   "execution_count": null,
   "metadata": {},
   "outputs": [],
   "source": [
    "from sklearn.preprocessing import PolynomialFeatures\n",
    "from sklearn.linear_model import ElasticNet, LassoCV, MultiTaskLassoCV, MultiTaskElasticNetCV\n",
    "from sklearn import linear_model"
   ]
  },
  {
   "cell_type": "code",
   "execution_count": null,
   "metadata": {},
   "outputs": [
    {
     "data": {
      "text/plain": [
       "(1134, 10)"
      ]
     },
     "execution_count": null,
     "metadata": {},
     "output_type": "execute_result"
    }
   ],
   "source": [
    "PolynomialFeatures(2).fit_transform(x).shape"
   ]
  },
  {
   "cell_type": "code",
   "execution_count": null,
   "metadata": {},
   "outputs": [
    {
     "name": "stdout",
     "output_type": "stream",
     "text": [
      "-0.0036199686533131548\n"
     ]
    }
   ],
   "source": [
    "#without polynomial features.....\n",
    "regr = ElasticNet()\n",
    "regr.fit(x_tr,y_tr);\n",
    "#print(regr.coef_)\n",
    "print(regr.score(x_val,y_val))"
   ]
  },
  {
   "cell_type": "code",
   "execution_count": null,
   "metadata": {},
   "outputs": [
    {
     "name": "stdout",
     "output_type": "stream",
     "text": [
      "-0.0036199686533131548\n"
     ]
    }
   ],
   "source": [
    "#with polynomial features.....\n",
    "regr = ElasticNet()\n",
    "poly_x = PolynomialFeatures(2).fit_transform(x_tr)\n",
    "regr.fit(poly_x, y_tr);\n",
    "poly_x_val = PolynomialFeatures(2).fit_transform(x_val)\n",
    "print(regr.score(poly_x_val, y_val))"
   ]
  },
  {
   "cell_type": "code",
   "execution_count": null,
   "metadata": {},
   "outputs": [
    {
     "name": "stdout",
     "output_type": "stream",
     "text": [
      "-0.0036199686533131548\n"
     ]
    }
   ],
   "source": [
    "#lasso without polynomial features\n",
    "clf = linear_model.Lasso(alpha=0.1)\n",
    "clf.fit(x_tr,y_tr)\n",
    "print(clf.score(x_val, y_val))"
   ]
  },
  {
   "cell_type": "code",
   "execution_count": null,
   "metadata": {},
   "outputs": [
    {
     "name": "stdout",
     "output_type": "stream",
     "text": [
      "0.46008202167999784\n"
     ]
    }
   ],
   "source": [
    "#lasso with polynomial features\n",
    "clf = linear_model.Lasso(alpha=0.1)\n",
    "poly_x_tr = PolynomialFeatures(4).fit_transform(x_tr)\n",
    "clf.fit(poly_x_tr, y_tr)\n",
    "poly_x_val = PolynomialFeatures(4).fit_transform(x_val)\n",
    "print(clf.score(poly_x_val, y_val))"
   ]
  },
  {
   "cell_type": "code",
   "execution_count": null,
   "metadata": {},
   "outputs": [
    {
     "data": {
      "text/plain": [
       "0.6831539257356407"
      ]
     },
     "execution_count": null,
     "metadata": {},
     "output_type": "execute_result"
    }
   ],
   "source": [
    "#Ridge without polynomial features\n",
    "clf = Ridge(alpha=1.0)\n",
    "clf.fit(x_tr,y_tr);\n",
    "clf.score(x_val,y_val)"
   ]
  },
  {
   "cell_type": "code",
   "execution_count": null,
   "metadata": {},
   "outputs": [],
   "source": [
    "#Ridge with polynomial features\n",
    "clf = Ridge(alpha=1.0)\n",
    "clf.fit(x_tr,y_tr);\n",
    "clf.score(x_val,y_val)"
   ]
  },
  {
   "cell_type": "code",
   "execution_count": null,
   "metadata": {},
   "outputs": [
    {
     "name": "stdout",
     "output_type": "stream",
     "text": [
      "for a random_forest model, the validation score is: 1.0\n"
     ]
    }
   ],
   "source": [
    "do_simple_model(x,y, 'random_forest', num_poly=None, norm_y=True)"
   ]
  },
  {
   "cell_type": "code",
   "execution_count": null,
   "metadata": {},
   "outputs": [
    {
     "name": "stdout",
     "output_type": "stream",
     "text": [
      "for a xgboost model, the validation score is: 0.9999995886556486\n"
     ]
    }
   ],
   "source": [
    "do_simple_model(x,y, 'xgboost', num_poly=None, norm_y=True)"
   ]
  },
  {
   "cell_type": "code",
   "execution_count": null,
   "metadata": {},
   "outputs": [],
   "source": [
    "def normalize(x): return x / x.min()\n",
    "\n",
    "def do_simple_model(x, y, model_name='ridge', num_poly=2, alpha=1.0, norm_y=False):\n",
    "    x_tr, x_val, y_tr, y_val = train_test_split(x,y)\n",
    "    if num_poly:\n",
    "        x_tr = PolynomialFeatures(num_poly).fit_transform(x_tr)\n",
    "        x_val = PolynomialFeatures(num_poly).fit_transform(x_val)\n",
    "    if model_name == 'ridge': model = Ridge(alpha=alpha)\n",
    "    elif model_name == 'lasso': model = linear_model.Lasso(alpha=alpha)\n",
    "    elif model_name == 'elastic': model = ElasticNet()\n",
    "    elif model_name == 'lasso-cv': model = MultiTaskLassoCV(cv=5, random_state=0)\n",
    "    elif model_name == 'elastic-cv': model = MultiTaskElasticNetCV(cv=5, random_state=0)\n",
    "    elif model_name == 'random_forest': model = RandomForestRegressor(max_depth=100, random_state=0)\n",
    "    elif model_name == 'xgboost': model = xgb.XGBRegressor(eval_metric='rmse')\n",
    "    if norm_y: \n",
    "        y_tr, y_val = normalize(y_tr), normalize(y_val)\n",
    "    model.fit(x_tr, y_tr)\n",
    "    r2score = model.score(x_val, y_val)\n",
    "    print(f'for a {model_name} model, the validation score is: {r2score}')"
   ]
  },
  {
   "cell_type": "code",
   "execution_count": null,
   "metadata": {},
   "outputs": [],
   "source": [
    "def run_models(gate_type='buffer', random_state=0, normalize_y=True):\n",
    "    print(f'-----Analyzing {gate_type} gates-----')\n",
    "    x, y = gate_dict[gate_type]\n",
    "    do_simple_model(x, y, model_name='ridge')\n",
    "    #do_simple_model(x, y, model_name='lasso')\n",
    "    #do_simple_model(x, y, model_name='elastic')\n",
    "    do_simple_model(x, y, model_name='lasso-cv')\n",
    "    do_simple_model(x, y, model_name='elastic-cv')\n",
    "    do_simple_model(x, y, model_name='random_forest', norm_y=True, num_poly=0)\n",
    "    do_simple_model(x, y, model_name='xgboost', norm_y=True)\n",
    "    print('\\n')"
   ]
  },
  {
   "cell_type": "code",
   "execution_count": null,
   "metadata": {},
   "outputs": [
    {
     "name": "stdout",
     "output_type": "stream",
     "text": [
      "-----Analyzing buffer gates-----\n",
      "for a ridge model, the validation score is: 0.7977589152008588\n",
      "for a lasso-cv model, the validation score is: 0.5943788405574078\n",
      "for a elastic-cv model, the validation score is: 0.6307733504389321\n",
      "for a random_forest model, the validation score is: 1.0\n",
      "for a xgboost model, the validation score is: 0.9999999870819181\n",
      "\n",
      "\n"
     ]
    }
   ],
   "source": [
    "run_models()"
   ]
  },
  {
   "cell_type": "code",
   "execution_count": null,
   "metadata": {},
   "outputs": [
    {
     "name": "stdout",
     "output_type": "stream",
     "text": [
      "-----Analyzing buffer gates-----\n",
      "for a ridge model, the validation score is: 0.7995587181468095\n",
      "\n",
      "\n",
      "-----Analyzing inv_x1 gates-----\n",
      "for a ridge model, the validation score is: 0.8730475028787507\n",
      "\n",
      "\n",
      "-----Analyzing inv_x2 gates-----\n",
      "for a ridge model, the validation score is: 0.8643724159480674\n",
      "\n",
      "\n",
      "-----Analyzing inv_x4 gates-----\n",
      "for a ridge model, the validation score is: 0.8545830770987946\n",
      "\n",
      "\n",
      "-----Analyzing nand2 gates-----\n",
      "for a ridge model, the validation score is: 0.873350514053701\n",
      "\n",
      "\n",
      "-----Analyzing nand3 gates-----\n",
      "for a ridge model, the validation score is: 0.9258983518621478\n",
      "\n",
      "\n",
      "-----Analyzing nand4 gates-----\n",
      "for a ridge model, the validation score is: 0.8612734166190821\n",
      "\n",
      "\n",
      "-----Analyzing nor2 gates-----\n",
      "for a ridge model, the validation score is: 0.831350407683912\n",
      "\n",
      "\n",
      "-----Analyzing nor3 gates-----\n",
      "for a ridge model, the validation score is: 0.8343835830053519\n",
      "\n",
      "\n",
      "-----Analyzing nor4 gates-----\n",
      "for a ridge model, the validation score is: 0.8248249782199548\n",
      "\n",
      "\n"
     ]
    }
   ],
   "source": [
    "for gate_type in gate_dict.keys(): run_models(gate_type, random_state=123)"
   ]
  },
  {
   "cell_type": "code",
   "execution_count": null,
   "metadata": {},
   "outputs": [
    {
     "data": {
      "text/plain": [
       "0.682792060680128"
      ]
     },
     "execution_count": null,
     "metadata": {},
     "output_type": "execute_result"
    }
   ],
   "source": [
    "#ridge regression without polynomial factors\n",
    "do_simple_model(x,y, num_poly=None)"
   ]
  },
  {
   "cell_type": "code",
   "execution_count": null,
   "metadata": {},
   "outputs": [
    {
     "data": {
      "text/plain": [
       "0.8114806177882217"
      ]
     },
     "execution_count": null,
     "metadata": {},
     "output_type": "execute_result"
    }
   ],
   "source": [
    "#ridge regression with polynomial factors\n",
    "do_simple_model(x,y, num_poly=2)"
   ]
  },
  {
   "cell_type": "code",
   "execution_count": null,
   "metadata": {},
   "outputs": [
    {
     "data": {
      "text/plain": [
       "-0.005667047663951097"
      ]
     },
     "execution_count": null,
     "metadata": {},
     "output_type": "execute_result"
    }
   ],
   "source": [
    "#lasso without polynonmial\n",
    "do_simple_model(x,y, model='lasso', num_poly=None, alpha=0.1)"
   ]
  },
  {
   "cell_type": "code",
   "execution_count": null,
   "metadata": {},
   "outputs": [
    {
     "data": {
      "text/plain": [
       "0.43311576254961603"
      ]
     },
     "execution_count": null,
     "metadata": {},
     "output_type": "execute_result"
    }
   ],
   "source": [
    "#lasso with polynonmial\n",
    "do_simple_model(x,y, model='lasso', alpha=0.1, num_poly=4)"
   ]
  },
  {
   "cell_type": "code",
   "execution_count": null,
   "metadata": {},
   "outputs": [
    {
     "data": {
      "text/plain": [
       "0.599422765667379"
      ]
     },
     "execution_count": null,
     "metadata": {},
     "output_type": "execute_result"
    }
   ],
   "source": [
    "#lassoCV with polynonmial\n",
    "do_simple_model(x,y, model='lassocv', alpha=0.1, num_poly=2)"
   ]
  },
  {
   "cell_type": "code",
   "execution_count": null,
   "metadata": {},
   "outputs": [
    {
     "data": {
      "text/plain": [
       "-0.0049294150336509635"
      ]
     },
     "execution_count": null,
     "metadata": {},
     "output_type": "execute_result"
    }
   ],
   "source": [
    "#elastic without polynonmial\n",
    "do_simple_model(x,y, model='elastic', num_poly=None)"
   ]
  },
  {
   "cell_type": "code",
   "execution_count": null,
   "metadata": {},
   "outputs": [
    {
     "data": {
      "text/plain": [
       "-0.005392408948376115"
      ]
     },
     "execution_count": null,
     "metadata": {},
     "output_type": "execute_result"
    }
   ],
   "source": [
    "#elastic with polynonmial\n",
    "do_simple_model(x,y, model='elastic', num_poly=2)"
   ]
  },
  {
   "cell_type": "code",
   "execution_count": null,
   "metadata": {},
   "outputs": [
    {
     "data": {
      "text/plain": [
       "0.6408125065163138"
      ]
     },
     "execution_count": null,
     "metadata": {},
     "output_type": "execute_result"
    }
   ],
   "source": [
    "#elasticCV with polynonmial\n",
    "do_simple_model(x,y, model='elastic-cv', num_poly=2)"
   ]
  },
  {
   "cell_type": "markdown",
   "metadata": {},
   "source": [
    "It looks as like Lasso, Ridge and Elasticnet are all performing around the same. None are approaching the accuracy of the Random Forest or XgBoost models (as seen below). Need to do parameter search to see optimal values "
   ]
  },
  {
   "cell_type": "code",
   "execution_count": null,
   "metadata": {},
   "outputs": [],
   "source": [
    "def do_simple_model(x, y, model='ridge', num_poly=2, alpha=1.0):\n",
    "    x_tr, x_val, y_tr, y_val = train_test_split(x,y)\n",
    "    if num_poly:\n",
    "        x_tr = PolynomialFeatures(num_poly).fit_transform(x_tr)\n",
    "        x_val = PolynomialFeatures(num_poly).fit_transform(x_val)\n",
    "    if model == 'ridge': model = Ridge(alpha=alpha)\n",
    "    elif model == 'lasso': model = linear_model.Lasso(alpha=alpha)\n",
    "    elif model == 'elastic': model = ElasticNet()\n",
    "    elif model == 'lasso-cv': model = MultiTaskLassoCV(cv=5, random_state=0)\n",
    "    elif model == 'elastic-cv': model = MultiTaskElasticNetCV(cv=5, random_state=0)\n",
    "    model.fit(x_tr, y_tr)\n",
    "    return model.score(x_val, y_val)"
   ]
  },
  {
   "cell_type": "code",
   "execution_count": null,
   "metadata": {},
   "outputs": [
    {
     "name": "stdout",
     "output_type": "stream",
     "text": [
      "-----Analyzing buffer gates-----\n",
      "\n",
      "Doing Ridge Regression.....\n",
      "training score =  0.6868883807464006\n",
      "test score = 0.7054164133458096\n",
      "\n",
      "\n",
      "doing RF.....\n",
      "trainig score =  1.0\n",
      "test score = 1.0\n",
      "the mse is 1.5906988750755812e-27\n",
      "the r2 score is: 1.0\n",
      "\n",
      "\n",
      "boosting the trees.....\n",
      "the training score is 0.999999\n",
      "the validation score is 1.000000\n",
      "the mse is 0.000005\n",
      "the r2 score is: 1.000000\n",
      "\n",
      "\n",
      "\n",
      "-----Analyzing inv_x1 gates-----\n",
      "\n",
      "Doing Ridge Regression.....\n",
      "training score =  0.7802399691292567\n",
      "test score = 0.7843436443699999\n",
      "\n",
      "\n",
      "doing RF.....\n",
      "trainig score =  1.0\n",
      "test score = 1.0\n",
      "the mse is 1.565594803982376e-28\n",
      "the r2 score is: 1.0\n",
      "\n",
      "\n",
      "boosting the trees.....\n",
      "the training score is 1.000000\n",
      "the validation score is 1.000000\n",
      "the mse is 0.000005\n",
      "the r2 score is: 1.000000\n",
      "\n",
      "\n",
      "\n",
      "-----Analyzing inv_x2 gates-----\n",
      "\n",
      "Doing Ridge Regression.....\n",
      "training score =  0.7799249311934082\n",
      "test score = 0.7837168811482245\n",
      "\n",
      "\n",
      "doing RF.....\n",
      "trainig score =  1.0\n",
      "test score = 1.0\n",
      "the mse is 1.7518788573822228e-28\n",
      "the r2 score is: 1.0\n",
      "\n",
      "\n",
      "boosting the trees.....\n",
      "the training score is 1.000000\n",
      "the validation score is 1.000000\n",
      "the mse is 0.000005\n",
      "the r2 score is: 1.000000\n",
      "\n",
      "\n",
      "\n",
      "-----Analyzing inv_x4 gates-----\n",
      "\n",
      "Doing Ridge Regression.....\n",
      "training score =  0.7798294568543719\n",
      "test score = 0.7836357804550848\n",
      "\n",
      "\n",
      "doing RF.....\n",
      "trainig score =  1.0\n",
      "test score = 1.0\n",
      "the mse is 1.3421123259892951e-28\n",
      "the r2 score is: 1.0\n",
      "\n",
      "\n",
      "boosting the trees.....\n",
      "the training score is 1.000000\n",
      "the validation score is 1.000000\n",
      "the mse is 0.000003\n",
      "the r2 score is: 1.000000\n",
      "\n",
      "\n",
      "\n",
      "-----Analyzing nand2 gates-----\n",
      "\n",
      "Doing Ridge Regression.....\n",
      "training score =  0.7995810321356629\n",
      "test score = 0.8026050929841728\n",
      "\n",
      "\n",
      "doing RF.....\n",
      "trainig score =  1.0\n",
      "test score = 1.0\n",
      "the mse is 7.773199220763722e-29\n",
      "the r2 score is: 1.0\n",
      "\n",
      "\n",
      "boosting the trees.....\n",
      "the training score is 0.999999\n",
      "the validation score is 0.999999\n",
      "the mse is 0.000002\n",
      "the r2 score is: 0.999999\n",
      "\n",
      "\n",
      "\n",
      "-----Analyzing nand3 gates-----\n",
      "\n",
      "Doing Ridge Regression.....\n",
      "training score =  0.8919640763288441\n",
      "test score = 0.9145216248256681\n",
      "\n",
      "\n",
      "doing RF.....\n",
      "trainig score =  1.0\n",
      "test score = 1.0\n",
      "the mse is 6.574186868466862e-29\n",
      "the r2 score is: 1.0\n",
      "\n",
      "\n",
      "boosting the trees.....\n",
      "the training score is 0.999999\n",
      "the validation score is 1.000000\n",
      "the mse is 0.000001\n",
      "the r2 score is: 1.000000\n",
      "\n",
      "\n",
      "\n",
      "-----Analyzing nand4 gates-----\n",
      "\n",
      "Doing Ridge Regression.....\n",
      "training score =  0.7968688962218908\n",
      "test score = 0.7666050046565149\n",
      "\n",
      "\n",
      "doing RF.....\n",
      "trainig score =  1.0\n",
      "test score = 1.0\n",
      "the mse is 2.7017813679184523e-29\n",
      "the r2 score is: 1.0\n",
      "\n",
      "\n",
      "boosting the trees.....\n",
      "the training score is 0.999999\n",
      "the validation score is 0.999999\n",
      "the mse is 0.000002\n",
      "the r2 score is: 0.999999\n",
      "\n",
      "\n",
      "\n",
      "-----Analyzing nor2 gates-----\n",
      "\n",
      "Doing Ridge Regression.....\n",
      "training score =  0.7250057718960236\n",
      "test score = 0.7123760204238995\n",
      "\n",
      "\n",
      "doing RF.....\n",
      "trainig score =  1.0\n",
      "test score = 1.0\n",
      "the mse is 1.0321773531227745e-28\n",
      "the r2 score is: 1.0\n",
      "\n",
      "\n",
      "boosting the trees.....\n",
      "the training score is 1.000000\n",
      "the validation score is 1.000000\n",
      "the mse is 0.000003\n",
      "the r2 score is: 1.000000\n",
      "\n",
      "\n",
      "\n",
      "-----Analyzing nor3 gates-----\n",
      "\n",
      "Doing Ridge Regression.....\n",
      "training score =  0.7000154431846628\n",
      "test score = 0.6765321213832951\n",
      "\n",
      "\n",
      "doing RF.....\n",
      "trainig score =  1.0\n",
      "test score = 1.0\n",
      "the mse is 7.496081553537646e-29\n",
      "the r2 score is: 1.0\n",
      "\n",
      "\n",
      "boosting the trees.....\n",
      "the training score is 0.999999\n",
      "the validation score is 0.999999\n",
      "the mse is 0.000004\n",
      "the r2 score is: 0.999999\n",
      "\n",
      "\n",
      "\n",
      "-----Analyzing nor4 gates-----\n",
      "\n",
      "Doing Ridge Regression.....\n",
      "training score =  0.6952178742249657\n",
      "test score = 0.6707271873025533\n",
      "\n",
      "\n",
      "doing RF.....\n",
      "trainig score =  1.0\n",
      "test score = 1.0\n",
      "the mse is 6.300766986734008e-29\n",
      "the r2 score is: 1.0\n",
      "\n",
      "\n",
      "boosting the trees.....\n",
      "the training score is 1.000000\n",
      "the validation score is 1.000000\n",
      "the mse is 0.000001\n",
      "the r2 score is: 1.000000\n",
      "\n",
      "\n",
      "\n"
     ]
    }
   ],
   "source": [
    "for gate_type in gate_dict.keys(): train_models(gate_type, random_state=123)"
   ]
  },
  {
   "cell_type": "markdown",
   "metadata": {},
   "source": [
    "All of the R2 scores for Random forests and Gradient boosted trees are showing 1 and the training and validation scores are all perfect......"
   ]
  },
  {
   "cell_type": "code",
   "execution_count": null,
   "metadata": {},
   "outputs": [],
   "source": []
  }
 ],
 "metadata": {
  "kernelspec": {
   "display_name": "Python 3 (ipykernel)",
   "language": "python",
   "name": "python3"
  }
 },
 "nbformat": 4,
 "nbformat_minor": 4
}
