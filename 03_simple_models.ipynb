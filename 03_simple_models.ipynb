{
 "cells": [
  {
   "cell_type": "code",
   "execution_count": null,
   "metadata": {},
   "outputs": [],
   "source": [
    "from sklearn.preprocessing import StandardScaler\n",
    "from sklearn.linear_model import Ridge\n",
    "from sklearn.ensemble import RandomForestRegressor \n",
    "from sklearn.metrics import mean_squared_error, r2_score\n",
    "from sklearn.model_selection import train_test_split\n",
    "import pandas as pd\n",
    "import numpy as np\n",
    "import xgboost as xgb"
   ]
  },
  {
   "cell_type": "code",
   "execution_count": null,
   "metadata": {},
   "outputs": [
    {
     "data": {
      "text/html": [
       "<div>\n",
       "<style scoped>\n",
       "    .dataframe tbody tr th:only-of-type {\n",
       "        vertical-align: middle;\n",
       "    }\n",
       "\n",
       "    .dataframe tbody tr th {\n",
       "        vertical-align: top;\n",
       "    }\n",
       "\n",
       "    .dataframe thead th {\n",
       "        text-align: right;\n",
       "    }\n",
       "</style>\n",
       "<table border=\"1\" class=\"dataframe\">\n",
       "  <thead>\n",
       "    <tr style=\"text-align: right;\">\n",
       "      <th></th>\n",
       "      <th>gate_type</th>\n",
       "      <th>voltage</th>\n",
       "      <th>thickness</th>\n",
       "      <th>clock_cycle</th>\n",
       "      <th>t_rise</th>\n",
       "      <th>t_fall</th>\n",
       "      <th>t_delay</th>\n",
       "    </tr>\n",
       "  </thead>\n",
       "  <tbody>\n",
       "    <tr>\n",
       "      <th>0</th>\n",
       "      <td>buffer</td>\n",
       "      <td>0.3</td>\n",
       "      <td>0.1</td>\n",
       "      <td>100</td>\n",
       "      <td>3.131324e-12</td>\n",
       "      <td>3.17279e-12</td>\n",
       "      <td>9.921646e-12</td>\n",
       "    </tr>\n",
       "    <tr>\n",
       "      <th>1</th>\n",
       "      <td>buffer</td>\n",
       "      <td>0.4</td>\n",
       "      <td>0.1</td>\n",
       "      <td>100</td>\n",
       "      <td>8.473565e-13</td>\n",
       "      <td>1.456597e-12</td>\n",
       "      <td>7.269524e-12</td>\n",
       "    </tr>\n",
       "  </tbody>\n",
       "</table>\n",
       "</div>"
      ],
      "text/plain": [
       "  gate_type  voltage  thickness  clock_cycle        t_rise        t_fall  \\\n",
       "0    buffer      0.3        0.1          100  3.131324e-12   3.17279e-12   \n",
       "1    buffer      0.4        0.1          100  8.473565e-13  1.456597e-12   \n",
       "\n",
       "        t_delay  \n",
       "0  9.921646e-12  \n",
       "1  7.269524e-12  "
      ]
     },
     "execution_count": null,
     "metadata": {},
     "output_type": "execute_result"
    }
   ],
   "source": [
    "df = pd.read_csv('data/run1.csv')\n",
    "df.head(2)"
   ]
  },
  {
   "cell_type": "code",
   "execution_count": null,
   "metadata": {},
   "outputs": [
    {
     "data": {
      "text/plain": [
       "36"
      ]
     },
     "execution_count": null,
     "metadata": {},
     "output_type": "execute_result"
    }
   ],
   "source": [
    "#these are the bad t_fall values in nand4 that need to be dropped\n",
    "nand4_drop_idxs = ((df['gate_type'] == 'nand4') & (df['t_fall'] == ' FAILED')).values\n",
    "nand4_drop_idxs.sum()"
   ]
  },
  {
   "cell_type": "code",
   "execution_count": null,
   "metadata": {},
   "outputs": [
    {
     "data": {
      "text/plain": [
       "(11304, 7)"
      ]
     },
     "execution_count": null,
     "metadata": {},
     "output_type": "execute_result"
    }
   ],
   "source": [
    "df = df.loc[~nand4_drop_idxs].reset_index(drop=True)\n",
    "df.shape"
   ]
  },
  {
   "cell_type": "code",
   "execution_count": null,
   "metadata": {},
   "outputs": [],
   "source": [
    "def get_gate(gate_type='buffer'): return df[df.gate_type == gate_type]"
   ]
  },
  {
   "cell_type": "code",
   "execution_count": null,
   "metadata": {},
   "outputs": [
    {
     "data": {
      "text/plain": [
       "['buffer',\n",
       " 'inv_x1',\n",
       " 'inv_x2',\n",
       " 'inv_x4',\n",
       " 'nand2',\n",
       " 'nand3',\n",
       " 'nand4',\n",
       " 'nor2',\n",
       " 'nor3',\n",
       " 'nor4']"
      ]
     },
     "execution_count": null,
     "metadata": {},
     "output_type": "execute_result"
    }
   ],
   "source": [
    "unique_gates = list(df.gate_type.unique())\n",
    "unique_gates"
   ]
  },
  {
   "cell_type": "code",
   "execution_count": null,
   "metadata": {},
   "outputs": [],
   "source": [
    "def get_gate_xy(gate_type='buffer'):\n",
    "    y_drop = 't_fall' if gate_type=='buffer' else 't_rise'\n",
    "    df = get_gate(gate_type)\n",
    "    x_cols = ['clock_cycle', 'thickness', 'voltage']\n",
    "    y_cols = ['t_delay', 't_rise', 't_fall']\n",
    "    y_cols.remove(y_drop)\n",
    "    x = np.vstack(df[x_cols].values).astype('float')\n",
    "    y = np.vstack(np.vstack(df[y_cols].values)).astype('float')\n",
    "    return x, y"
   ]
  },
  {
   "cell_type": "code",
   "execution_count": null,
   "metadata": {},
   "outputs": [
    {
     "data": {
      "text/plain": [
       "((1134, 3), (1134, 2))"
      ]
     },
     "execution_count": null,
     "metadata": {},
     "output_type": "execute_result"
    }
   ],
   "source": [
    "x, y = get_gate_xy('nor3')\n",
    "x.shape, y.shape"
   ]
  },
  {
   "cell_type": "code",
   "execution_count": null,
   "metadata": {},
   "outputs": [
    {
     "data": {
      "text/plain": [
       "{'buffer': None,\n",
       " 'inv_x1': None,\n",
       " 'inv_x2': None,\n",
       " 'inv_x4': None,\n",
       " 'nand2': None,\n",
       " 'nand3': None,\n",
       " 'nand4': None,\n",
       " 'nor2': None,\n",
       " 'nor3': None,\n",
       " 'nor4': None}"
      ]
     },
     "execution_count": null,
     "metadata": {},
     "output_type": "execute_result"
    }
   ],
   "source": [
    "gate_dict = dict.fromkeys(unique_gates)\n",
    "gate_dict"
   ]
  },
  {
   "cell_type": "code",
   "execution_count": null,
   "metadata": {},
   "outputs": [],
   "source": [
    "for gate in unique_gates: \n",
    "    gate_dict[gate] = get_gate_xy(gate_type=gate)"
   ]
  },
  {
   "cell_type": "code",
   "execution_count": null,
   "metadata": {},
   "outputs": [],
   "source": [
    "def ridge_reg(x_train, y_train, x_valid, y_valid):\n",
    "    print('Doing Ridge Regression.....')\n",
    "    ridge = Ridge(alpha = 1)\n",
    "    ridge.fit(x_train, y_train)\n",
    "    print('training score = ', ridge.score(x_train, y_train))\n",
    "    y_pred_ridge = ridge.predict(x_valid)\n",
    "    mse_ridge = mean_squared_error(y_valid, y_pred_ridge) \n",
    "    print('test score =', ridge.score(x_valid, y_valid)) \n",
    "\n",
    "def do_rf(x_train, y_train, x_valid, y_valid):\n",
    "    print('\\n\\ndoing RF.....')\n",
    "    y_train = y_train / y_train.min()\n",
    "    y_valid = y_valid / y_valid.min()\n",
    "    RF = RandomForestRegressor(max_depth=100, random_state=0)\n",
    "    RF.fit(x_train, y_train)\n",
    "    print('trainig score = ', RF.score(x_train, y_train))\n",
    "    y_pred = RF.predict(x_valid)\n",
    "    mse = mean_squared_error(y_valid, y_pred)\n",
    "    r2 = r2_score(y_valid, y_pred) # coefficient of determination\n",
    "    print('test score =', RF.score(x_valid, y_valid))\n",
    "    print(f'the mse is {mse}')\n",
    "    print(f\"the r2 score is: {r2}\")\n",
    "    return y_pred\n",
    "\n",
    "\n",
    "def do_xgb(x_train, y_train, x_valid, y_valid):\n",
    "    print('\\n\\nboosting the trees.....')\n",
    "    y_train = y_train / y_train.min()\n",
    "    y_valid = y_valid / y_valid.min()\n",
    "    regressor=xgb.XGBRegressor(eval_metric='rmse')\n",
    "    regressor.fit(x_train, y_train)\n",
    "    train_score = regressor.score(x_train, y_train) ** 2 #bc using RMSE\n",
    "    y_pred = regressor.predict(x_valid)\n",
    "    mse = mean_squared_error(y_valid, y_pred)\n",
    "    r2 = r2_score(y_valid, y_pred) # coefficient of determination\n",
    "    valid_score = regressor.score(x_valid, y_valid)\n",
    "\n",
    "    print(f'the training score is {train_score:3f}')    \n",
    "    print(f\"the validation score is {valid_score:3f}\")\n",
    "    print(f'the mse is {mse:3f}')\n",
    "    print(f\"the r2 score is: {r2:3f}\")\n",
    "    return y_pred\n",
    "\n",
    "\n",
    "\n",
    "def train_models(gate_type='buffer', random_state=0):\n",
    "    print(f'-----Analyzing {gate_type} gates-----\\n')\n",
    "    x, y = gate_dict[gate_type]\n",
    "    x_train, x_valid, y_train, y_valid = train_test_split(x, y, \n",
    "                                                        random_state=random_state, \n",
    "                                                        test_size=0.1)    \n",
    "    ridge_reg(x_train, y_train, x_valid, y_valid)\n",
    "    y_pred = do_rf(x_train, y_train, x_valid, y_valid)\n",
    "    _ = do_xgb(x_train, y_train, x_valid, y_valid)\n",
    "    print('\\n\\n')\n",
    "    #return y_pred"
   ]
  },
  {
   "cell_type": "code",
   "execution_count": null,
   "metadata": {},
   "outputs": [
    {
     "data": {
      "text/plain": [
       "((1134, 3), (1134, 2))"
      ]
     },
     "execution_count": null,
     "metadata": {},
     "output_type": "execute_result"
    }
   ],
   "source": [
    "x, y = gate_dict['buffer']\n",
    "x.shape, y.shape"
   ]
  },
  {
   "cell_type": "code",
   "execution_count": null,
   "metadata": {},
   "outputs": [
    {
     "name": "stdout",
     "output_type": "stream",
     "text": [
      "-----Analyzing buffer gates-----\n",
      "\n",
      "Doing Ridge Regression.....\n",
      "training score =  0.6868883807464006\n",
      "test score = 0.7054164133458096\n",
      "\n",
      "\n",
      "doing RF.....\n",
      "trainig score =  1.0\n",
      "test score = 1.0\n",
      "the mse is 1.5906988750755812e-27\n",
      "the r2 score is: 1.0\n",
      "\n",
      "\n",
      "boosting the trees.....\n",
      "the training score is 0.999999\n",
      "the validation score is 1.000000\n",
      "the mse is 0.000005\n",
      "the r2 score is: 1.000000\n",
      "\n",
      "\n",
      "\n"
     ]
    }
   ],
   "source": [
    "train_models('buffer', random_state=123)"
   ]
  },
  {
   "cell_type": "code",
   "execution_count": null,
   "metadata": {},
   "outputs": [
    {
     "name": "stdout",
     "output_type": "stream",
     "text": [
      "-----Analyzing buffer gates-----\n",
      "\n",
      "Doing Ridge Regression.....\n",
      "training score =  0.6868883807464006\n",
      "test score = 0.7054164133458096\n",
      "\n",
      "\n",
      "doing RF.....\n",
      "trainig score =  1.0\n",
      "test score = 1.0\n",
      "the mse is 1.5906988750755812e-27\n",
      "the r2 score is: 1.0\n",
      "\n",
      "\n",
      "boosting the trees.....\n",
      "the training score is 0.999999\n",
      "the validation score is 1.000000\n",
      "the mse is 0.000005\n",
      "the r2 score is: 1.000000\n",
      "\n",
      "\n",
      "\n",
      "-----Analyzing inv_x1 gates-----\n",
      "\n",
      "Doing Ridge Regression.....\n",
      "training score =  0.7802399691292567\n",
      "test score = 0.7843436443699999\n",
      "\n",
      "\n",
      "doing RF.....\n",
      "trainig score =  1.0\n",
      "test score = 1.0\n",
      "the mse is 1.565594803982376e-28\n",
      "the r2 score is: 1.0\n",
      "\n",
      "\n",
      "boosting the trees.....\n",
      "the training score is 1.000000\n",
      "the validation score is 1.000000\n",
      "the mse is 0.000005\n",
      "the r2 score is: 1.000000\n",
      "\n",
      "\n",
      "\n",
      "-----Analyzing inv_x2 gates-----\n",
      "\n",
      "Doing Ridge Regression.....\n",
      "training score =  0.7799249311934082\n",
      "test score = 0.7837168811482245\n",
      "\n",
      "\n",
      "doing RF.....\n",
      "trainig score =  1.0\n",
      "test score = 1.0\n",
      "the mse is 1.7518788573822228e-28\n",
      "the r2 score is: 1.0\n",
      "\n",
      "\n",
      "boosting the trees.....\n",
      "the training score is 1.000000\n",
      "the validation score is 1.000000\n",
      "the mse is 0.000005\n",
      "the r2 score is: 1.000000\n",
      "\n",
      "\n",
      "\n",
      "-----Analyzing inv_x4 gates-----\n",
      "\n",
      "Doing Ridge Regression.....\n",
      "training score =  0.7798294568543719\n",
      "test score = 0.7836357804550848\n",
      "\n",
      "\n",
      "doing RF.....\n",
      "trainig score =  1.0\n",
      "test score = 1.0\n",
      "the mse is 1.3421123259892951e-28\n",
      "the r2 score is: 1.0\n",
      "\n",
      "\n",
      "boosting the trees.....\n",
      "the training score is 1.000000\n",
      "the validation score is 1.000000\n",
      "the mse is 0.000003\n",
      "the r2 score is: 1.000000\n",
      "\n",
      "\n",
      "\n",
      "-----Analyzing nand2 gates-----\n",
      "\n",
      "Doing Ridge Regression.....\n",
      "training score =  0.7995810321356629\n",
      "test score = 0.8026050929841728\n",
      "\n",
      "\n",
      "doing RF.....\n",
      "trainig score =  1.0\n",
      "test score = 1.0\n",
      "the mse is 7.773199220763722e-29\n",
      "the r2 score is: 1.0\n",
      "\n",
      "\n",
      "boosting the trees.....\n",
      "the training score is 0.999999\n",
      "the validation score is 0.999999\n",
      "the mse is 0.000002\n",
      "the r2 score is: 0.999999\n",
      "\n",
      "\n",
      "\n",
      "-----Analyzing nand3 gates-----\n",
      "\n",
      "Doing Ridge Regression.....\n",
      "training score =  0.8919640763288441\n",
      "test score = 0.9145216248256681\n",
      "\n",
      "\n",
      "doing RF.....\n",
      "trainig score =  1.0\n",
      "test score = 1.0\n",
      "the mse is 6.574186868466862e-29\n",
      "the r2 score is: 1.0\n",
      "\n",
      "\n",
      "boosting the trees.....\n",
      "the training score is 0.999999\n",
      "the validation score is 1.000000\n",
      "the mse is 0.000001\n",
      "the r2 score is: 1.000000\n",
      "\n",
      "\n",
      "\n",
      "-----Analyzing nand4 gates-----\n",
      "\n",
      "Doing Ridge Regression.....\n",
      "training score =  0.7968688962218908\n",
      "test score = 0.7666050046565149\n",
      "\n",
      "\n",
      "doing RF.....\n",
      "trainig score =  1.0\n",
      "test score = 1.0\n",
      "the mse is 2.7017813679184523e-29\n",
      "the r2 score is: 1.0\n",
      "\n",
      "\n",
      "boosting the trees.....\n",
      "the training score is 0.999999\n",
      "the validation score is 0.999999\n",
      "the mse is 0.000002\n",
      "the r2 score is: 0.999999\n",
      "\n",
      "\n",
      "\n",
      "-----Analyzing nor2 gates-----\n",
      "\n",
      "Doing Ridge Regression.....\n",
      "training score =  0.7250057718960236\n",
      "test score = 0.7123760204238995\n",
      "\n",
      "\n",
      "doing RF.....\n",
      "trainig score =  1.0\n",
      "test score = 1.0\n",
      "the mse is 1.0321773531227745e-28\n",
      "the r2 score is: 1.0\n",
      "\n",
      "\n",
      "boosting the trees.....\n",
      "the training score is 1.000000\n",
      "the validation score is 1.000000\n",
      "the mse is 0.000003\n",
      "the r2 score is: 1.000000\n",
      "\n",
      "\n",
      "\n",
      "-----Analyzing nor3 gates-----\n",
      "\n",
      "Doing Ridge Regression.....\n",
      "training score =  0.7000154431846628\n",
      "test score = 0.6765321213832951\n",
      "\n",
      "\n",
      "doing RF.....\n",
      "trainig score =  1.0\n",
      "test score = 1.0\n",
      "the mse is 7.496081553537646e-29\n",
      "the r2 score is: 1.0\n",
      "\n",
      "\n",
      "boosting the trees.....\n",
      "the training score is 0.999999\n",
      "the validation score is 0.999999\n",
      "the mse is 0.000004\n",
      "the r2 score is: 0.999999\n",
      "\n",
      "\n",
      "\n",
      "-----Analyzing nor4 gates-----\n",
      "\n",
      "Doing Ridge Regression.....\n",
      "training score =  0.6952178742249657\n",
      "test score = 0.6707271873025533\n",
      "\n",
      "\n",
      "doing RF.....\n",
      "trainig score =  1.0\n",
      "test score = 1.0\n",
      "the mse is 6.300766986734008e-29\n",
      "the r2 score is: 1.0\n",
      "\n",
      "\n",
      "boosting the trees.....\n",
      "the training score is 1.000000\n",
      "the validation score is 1.000000\n",
      "the mse is 0.000001\n",
      "the r2 score is: 1.000000\n",
      "\n",
      "\n",
      "\n"
     ]
    },
    {
     "data": {
      "text/plain": [
       "[None, None, None, None, None, None, None, None, None, None]"
      ]
     },
     "execution_count": null,
     "metadata": {},
     "output_type": "execute_result"
    }
   ],
   "source": [
    "[train_models(gate_type, random_state=123) for gate_type in gate_dict.keys() ]"
   ]
  }
 ],
 "metadata": {
  "kernelspec": {
   "display_name": "Python 3 (ipykernel)",
   "language": "python",
   "name": "python3"
  }
 },
 "nbformat": 4,
 "nbformat_minor": 4
}
