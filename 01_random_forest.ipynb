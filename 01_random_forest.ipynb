{
 "cells": [
  {
   "cell_type": "code",
   "execution_count": null,
   "metadata": {},
   "outputs": [],
   "source": [
    "import pandas as pd\n",
    "import numpy as np"
   ]
  },
  {
   "cell_type": "code",
   "execution_count": null,
   "metadata": {},
   "outputs": [
    {
     "data": {
      "text/html": [
       "<div>\n",
       "<style scoped>\n",
       "    .dataframe tbody tr th:only-of-type {\n",
       "        vertical-align: middle;\n",
       "    }\n",
       "\n",
       "    .dataframe tbody tr th {\n",
       "        vertical-align: top;\n",
       "    }\n",
       "\n",
       "    .dataframe thead th {\n",
       "        text-align: right;\n",
       "    }\n",
       "</style>\n",
       "<table border=\"1\" class=\"dataframe\">\n",
       "  <thead>\n",
       "    <tr style=\"text-align: right;\">\n",
       "      <th></th>\n",
       "      <th>gate_type</th>\n",
       "      <th>voltage</th>\n",
       "      <th>thickness</th>\n",
       "      <th>clock_cycle</th>\n",
       "      <th>t_rise</th>\n",
       "      <th>t_fall</th>\n",
       "      <th>t_delay</th>\n",
       "    </tr>\n",
       "  </thead>\n",
       "  <tbody>\n",
       "    <tr>\n",
       "      <th>0</th>\n",
       "      <td>buffer</td>\n",
       "      <td>0.3</td>\n",
       "      <td>0.1</td>\n",
       "      <td>100</td>\n",
       "      <td>3.131324e-12</td>\n",
       "      <td>3.17279e-12</td>\n",
       "      <td>9.921646e-12</td>\n",
       "    </tr>\n",
       "    <tr>\n",
       "      <th>1</th>\n",
       "      <td>buffer</td>\n",
       "      <td>0.4</td>\n",
       "      <td>0.1</td>\n",
       "      <td>100</td>\n",
       "      <td>8.473565e-13</td>\n",
       "      <td>1.456597e-12</td>\n",
       "      <td>7.269524e-12</td>\n",
       "    </tr>\n",
       "  </tbody>\n",
       "</table>\n",
       "</div>"
      ],
      "text/plain": [
       "  gate_type  voltage  thickness  clock_cycle        t_rise        t_fall  \\\n",
       "0    buffer      0.3        0.1          100  3.131324e-12   3.17279e-12   \n",
       "1    buffer      0.4        0.1          100  8.473565e-13  1.456597e-12   \n",
       "\n",
       "        t_delay  \n",
       "0  9.921646e-12  \n",
       "1  7.269524e-12  "
      ]
     },
     "execution_count": null,
     "metadata": {},
     "output_type": "execute_result"
    }
   ],
   "source": [
    "df = pd.read_csv('data/run1.csv')\n",
    "df.head(2)"
   ]
  },
  {
   "cell_type": "code",
   "execution_count": null,
   "metadata": {},
   "outputs": [],
   "source": [
    "def get_gate(gate_type='buffer'): return df[df.gate_type == gate_type]"
   ]
  },
  {
   "cell_type": "code",
   "execution_count": null,
   "metadata": {},
   "outputs": [
    {
     "data": {
      "text/html": [
       "<div>\n",
       "<style scoped>\n",
       "    .dataframe tbody tr th:only-of-type {\n",
       "        vertical-align: middle;\n",
       "    }\n",
       "\n",
       "    .dataframe tbody tr th {\n",
       "        vertical-align: top;\n",
       "    }\n",
       "\n",
       "    .dataframe thead th {\n",
       "        text-align: right;\n",
       "    }\n",
       "</style>\n",
       "<table border=\"1\" class=\"dataframe\">\n",
       "  <thead>\n",
       "    <tr style=\"text-align: right;\">\n",
       "      <th></th>\n",
       "      <th>gate_type</th>\n",
       "      <th>voltage</th>\n",
       "      <th>thickness</th>\n",
       "      <th>clock_cycle</th>\n",
       "      <th>t_rise</th>\n",
       "      <th>t_fall</th>\n",
       "      <th>t_delay</th>\n",
       "    </tr>\n",
       "  </thead>\n",
       "  <tbody>\n",
       "    <tr>\n",
       "      <th>0</th>\n",
       "      <td>buffer</td>\n",
       "      <td>0.3</td>\n",
       "      <td>0.1</td>\n",
       "      <td>100</td>\n",
       "      <td>3.131324e-12</td>\n",
       "      <td>3.17279e-12</td>\n",
       "      <td>9.921646e-12</td>\n",
       "    </tr>\n",
       "    <tr>\n",
       "      <th>1</th>\n",
       "      <td>buffer</td>\n",
       "      <td>0.4</td>\n",
       "      <td>0.1</td>\n",
       "      <td>100</td>\n",
       "      <td>8.473565e-13</td>\n",
       "      <td>1.456597e-12</td>\n",
       "      <td>7.269524e-12</td>\n",
       "    </tr>\n",
       "    <tr>\n",
       "      <th>2</th>\n",
       "      <td>buffer</td>\n",
       "      <td>0.5</td>\n",
       "      <td>0.1</td>\n",
       "      <td>100</td>\n",
       "      <td>5.938628e-13</td>\n",
       "      <td>1.375314e-12</td>\n",
       "      <td>6.446369e-12</td>\n",
       "    </tr>\n",
       "    <tr>\n",
       "      <th>3</th>\n",
       "      <td>buffer</td>\n",
       "      <td>0.6</td>\n",
       "      <td>0.1</td>\n",
       "      <td>100</td>\n",
       "      <td>5.413394e-13</td>\n",
       "      <td>1.283254e-12</td>\n",
       "      <td>6.067873e-12</td>\n",
       "    </tr>\n",
       "    <tr>\n",
       "      <th>4</th>\n",
       "      <td>buffer</td>\n",
       "      <td>0.7</td>\n",
       "      <td>0.1</td>\n",
       "      <td>100</td>\n",
       "      <td>5.900118e-13</td>\n",
       "      <td>1.28435e-12</td>\n",
       "      <td>5.955801e-12</td>\n",
       "    </tr>\n",
       "    <tr>\n",
       "      <th>...</th>\n",
       "      <td>...</td>\n",
       "      <td>...</td>\n",
       "      <td>...</td>\n",
       "      <td>...</td>\n",
       "      <td>...</td>\n",
       "      <td>...</td>\n",
       "      <td>...</td>\n",
       "    </tr>\n",
       "    <tr>\n",
       "      <th>1129</th>\n",
       "      <td>buffer</td>\n",
       "      <td>0.5</td>\n",
       "      <td>9.0</td>\n",
       "      <td>900</td>\n",
       "      <td>2.104876e-12</td>\n",
       "      <td>FAILED</td>\n",
       "      <td>2.848981e-11</td>\n",
       "    </tr>\n",
       "    <tr>\n",
       "      <th>1130</th>\n",
       "      <td>buffer</td>\n",
       "      <td>0.6</td>\n",
       "      <td>9.0</td>\n",
       "      <td>900</td>\n",
       "      <td>2.209573e-12</td>\n",
       "      <td>FAILED</td>\n",
       "      <td>3.062062e-11</td>\n",
       "    </tr>\n",
       "    <tr>\n",
       "      <th>1131</th>\n",
       "      <td>buffer</td>\n",
       "      <td>0.7</td>\n",
       "      <td>9.0</td>\n",
       "      <td>900</td>\n",
       "      <td>2.736121e-12</td>\n",
       "      <td>FAILED</td>\n",
       "      <td>3.267445e-11</td>\n",
       "    </tr>\n",
       "    <tr>\n",
       "      <th>1132</th>\n",
       "      <td>buffer</td>\n",
       "      <td>0.8</td>\n",
       "      <td>9.0</td>\n",
       "      <td>900</td>\n",
       "      <td>3.687548e-12</td>\n",
       "      <td>FAILED</td>\n",
       "      <td>3.427408e-11</td>\n",
       "    </tr>\n",
       "    <tr>\n",
       "      <th>1133</th>\n",
       "      <td>buffer</td>\n",
       "      <td>0.9</td>\n",
       "      <td>9.0</td>\n",
       "      <td>900</td>\n",
       "      <td>4.699609e-12</td>\n",
       "      <td>FAILED</td>\n",
       "      <td>3.542105e-11</td>\n",
       "    </tr>\n",
       "  </tbody>\n",
       "</table>\n",
       "<p>1134 rows × 7 columns</p>\n",
       "</div>"
      ],
      "text/plain": [
       "     gate_type  voltage  thickness  clock_cycle        t_rise        t_fall  \\\n",
       "0       buffer      0.3        0.1          100  3.131324e-12   3.17279e-12   \n",
       "1       buffer      0.4        0.1          100  8.473565e-13  1.456597e-12   \n",
       "2       buffer      0.5        0.1          100  5.938628e-13  1.375314e-12   \n",
       "3       buffer      0.6        0.1          100  5.413394e-13  1.283254e-12   \n",
       "4       buffer      0.7        0.1          100  5.900118e-13   1.28435e-12   \n",
       "...        ...      ...        ...          ...           ...           ...   \n",
       "1129    buffer      0.5        9.0          900  2.104876e-12        FAILED   \n",
       "1130    buffer      0.6        9.0          900  2.209573e-12        FAILED   \n",
       "1131    buffer      0.7        9.0          900  2.736121e-12        FAILED   \n",
       "1132    buffer      0.8        9.0          900  3.687548e-12        FAILED   \n",
       "1133    buffer      0.9        9.0          900  4.699609e-12        FAILED   \n",
       "\n",
       "           t_delay  \n",
       "0     9.921646e-12  \n",
       "1     7.269524e-12  \n",
       "2     6.446369e-12  \n",
       "3     6.067873e-12  \n",
       "4     5.955801e-12  \n",
       "...            ...  \n",
       "1129  2.848981e-11  \n",
       "1130  3.062062e-11  \n",
       "1131  3.267445e-11  \n",
       "1132  3.427408e-11  \n",
       "1133  3.542105e-11  \n",
       "\n",
       "[1134 rows x 7 columns]"
      ]
     },
     "execution_count": null,
     "metadata": {},
     "output_type": "execute_result"
    }
   ],
   "source": [
    "get_gate()"
   ]
  },
  {
   "cell_type": "code",
   "execution_count": null,
   "metadata": {},
   "outputs": [
    {
     "data": {
      "text/plain": [
       "['buffer',\n",
       " 'inv_x1',\n",
       " 'inv_x2',\n",
       " 'inv_x4',\n",
       " 'nand2',\n",
       " 'nand3',\n",
       " 'nand4',\n",
       " 'nor2',\n",
       " 'nor3',\n",
       " 'nor4']"
      ]
     },
     "execution_count": null,
     "metadata": {},
     "output_type": "execute_result"
    }
   ],
   "source": [
    "unique_gates = list(df.gate_type.unique())\n",
    "unique_gates"
   ]
  },
  {
   "cell_type": "code",
   "execution_count": null,
   "metadata": {},
   "outputs": [],
   "source": [
    "def get_gate_xy(df, gate_type='buffer'):\n",
    "    x = np.vstack([df.clock_cycle, df.thickness, df.voltage]).T\n",
    "    y = np.vstack([df.t_delay, df.t_fall, df.t_rise]).T\n",
    "    return x, y"
   ]
  },
  {
   "cell_type": "code",
   "execution_count": null,
   "metadata": {},
   "outputs": [
    {
     "data": {
      "text/plain": [
       "((11340, 3), (11340, 3))"
      ]
     },
     "execution_count": null,
     "metadata": {},
     "output_type": "execute_result"
    }
   ],
   "source": [
    "x, y = get_gate_xy(df)\n",
    "x.shape, y.shape"
   ]
  },
  {
   "cell_type": "code",
   "execution_count": null,
   "metadata": {},
   "outputs": [
    {
     "data": {
      "text/plain": [
       "((2268, 7), (11340, 7), (11340, 7))"
      ]
     },
     "execution_count": null,
     "metadata": {},
     "output_type": "execute_result"
    }
   ],
   "source": [
    "df[df.t_rise != ' FAILED'].shape, df[df.t_delay != ' FAILED'].shape, df.shape"
   ]
  },
  {
   "cell_type": "code",
   "execution_count": null,
   "metadata": {},
   "outputs": [
    {
     "data": {
      "text/plain": [
       "{'buffer': None,\n",
       " 'inv_x1': None,\n",
       " 'inv_x2': None,\n",
       " 'inv_x4': None,\n",
       " 'nand2': None,\n",
       " 'nand3': None,\n",
       " 'nand4': None,\n",
       " 'nor2': None,\n",
       " 'nor3': None,\n",
       " 'nor4': None}"
      ]
     },
     "execution_count": null,
     "metadata": {},
     "output_type": "execute_result"
    }
   ],
   "source": [
    "gate_dict = dict.fromkeys(unique_gates)\n",
    "gate_dict"
   ]
  },
  {
   "cell_type": "code",
   "execution_count": null,
   "metadata": {},
   "outputs": [],
   "source": [
    "for gate in unique_gates: \n",
    "    gate_dict[gate] = get_xy_df(df, gate_type=gate)"
   ]
  },
  {
   "cell_type": "code",
   "execution_count": null,
   "metadata": {},
   "outputs": [
    {
     "data": {
      "text/plain": [
       "(11340, 3)"
      ]
     },
     "execution_count": null,
     "metadata": {},
     "output_type": "execute_result"
    }
   ],
   "source": [
    "gate_dict['buffer'][0].shape"
   ]
  },
  {
   "cell_type": "code",
   "execution_count": null,
   "metadata": {},
   "outputs": [],
   "source": [
    "from sklearn.preprocessing import StandardScaler\n",
    "from sklearn.linear_model import Ridge\n",
    "from sklearn.ensemble import RandomForestRegressor \n",
    "from sklearn.metrics import mean_squared_error, r2_score\n",
    "from sklearn.model_selection import train_test_split"
   ]
  },
  {
   "cell_type": "code",
   "execution_count": null,
   "metadata": {},
   "outputs": [],
   "source": [
    "def ridge_reg(x_train, y_train, x_valid, y_valid):\n",
    "    print('Doing Ridge Regression.....')\n",
    "    ridge = Ridge(alpha = 1)\n",
    "    ridge.fit(x_train, y_train)\n",
    "    print('training score = ', ridge.score(x_train, y_train))\n",
    "    y_pred_ridge = ridge.predict(x_valid)\n",
    "    mse_ridge = mean_squared_error(y_valid, y_pred_ridge) \n",
    "    print('test score =', ridge.score(x_valid, y_valid)) \n",
    "\n",
    "def do_rf(x_train, y_train, x_valid, y_valid):\n",
    "    print('\\n\\ndoing RF.....')\n",
    "    RF = RandomForestRegressor(max_depth=100, random_state=0)\n",
    "    RF.fit(x_train, y_train)\n",
    "    print('trainig score = ', RF.score(x_train, y_train))\n",
    "    y_pred = RF.predict(x_valid)\n",
    "    mse = mean_squared_error(y_valid, y_pred)\n",
    "    r2 = r2_score(y_valid, y_pred) # coefficient of determination\n",
    "    print('test score =', RF.score(x_valid, y_valid))\n",
    "    print(f'the mse is {mse}')\n",
    "    print(f\"the r2 score is: {r2}\")\n",
    "    return y_pred\n",
    "\n",
    "def train_models(x, y, random_state=0):\n",
    "    x_train, x_valid, y_train, y_valid = train_test_split(x, y, \n",
    "                                                        random_state=random_state, \n",
    "                                                        test_size=0.1)    \n",
    "    ridge_reg(x_train, y_train, x_valid, y_valid)\n",
    "    y_pred = do_rf(x_train, y_train, x_valid, y_valid)\n",
    "    return y_pred"
   ]
  },
  {
   "cell_type": "markdown",
   "metadata": {},
   "source": [
    "### Lets start with our Buffer circuit"
   ]
  },
  {
   "cell_type": "code",
   "execution_count": null,
   "metadata": {},
   "outputs": [
    {
     "name": "stdout",
     "output_type": "stream",
     "text": [
      "Doing Ridge Regression.....\n",
      "training score =  0.9167102409624371\n",
      "test score = 0.8967879854390292\n",
      "\n",
      "\n",
      "doing RF.....\n",
      "trainig score =  -3.6984307936194227e-06\n",
      "test score = -0.0005074970005255105\n",
      "the mse is 4.938222597074191e-23\n"
     ]
    }
   ],
   "source": [
    "_ = train_models(X_buffer, y_buffer, random_state=123)"
   ]
  },
  {
   "cell_type": "markdown",
   "metadata": {},
   "source": [
    "### Inverter"
   ]
  },
  {
   "cell_type": "code",
   "execution_count": null,
   "metadata": {},
   "outputs": [
    {
     "name": "stdout",
     "output_type": "stream",
     "text": [
      "Doing Ridge Regression.....\n",
      "training score =  0.9068440076824577\n",
      "test score = 0.9137210104799065\n",
      "\n",
      "\n",
      "doing RF.....\n",
      "trainig score =  -8.346795311882834e-06\n",
      "test score = -0.01963368652833042\n",
      "the mse is 4.9345836306404944e-23\n"
     ]
    }
   ],
   "source": [
    "_ = train_models(X_inverter, y_inverter, random_state=0)"
   ]
  },
  {
   "cell_type": "markdown",
   "metadata": {},
   "source": [
    "### Nand"
   ]
  },
  {
   "cell_type": "code",
   "execution_count": null,
   "metadata": {},
   "outputs": [
    {
     "name": "stdout",
     "output_type": "stream",
     "text": [
      "Doing Ridge Regression.....\n",
      "training score =  0.8901950211342888\n",
      "test score = 0.8801793859431911\n",
      "\n",
      "\n",
      "doing RF.....\n",
      "trainig score =  -8.62405818091716e-06\n",
      "test score = -0.0011959744121536147\n",
      "the mse is 4.134560228860396e-23\n"
     ]
    }
   ],
   "source": [
    "_ = train_models(X_nand, y_nand, random_state=1)"
   ]
  },
  {
   "cell_type": "markdown",
   "metadata": {},
   "source": [
    "### Nor"
   ]
  },
  {
   "cell_type": "code",
   "execution_count": null,
   "metadata": {},
   "outputs": [
    {
     "name": "stdout",
     "output_type": "stream",
     "text": [
      "Doing Ridge Regression.....\n",
      "training score =  0.8899918684137367\n",
      "test score = 0.898750119906659\n",
      "\n",
      "\n",
      "doing RF.....\n",
      "trainig score =  -9.065795662843712e-06\n",
      "test score = -0.018704305257992344\n",
      "the mse is 3.088929916154021e-23\n"
     ]
    }
   ],
   "source": [
    "_ = train_models(X_nor, y_nor)"
   ]
  },
  {
   "cell_type": "markdown",
   "metadata": {},
   "source": [
    "# Normalizing the dependent variable helps?\n",
    "\n",
    "Looks like things are not working as expected out of the box! Normally you do not need to do much with the data with a random-forest-classifier. but apparently this is not the case with regressors....."
   ]
  },
  {
   "cell_type": "code",
   "execution_count": null,
   "metadata": {},
   "outputs": [
    {
     "name": "stdout",
     "output_type": "stream",
     "text": [
      "Doing Ridge Regression.....\n",
      "training score =  0.889991868413737\n",
      "test score = 0.8987501199066591\n",
      "\n",
      "\n",
      "doing RF.....\n",
      "trainig score =  0.9994965217624411\n",
      "test score = 0.997362112592557\n",
      "the mse is 0.001056661204020164\n",
      "the r2 score is: 0.997362112592557\n"
     ]
    }
   ],
   "source": [
    "_ = train_models(X_nor, y_nor/y_nor.min())"
   ]
  },
  {
   "cell_type": "markdown",
   "metadata": {},
   "source": [
    "So by normalizing the dependent values we can replicate the previous Random Forest Model perforamnce...."
   ]
  },
  {
   "cell_type": "code",
   "execution_count": null,
   "metadata": {},
   "outputs": [
    {
     "name": "stdout",
     "output_type": "stream",
     "text": [
      "Doing Ridge Regression.....\n",
      "training score =  0.9151547232450441\n",
      "test score = 0.9096239937163108\n",
      "\n",
      "\n",
      "doing RF.....\n",
      "trainig score =  0.9996718330442516\n",
      "test score = 0.9981174754219625\n",
      "the mse is 0.06108506176995491\n",
      "the r2 score is: 0.9981174754219625\n"
     ]
    }
   ],
   "source": [
    "_ = train_models(X_buffer, y_buffer/y_buffer.min())"
   ]
  },
  {
   "cell_type": "code",
   "execution_count": null,
   "metadata": {},
   "outputs": [
    {
     "name": "stdout",
     "output_type": "stream",
     "text": [
      "Doing Ridge Regression.....\n",
      "training score =  0.9068440076824578\n",
      "test score = 0.9137210104799065\n",
      "\n",
      "\n",
      "doing RF.....\n",
      "trainig score =  0.9995370899090714\n",
      "test score = 0.9973107488297214\n",
      "the mse is 0.18724402530283232\n",
      "the r2 score is: 0.9973107488297214\n"
     ]
    }
   ],
   "source": [
    "_ = train_models(X_inverter, y_inverter / y_inverter.min())"
   ]
  },
  {
   "cell_type": "code",
   "execution_count": null,
   "metadata": {},
   "outputs": [
    {
     "name": "stdout",
     "output_type": "stream",
     "text": [
      "Doing Ridge Regression.....\n",
      "training score =  0.8869122400572241\n",
      "test score = 0.9092443535388508\n",
      "\n",
      "\n",
      "doing RF.....\n",
      "trainig score =  0.9994631916438235\n",
      "test score = 0.9970597571271802\n",
      "the mse is 0.0711064052789472\n",
      "the r2 score is: 0.9970597571271802\n"
     ]
    }
   ],
   "source": [
    "_ = train_models(X_nand, y_nand / y_nand.min())"
   ]
  }
 ],
 "metadata": {
  "kernelspec": {
   "display_name": "Python 3 (ipykernel)",
   "language": "python",
   "name": "python3"
  }
 },
 "nbformat": 4,
 "nbformat_minor": 4
}
