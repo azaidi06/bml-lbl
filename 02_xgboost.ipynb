{
 "cells": [
  {
   "cell_type": "code",
   "execution_count": 1,
   "metadata": {},
   "outputs": [],
   "source": [
    "import pandas as pd\n",
    "import numpy as np"
   ]
  },
  {
   "cell_type": "code",
   "execution_count": 2,
   "metadata": {},
   "outputs": [
    {
     "data": {
      "text/html": [
       "<div>\n",
       "<style scoped>\n",
       "    .dataframe tbody tr th:only-of-type {\n",
       "        vertical-align: middle;\n",
       "    }\n",
       "\n",
       "    .dataframe tbody tr th {\n",
       "        vertical-align: top;\n",
       "    }\n",
       "\n",
       "    .dataframe thead th {\n",
       "        text-align: right;\n",
       "    }\n",
       "</style>\n",
       "<table border=\"1\" class=\"dataframe\">\n",
       "  <thead>\n",
       "    <tr style=\"text-align: right;\">\n",
       "      <th></th>\n",
       "      <th>type</th>\n",
       "      <th>clock_cycle</th>\n",
       "      <th>thickness tFE</th>\n",
       "      <th>Vdd</th>\n",
       "      <th>T_RISE</th>\n",
       "      <th>T_FALL</th>\n",
       "      <th>T_DELAY</th>\n",
       "    </tr>\n",
       "  </thead>\n",
       "  <tbody>\n",
       "    <tr>\n",
       "      <th>0</th>\n",
       "      <td>ncfet_inverter</td>\n",
       "      <td>100ps</td>\n",
       "      <td>0nm</td>\n",
       "      <td>0.3</td>\n",
       "      <td>2.410636e-12</td>\n",
       "      <td>2.278608e-12</td>\n",
       "      <td>4.401267e-12</td>\n",
       "    </tr>\n",
       "    <tr>\n",
       "      <th>1</th>\n",
       "      <td>ncfet_inverter</td>\n",
       "      <td>100ps</td>\n",
       "      <td>0nm</td>\n",
       "      <td>0.4</td>\n",
       "      <td>2.254149e-12</td>\n",
       "      <td>2.258426e-12</td>\n",
       "      <td>2.525869e-12</td>\n",
       "    </tr>\n",
       "  </tbody>\n",
       "</table>\n",
       "</div>"
      ],
      "text/plain": [
       "             type clock_cycle thickness tFE  Vdd       T_RISE        T_FALL   \\\n",
       "0  ncfet_inverter       100ps           0nm  0.3  2.410636e-12  2.278608e-12   \n",
       "1  ncfet_inverter       100ps           0nm  0.4  2.254149e-12  2.258426e-12   \n",
       "\n",
       "       T_DELAY   \n",
       "0  4.401267e-12  \n",
       "1  2.525869e-12  "
      ]
     },
     "execution_count": 2,
     "metadata": {},
     "output_type": "execute_result"
    }
   ],
   "source": [
    "df = pd.read_csv('final.csv')\n",
    "df.head(2)"
   ]
  },
  {
   "cell_type": "code",
   "execution_count": 3,
   "metadata": {},
   "outputs": [
    {
     "data": {
      "text/plain": [
       "array(['100ps', '200ps', '300ps', '400ps', '500ps', '50ps', '600ps',\n",
       "       '700ps', '800ps', '900ps'], dtype=object)"
      ]
     },
     "execution_count": 3,
     "metadata": {},
     "output_type": "execute_result"
    }
   ],
   "source": [
    "df.clock_cycle.unique()"
   ]
  },
  {
   "cell_type": "code",
   "execution_count": 4,
   "metadata": {},
   "outputs": [
    {
     "data": {
      "text/html": [
       "<div>\n",
       "<style scoped>\n",
       "    .dataframe tbody tr th:only-of-type {\n",
       "        vertical-align: middle;\n",
       "    }\n",
       "\n",
       "    .dataframe tbody tr th {\n",
       "        vertical-align: top;\n",
       "    }\n",
       "\n",
       "    .dataframe thead th {\n",
       "        text-align: right;\n",
       "    }\n",
       "</style>\n",
       "<table border=\"1\" class=\"dataframe\">\n",
       "  <thead>\n",
       "    <tr style=\"text-align: right;\">\n",
       "      <th></th>\n",
       "      <th>type</th>\n",
       "      <th>clock_cycle</th>\n",
       "      <th>thickness tFE</th>\n",
       "      <th>Vdd</th>\n",
       "      <th>T_RISE</th>\n",
       "      <th>T_FALL</th>\n",
       "      <th>T_DELAY</th>\n",
       "    </tr>\n",
       "  </thead>\n",
       "  <tbody>\n",
       "    <tr>\n",
       "      <th>0</th>\n",
       "      <td>inverter</td>\n",
       "      <td>100.0</td>\n",
       "      <td>0.0</td>\n",
       "      <td>0.3</td>\n",
       "      <td>2.410636e-12</td>\n",
       "      <td>2.278608e-12</td>\n",
       "      <td>4.401267e-12</td>\n",
       "    </tr>\n",
       "    <tr>\n",
       "      <th>1</th>\n",
       "      <td>inverter</td>\n",
       "      <td>100.0</td>\n",
       "      <td>0.0</td>\n",
       "      <td>0.4</td>\n",
       "      <td>2.254149e-12</td>\n",
       "      <td>2.258426e-12</td>\n",
       "      <td>2.525869e-12</td>\n",
       "    </tr>\n",
       "  </tbody>\n",
       "</table>\n",
       "</div>"
      ],
      "text/plain": [
       "       type  clock_cycle  thickness tFE  Vdd       T_RISE        T_FALL   \\\n",
       "0  inverter        100.0            0.0  0.3  2.410636e-12  2.278608e-12   \n",
       "1  inverter        100.0            0.0  0.4  2.254149e-12  2.258426e-12   \n",
       "\n",
       "       T_DELAY   \n",
       "0  4.401267e-12  \n",
       "1  2.525869e-12  "
      ]
     },
     "execution_count": 4,
     "metadata": {},
     "output_type": "execute_result"
    }
   ],
   "source": [
    "#some cleanup of types for model\n",
    "types = ['inverter', 'buffer', 'nand', 'nor']\n",
    "type_dict = dict(zip(df.type.unique(), types))\n",
    "df.type = df.type.map(type_dict)\n",
    "df.clock_cycle = df.clock_cycle.map(lambda x: float(x[:-2]))\n",
    "df['thickness tFE'] = df['thickness tFE'].map(lambda x: float(x[:-2]))\n",
    "df.head(2)"
   ]
  },
  {
   "cell_type": "code",
   "execution_count": 5,
   "metadata": {},
   "outputs": [
    {
     "data": {
      "text/plain": [
       "(6776, 7)"
      ]
     },
     "execution_count": 5,
     "metadata": {},
     "output_type": "execute_result"
    }
   ],
   "source": [
    "#why is this being dropped?\n",
    "drop_50ps_idx = np.where(df['clock_cycle'] == 50)\n",
    "df.drop(index=drop_50ps_idx[0], inplace=True)\n",
    "df.shape"
   ]
  },
  {
   "cell_type": "code",
   "execution_count": 6,
   "metadata": {},
   "outputs": [
    {
     "data": {
      "text/plain": [
       "((1673, 7), (1701, 7), (1701, 7), (1701, 7))"
      ]
     },
     "execution_count": 6,
     "metadata": {},
     "output_type": "execute_result"
    }
   ],
   "source": [
    "buffer_df = df[df.type == 'buffer']\n",
    "inverter_df = df[df.type == 'inverter']\n",
    "nor_df = df[df.type == 'nor']\n",
    "nand_df = df[df.type == 'nand']\n",
    "buffer_df.shape, inverter_df.shape, nand_df.shape, nor_df.shape"
   ]
  },
  {
   "cell_type": "code",
   "execution_count": 7,
   "metadata": {},
   "outputs": [
    {
     "data": {
      "text/plain": [
       "((1673, 3), (1673, 3))"
      ]
     },
     "execution_count": 7,
     "metadata": {},
     "output_type": "execute_result"
    }
   ],
   "source": [
    "def get_xy_df(df):\n",
    "    X_buffer = np.vstack([df.clock_cycle, df['thickness tFE'], df['Vdd']]).T\n",
    "    y_buffer = np.vstack([df['T_RISE '], df['T_FALL '], df['T_DELAY ']]).T\n",
    "    return X_buffer, y_buffer\n",
    "\n",
    "X_buffer, y_buffer = get_xy_df(buffer_df)\n",
    "X_inverter, y_inverter = get_xy_df(inverter_df)\n",
    "X_nor, y_nor = get_xy_df(nor_df)\n",
    "X_nand, y_nand = get_xy_df(nand_df)\n",
    "X_buffer.shape, y_buffer.shape"
   ]
  },
  {
   "cell_type": "code",
   "execution_count": 8,
   "metadata": {},
   "outputs": [],
   "source": [
    "from sklearn.preprocessing import StandardScaler\n",
    "from sklearn.linear_model import Ridge\n",
    "from sklearn.ensemble import RandomForestRegressor \n",
    "from sklearn.metrics import mean_squared_error, r2_score\n",
    "from sklearn.model_selection import train_test_split"
   ]
  },
  {
   "cell_type": "code",
   "execution_count": 16,
   "metadata": {},
   "outputs": [],
   "source": [
    "def ridge_reg(x_train, y_train, x_valid, y_valid):\n",
    "    print('Doing Ridge Regression.....')\n",
    "    ridge = Ridge(alpha = 1)\n",
    "    ridge.fit(x_train, y_train)\n",
    "    print('training score = ', ridge.score(x_train, y_train))\n",
    "    y_pred_ridge = ridge.predict(x_valid)\n",
    "    mse_ridge = mean_squared_error(y_valid, y_pred_ridge) \n",
    "    print('test score =', ridge.score(x_valid, y_valid)) \n",
    "\n",
    "def do_rf(x_train, y_train, x_valid, y_valid):\n",
    "    print('\\n\\ndoing RF.....')\n",
    "    RF = RandomForestRegressor(max_depth=100, random_state=0)\n",
    "    RF.fit(x_train, y_train)\n",
    "    print('trainig score = ', RF.score(x_train, y_train))\n",
    "    y_pred = RF.predict(x_valid)\n",
    "    mse = mean_squared_error(y_valid, y_pred)\n",
    "    r2 = r2_score(y_valid, y_pred) # coefficient of determination\n",
    "    print('test score =', RF.score(x_valid, y_valid))\n",
    "    print(f'the mse is {mse}')\n",
    "    print(f\"the r2 score is: {r2}\")\n",
    "    return y_pred\n",
    "\n",
    "def train_models(x, y, random_state=0):\n",
    "    x_train, x_valid, y_train, y_valid = train_test_split(x, y, \n",
    "                                                        random_state=random_state, \n",
    "                                                        test_size=0.1)    \n",
    "    ridge_reg(x_train, y_train, x_valid, y_valid)\n",
    "    y_pred = do_rf(x_train, y_train, x_valid, y_valid)\n",
    "    return y_pred"
   ]
  },
  {
   "cell_type": "markdown",
   "metadata": {},
   "source": [
    "### Lets start with our Buffer circuit"
   ]
  },
  {
   "cell_type": "code",
   "execution_count": 10,
   "metadata": {},
   "outputs": [
    {
     "name": "stdout",
     "output_type": "stream",
     "text": [
      "Doing Ridge Regression.....\n",
      "training score =  0.9167102409624371\n",
      "test score = 0.8967879854390292\n",
      "\n",
      "\n",
      "doing RF.....\n",
      "trainig score =  -3.6984307936194227e-06\n",
      "test score = -0.0005074970005255105\n",
      "the mse is 4.938222597074191e-23\n"
     ]
    }
   ],
   "source": [
    "_ = train_models(X_buffer, y_buffer, random_state=123)"
   ]
  },
  {
   "cell_type": "markdown",
   "metadata": {},
   "source": [
    "### Inverter"
   ]
  },
  {
   "cell_type": "code",
   "execution_count": 167,
   "metadata": {},
   "outputs": [
    {
     "name": "stdout",
     "output_type": "stream",
     "text": [
      "Doing Ridge Regression.....\n",
      "training score =  0.9068440076824577\n",
      "test score = 0.9137210104799065\n",
      "\n",
      "\n",
      "doing RF.....\n",
      "trainig score =  -8.346795311882834e-06\n",
      "test score = -0.01963368652833042\n",
      "the mse is 4.9345836306404944e-23\n"
     ]
    }
   ],
   "source": [
    "_ = train_models(X_inverter, y_inverter, random_state=0)"
   ]
  },
  {
   "cell_type": "markdown",
   "metadata": {},
   "source": [
    "### Nand"
   ]
  },
  {
   "cell_type": "code",
   "execution_count": 168,
   "metadata": {},
   "outputs": [
    {
     "name": "stdout",
     "output_type": "stream",
     "text": [
      "Doing Ridge Regression.....\n",
      "training score =  0.8901950211342888\n",
      "test score = 0.8801793859431911\n",
      "\n",
      "\n",
      "doing RF.....\n",
      "trainig score =  -8.62405818091716e-06\n",
      "test score = -0.0011959744121536147\n",
      "the mse is 4.134560228860396e-23\n"
     ]
    }
   ],
   "source": [
    "_ = train_models(X_nand, y_nand, random_state=1)"
   ]
  },
  {
   "cell_type": "markdown",
   "metadata": {},
   "source": [
    "### Nor"
   ]
  },
  {
   "cell_type": "code",
   "execution_count": 154,
   "metadata": {},
   "outputs": [
    {
     "name": "stdout",
     "output_type": "stream",
     "text": [
      "Doing Ridge Regression.....\n",
      "training score =  0.8899918684137367\n",
      "test score = 0.898750119906659\n",
      "\n",
      "\n",
      "doing RF.....\n",
      "trainig score =  -9.065795662843712e-06\n",
      "test score = -0.018704305257992344\n",
      "the mse is 3.088929916154021e-23\n"
     ]
    }
   ],
   "source": [
    "_ = train_models(X_nor, y_nor)"
   ]
  },
  {
   "cell_type": "markdown",
   "metadata": {},
   "source": [
    "# Normalizing the dependent variable helps?\n",
    "\n",
    "Looks like things are not working as expected out of the box! Normally you do not need to do much with the data with a random-forest-classifier. but apparently this is not the case with regressors....."
   ]
  },
  {
   "cell_type": "code",
   "execution_count": 17,
   "metadata": {},
   "outputs": [
    {
     "name": "stdout",
     "output_type": "stream",
     "text": [
      "Doing Ridge Regression.....\n",
      "training score =  0.889991868413737\n",
      "test score = 0.8987501199066591\n",
      "\n",
      "\n",
      "doing RF.....\n",
      "trainig score =  0.9994965217624411\n",
      "test score = 0.997362112592557\n",
      "the mse is 0.001056661204020164\n",
      "the r2 score is: 0.997362112592557\n"
     ]
    }
   ],
   "source": [
    "_ = train_models(X_nor, y_nor/y_nor.min())"
   ]
  },
  {
   "cell_type": "markdown",
   "metadata": {},
   "source": [
    "So by normalizing the dependent values we can replicate the previous Random Forest Model perforamnce...."
   ]
  },
  {
   "cell_type": "code",
   "execution_count": 18,
   "metadata": {},
   "outputs": [
    {
     "name": "stdout",
     "output_type": "stream",
     "text": [
      "Doing Ridge Regression.....\n",
      "training score =  0.9151547232450441\n",
      "test score = 0.9096239937163108\n",
      "\n",
      "\n",
      "doing RF.....\n",
      "trainig score =  0.9996718330442516\n",
      "test score = 0.9981174754219625\n",
      "the mse is 0.06108506176995491\n",
      "the r2 score is: 0.9981174754219625\n"
     ]
    }
   ],
   "source": [
    "_ = train_models(X_buffer, y_buffer/y_buffer.min())"
   ]
  },
  {
   "cell_type": "code",
   "execution_count": 19,
   "metadata": {},
   "outputs": [
    {
     "name": "stdout",
     "output_type": "stream",
     "text": [
      "Doing Ridge Regression.....\n",
      "training score =  0.9068440076824578\n",
      "test score = 0.9137210104799065\n",
      "\n",
      "\n",
      "doing RF.....\n",
      "trainig score =  0.9995370899090714\n",
      "test score = 0.9973107488297214\n",
      "the mse is 0.18724402530283232\n",
      "the r2 score is: 0.9973107488297214\n"
     ]
    }
   ],
   "source": [
    "_ = train_models(X_inverter, y_inverter / y_inverter.min())"
   ]
  },
  {
   "cell_type": "code",
   "execution_count": 20,
   "metadata": {},
   "outputs": [
    {
     "name": "stdout",
     "output_type": "stream",
     "text": [
      "Doing Ridge Regression.....\n",
      "training score =  0.8869122400572241\n",
      "test score = 0.9092443535388508\n",
      "\n",
      "\n",
      "doing RF.....\n",
      "trainig score =  0.9994631916438235\n",
      "test score = 0.9970597571271802\n",
      "the mse is 0.0711064052789472\n",
      "the r2 score is: 0.9970597571271802\n"
     ]
    }
   ],
   "source": [
    "_ = train_models(X_nand, y_nand / y_nand.min())"
   ]
  }
 ],
 "metadata": {
  "kernelspec": {
   "display_name": "Python 3.10.5 ('fast_env')",
   "language": "python",
   "name": "python3"
  },
  "language_info": {
   "codemirror_mode": {
    "name": "ipython",
    "version": 3
   },
   "file_extension": ".py",
   "mimetype": "text/x-python",
   "name": "python",
   "nbconvert_exporter": "python",
   "pygments_lexer": "ipython3",
   "version": "3.10.5"
  },
  "orig_nbformat": 4,
  "vscode": {
   "interpreter": {
    "hash": "ff833a3c8d37f49cfe3ed5f0a1977da1d0fbc64ce4381d4e3a021a0ee6bcf19e"
   }
  }
 },
 "nbformat": 4,
 "nbformat_minor": 2
}
