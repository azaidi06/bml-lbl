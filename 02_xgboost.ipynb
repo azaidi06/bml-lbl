{
 "cells": [
  {
   "cell_type": "markdown",
   "metadata": {},
   "source": [
    "# XGBoost! \n",
    "\n",
    "## ...can we improve our random forest results?\n",
    "\n",
    "\"xgboost is all you need\" --> https://arxiv.org/pdf/2110.01889.pdf (for tabular data)"
   ]
  },
  {
   "cell_type": "code",
   "execution_count": null,
   "metadata": {},
   "outputs": [],
   "source": [
    "from sklearn.metrics import mean_squared_error, r2_score\n",
    "from sklearn.model_selection import train_test_split\n",
    "from sklearn.ensemble import RandomForestRegressor \n",
    "import xgboost as xgb\n",
    "import pandas as pd\n",
    "import numpy as np"
   ]
  },
  {
   "cell_type": "code",
   "execution_count": null,
   "metadata": {},
   "outputs": [],
   "source": [
    "df = pd.read_csv('final.csv')\n",
    "types = ['inverter', 'buffer', 'nand', 'nor']\n",
    "type_dict = dict(zip(df.type.unique(), types))\n",
    "df.type = df.type.map(type_dict)\n",
    "df.clock_cycle = df.clock_cycle.map(lambda x: float(x[:-2]))\n",
    "df['thickness tFE'] = df['thickness tFE'].map(lambda x: float(x[:-2]))\n",
    "drop_50ps_idx = np.where(df['clock_cycle'] == 50)\n",
    "df.drop(index=drop_50ps_idx[0], inplace=True)\n",
    "buffer_df = df[df.type == 'buffer']\n",
    "inverter_df = df[df.type == 'inverter']\n",
    "nor_df = df[df.type == 'nor']\n",
    "nand_df = df[df.type == 'nand']\n"
   ]
  },
  {
   "cell_type": "code",
   "execution_count": null,
   "metadata": {},
   "outputs": [
    {
     "data": {
      "text/html": [
       "<div>\n",
       "<style scoped>\n",
       "    .dataframe tbody tr th:only-of-type {\n",
       "        vertical-align: middle;\n",
       "    }\n",
       "\n",
       "    .dataframe tbody tr th {\n",
       "        vertical-align: top;\n",
       "    }\n",
       "\n",
       "    .dataframe thead th {\n",
       "        text-align: right;\n",
       "    }\n",
       "</style>\n",
       "<table border=\"1\" class=\"dataframe\">\n",
       "  <thead>\n",
       "    <tr style=\"text-align: right;\">\n",
       "      <th></th>\n",
       "      <th>type</th>\n",
       "      <th>clock_cycle</th>\n",
       "      <th>thickness tFE</th>\n",
       "      <th>Vdd</th>\n",
       "      <th>T_RISE</th>\n",
       "      <th>T_FALL</th>\n",
       "      <th>T_DELAY</th>\n",
       "    </tr>\n",
       "  </thead>\n",
       "  <tbody>\n",
       "    <tr>\n",
       "      <th>0</th>\n",
       "      <td>inverter</td>\n",
       "      <td>100.0</td>\n",
       "      <td>0.0</td>\n",
       "      <td>0.3</td>\n",
       "      <td>2.410636e-12</td>\n",
       "      <td>2.278608e-12</td>\n",
       "      <td>4.401267e-12</td>\n",
       "    </tr>\n",
       "    <tr>\n",
       "      <th>1</th>\n",
       "      <td>inverter</td>\n",
       "      <td>100.0</td>\n",
       "      <td>0.0</td>\n",
       "      <td>0.4</td>\n",
       "      <td>2.254149e-12</td>\n",
       "      <td>2.258426e-12</td>\n",
       "      <td>2.525869e-12</td>\n",
       "    </tr>\n",
       "  </tbody>\n",
       "</table>\n",
       "</div>"
      ],
      "text/plain": [
       "       type  clock_cycle  thickness tFE  Vdd       T_RISE        T_FALL   \\\n",
       "0  inverter        100.0            0.0  0.3  2.410636e-12  2.278608e-12   \n",
       "1  inverter        100.0            0.0  0.4  2.254149e-12  2.258426e-12   \n",
       "\n",
       "       T_DELAY   \n",
       "0  4.401267e-12  \n",
       "1  2.525869e-12  "
      ]
     },
     "execution_count": null,
     "metadata": {},
     "output_type": "execute_result"
    }
   ],
   "source": [
    "#df.iloc[:, 4:].sum(axis=1)\n",
    "df.head(2)"
   ]
  },
  {
   "cell_type": "code",
   "execution_count": null,
   "metadata": {},
   "outputs": [
    {
     "data": {
      "text/html": [
       "<div>\n",
       "<style scoped>\n",
       "    .dataframe tbody tr th:only-of-type {\n",
       "        vertical-align: middle;\n",
       "    }\n",
       "\n",
       "    .dataframe tbody tr th {\n",
       "        vertical-align: top;\n",
       "    }\n",
       "\n",
       "    .dataframe thead th {\n",
       "        text-align: right;\n",
       "    }\n",
       "</style>\n",
       "<table border=\"1\" class=\"dataframe\">\n",
       "  <thead>\n",
       "    <tr style=\"text-align: right;\">\n",
       "      <th></th>\n",
       "      <th>T_RISE</th>\n",
       "      <th>T_FALL</th>\n",
       "      <th>T_DELAY</th>\n",
       "    </tr>\n",
       "  </thead>\n",
       "  <tbody>\n",
       "    <tr>\n",
       "      <th>0</th>\n",
       "      <td>2.410636e-12</td>\n",
       "      <td>2.278608e-12</td>\n",
       "      <td>4.401267e-12</td>\n",
       "    </tr>\n",
       "    <tr>\n",
       "      <th>1</th>\n",
       "      <td>2.254149e-12</td>\n",
       "      <td>2.258426e-12</td>\n",
       "      <td>2.525869e-12</td>\n",
       "    </tr>\n",
       "    <tr>\n",
       "      <th>2</th>\n",
       "      <td>1.891338e-12</td>\n",
       "      <td>1.891455e-12</td>\n",
       "      <td>1.588824e-12</td>\n",
       "    </tr>\n",
       "    <tr>\n",
       "      <th>3</th>\n",
       "      <td>1.771861e-12</td>\n",
       "      <td>1.770314e-12</td>\n",
       "      <td>1.168491e-12</td>\n",
       "    </tr>\n",
       "    <tr>\n",
       "      <th>4</th>\n",
       "      <td>1.934444e-12</td>\n",
       "      <td>1.938007e-12</td>\n",
       "      <td>9.872374e-13</td>\n",
       "    </tr>\n",
       "    <tr>\n",
       "      <th>...</th>\n",
       "      <td>...</td>\n",
       "      <td>...</td>\n",
       "      <td>...</td>\n",
       "    </tr>\n",
       "    <tr>\n",
       "      <th>7527</th>\n",
       "      <td>1.219473e-11</td>\n",
       "      <td>9.754274e-12</td>\n",
       "      <td>-1.304326e-12</td>\n",
       "    </tr>\n",
       "    <tr>\n",
       "      <th>7528</th>\n",
       "      <td>1.240898e-11</td>\n",
       "      <td>1.007428e-11</td>\n",
       "      <td>-3.400690e-12</td>\n",
       "    </tr>\n",
       "    <tr>\n",
       "      <th>7529</th>\n",
       "      <td>1.357794e-11</td>\n",
       "      <td>1.163782e-11</td>\n",
       "      <td>-5.207976e-12</td>\n",
       "    </tr>\n",
       "    <tr>\n",
       "      <th>7530</th>\n",
       "      <td>1.502617e-11</td>\n",
       "      <td>1.367299e-11</td>\n",
       "      <td>-6.807476e-12</td>\n",
       "    </tr>\n",
       "    <tr>\n",
       "      <th>7531</th>\n",
       "      <td>1.650698e-11</td>\n",
       "      <td>1.564838e-11</td>\n",
       "      <td>-8.201949e-12</td>\n",
       "    </tr>\n",
       "  </tbody>\n",
       "</table>\n",
       "<p>6776 rows × 3 columns</p>\n",
       "</div>"
      ],
      "text/plain": [
       "           T_RISE        T_FALL       T_DELAY \n",
       "0     2.410636e-12  2.278608e-12  4.401267e-12\n",
       "1     2.254149e-12  2.258426e-12  2.525869e-12\n",
       "2     1.891338e-12  1.891455e-12  1.588824e-12\n",
       "3     1.771861e-12  1.770314e-12  1.168491e-12\n",
       "4     1.934444e-12  1.938007e-12  9.872374e-13\n",
       "...            ...           ...           ...\n",
       "7527  1.219473e-11  9.754274e-12 -1.304326e-12\n",
       "7528  1.240898e-11  1.007428e-11 -3.400690e-12\n",
       "7529  1.357794e-11  1.163782e-11 -5.207976e-12\n",
       "7530  1.502617e-11  1.367299e-11 -6.807476e-12\n",
       "7531  1.650698e-11  1.564838e-11 -8.201949e-12\n",
       "\n",
       "[6776 rows x 3 columns]"
      ]
     },
     "execution_count": null,
     "metadata": {},
     "output_type": "execute_result"
    }
   ],
   "source": [
    "#df.loc[[df.columns[-1]]]\n",
    "#df.loc[df.columns[-1]]\n",
    "df.loc[:, df.columns[4:]]"
   ]
  },
  {
   "cell_type": "code",
   "execution_count": null,
   "metadata": {},
   "outputs": [
    {
     "data": {
      "text/plain": [
       "((1673, 3), (1673, 3))"
      ]
     },
     "execution_count": null,
     "metadata": {},
     "output_type": "execute_result"
    }
   ],
   "source": [
    "def get_xy_df(df):\n",
    "    X_buffer = np.vstack([df.clock_cycle, df['thickness tFE'], df['Vdd']]).T\n",
    "    y_buffer = np.vstack([df['T_RISE '], df['T_FALL '], df['T_DELAY ']]).T\n",
    "    return X_buffer, y_buffer\n",
    "\n",
    "X_buffer, y_buffer = get_xy_df(buffer_df)\n",
    "X_inverter, y_inverter = get_xy_df(inverter_df)\n",
    "X_nor, y_nor = get_xy_df(nor_df)\n",
    "X_nand, y_nand = get_xy_df(nand_df)\n",
    "X_buffer.shape, y_buffer.shape"
   ]
  },
  {
   "cell_type": "code",
   "execution_count": null,
   "metadata": {},
   "outputs": [
    {
     "data": {
      "text/plain": [
       "array([[1.e+02, 0.e+00, 3.e-01],\n",
       "       [1.e+02, 0.e+00, 4.e-01],\n",
       "       [1.e+02, 0.e+00, 5.e-01],\n",
       "       ...,\n",
       "       [9.e+02, 9.e+00, 7.e-01],\n",
       "       [9.e+02, 9.e+00, 8.e-01],\n",
       "       [9.e+02, 9.e+00, 9.e-01]])"
      ]
     },
     "execution_count": null,
     "metadata": {},
     "output_type": "execute_result"
    }
   ],
   "source": []
  },
  {
   "cell_type": "code",
   "execution_count": null,
   "metadata": {},
   "outputs": [],
   "source": [
    "regressor=xgb.XGBRegressor(eval_metric='rmse')"
   ]
  },
  {
   "cell_type": "code",
   "execution_count": null,
   "metadata": {},
   "outputs": [],
   "source": [
    "x_train, x_valid, y_train, y_valid = train_test_split(X_buffer, y_buffer, test_size=0.1)    "
   ]
  },
  {
   "cell_type": "code",
   "execution_count": null,
   "metadata": {},
   "outputs": [
    {
     "name": "stdout",
     "output_type": "stream",
     "text": [
      "The best hyperparameters are  {'learning_rate': 0.015, 'max_depth': 4, 'n_estimators': 700}\n"
     ]
    }
   ],
   "source": [
    "from sklearn.model_selection import GridSearchCV\n",
    "# set up our search grid\n",
    "param_grid = {\"max_depth\":    [4, 5],\n",
    "              \"n_estimators\": [500, 600, 700],\n",
    "              \"learning_rate\": [0.01, 0.015]}\n",
    "\n",
    "# try out every combination of the above values\n",
    "search = GridSearchCV(regressor, param_grid, cv=5).fit(x_train, y_train)\n",
    "\n",
    "print(\"The best hyperparameters are \", search.best_params_)"
   ]
  },
  {
   "cell_type": "code",
   "execution_count": null,
   "metadata": {},
   "outputs": [],
   "source": [
    "#regressor.fit(X_buffer, y_buffer)"
   ]
  },
  {
   "cell_type": "code",
   "execution_count": null,
   "metadata": {},
   "outputs": [],
   "source": [
    "regressor=xgb.XGBRegressor(learning_rate = search.best_params_[\"learning_rate\"],\n",
    "                           n_estimators  = search.best_params_[\"n_estimators\"],\n",
    "                           max_depth     = search.best_params_[\"max_depth\"],)"
   ]
  },
  {
   "cell_type": "code",
   "execution_count": null,
   "metadata": {},
   "outputs": [
    {
     "data": {
      "text/plain": [
       "(1673, 3)"
      ]
     },
     "execution_count": null,
     "metadata": {},
     "output_type": "execute_result"
    }
   ],
   "source": [
    "preds = regressor.predict(X_buffer)\n",
    "preds.shape"
   ]
  },
  {
   "cell_type": "code",
   "execution_count": null,
   "metadata": {},
   "outputs": [
    {
     "data": {
      "text/plain": [
       "(5.231047707025684e-19, 4.8802681707286987e-23)"
      ]
     },
     "execution_count": null,
     "metadata": {},
     "output_type": "execute_result"
    }
   ],
   "source": [
    "regressor.score(X_buffer, y_buffer) ** 2, mean_squared_error(y_buffer,preds)"
   ]
  },
  {
   "cell_type": "markdown",
   "metadata": {},
   "source": [
    "These two values above should be the same?\n",
    "\n",
    "Lets keep our random forest for comparison"
   ]
  },
  {
   "cell_type": "code",
   "execution_count": null,
   "metadata": {},
   "outputs": [],
   "source": [
    "def do_rf(x_train, y_train, x_valid, y_valid):\n",
    "    print('\\n\\ndoing RF.....')\n",
    "    RF = RandomForestRegressor(max_depth=100, random_state=0)\n",
    "    RF.fit(x_train, y_train)\n",
    "    train_score = RF.score(x_train, y_train)\n",
    "    y_pred = RF.predict(x_valid)\n",
    "    mse = mean_squared_error(y_valid, y_pred)\n",
    "    r2 = r2_score(y_valid, y_pred) # coefficient of determination\n",
    "    valid_score = RF.score(x_valid, y_valid)\n",
    "\n",
    "    print(f'the training score is {train_score:3f}')\n",
    "    print(f'the validation score is {valid_score:3f}')\n",
    "    print(f'the mse is {mse:3f}')\n",
    "    print(f\"the r2 score is: {r2:3f}\")\n",
    "    return y_pred\n",
    "\n",
    "def do_xgb(x_train, y_train, x_valid, y_valid):\n",
    "    print('\\n\\nboosting the trees.....')\n",
    "    regressor=xgb.XGBRegressor(eval_metric='rmse')\n",
    "    regressor.fit(x_train, y_train)\n",
    "    train_score = regressor.score(x_train, y_train) ** 2 #bc using RMSE\n",
    "    y_pred = regressor.predict(x_valid)\n",
    "    mse = mean_squared_error(y_valid, y_pred)\n",
    "    r2 = r2_score(y_valid, y_pred) # coefficient of determination\n",
    "    valid_score = regressor.score(x_valid, y_valid)\n",
    "\n",
    "    print(f'the training score is {train_score:3f}')    \n",
    "    print(f\"the validation score is {valid_score:3f}\")\n",
    "    print(f'the mse is {mse:3f}')\n",
    "    print(f\"the r2 score is: {r2:3f}\")\n",
    "    return y_pred\n",
    "\n",
    "def train_models(x, y, random_state=0):\n",
    "    x_train, x_valid, y_train, y_valid = train_test_split(x, y, \n",
    "                                                        random_state=random_state, \n",
    "                                                        test_size=0.1)    \n",
    "    y_pred = do_rf(x_train, y_train, x_valid, y_valid)\n",
    "    _ = do_xgb(x_train, y_train, x_valid, y_valid)\n",
    "    return y_pred"
   ]
  },
  {
   "cell_type": "markdown",
   "metadata": {},
   "source": [
    "### Lets start with our Buffer circuit"
   ]
  },
  {
   "cell_type": "code",
   "execution_count": null,
   "metadata": {},
   "outputs": [
    {
     "name": "stdout",
     "output_type": "stream",
     "text": [
      "\n",
      "\n",
      "doing RF.....\n",
      "the training score is 0.999672\n",
      "the validation score is 0.998115\n",
      "the mse is 0.001012\n",
      "the r2 score is: 0.998115\n",
      "\n",
      "\n",
      "boosting the trees.....\n",
      "the training score is 0.999900\n",
      "the validation score is 0.999629\n",
      "the mse is 0.000198\n",
      "the r2 score is: 0.999629\n"
     ]
    }
   ],
   "source": [
    "_ = train_models(X_buffer, y_buffer/y_nor.min())"
   ]
  },
  {
   "cell_type": "markdown",
   "metadata": {},
   "source": [
    "### Inverter"
   ]
  },
  {
   "cell_type": "code",
   "execution_count": null,
   "metadata": {},
   "outputs": [
    {
     "name": "stdout",
     "output_type": "stream",
     "text": [
      "\n",
      "\n",
      "doing RF.....\n",
      "the training score is 0.999537\n",
      "the validation score is 0.997311\n",
      "the mse is 0.187244\n",
      "the r2 score is: 0.997311\n",
      "\n",
      "\n",
      "boosting the trees.....\n",
      "the training score is 0.999910\n",
      "the validation score is 0.999442\n",
      "the mse is 0.042107\n",
      "the r2 score is: 0.999442\n"
     ]
    }
   ],
   "source": [
    "_ = train_models(X_inverter, y_inverter/y_inverter.min(), random_state=0)"
   ]
  },
  {
   "cell_type": "markdown",
   "metadata": {},
   "source": [
    "### Nand"
   ]
  },
  {
   "cell_type": "code",
   "execution_count": null,
   "metadata": {},
   "outputs": [
    {
     "name": "stdout",
     "output_type": "stream",
     "text": [
      "\n",
      "\n",
      "doing RF.....\n",
      "the training score is 0.999502\n",
      "the validation score is 0.996710\n",
      "the mse is 0.067688\n",
      "the r2 score is: 0.996710\n",
      "\n",
      "\n",
      "boosting the trees.....\n",
      "the training score is 0.999933\n",
      "the validation score is 0.999440\n",
      "the mse is 0.012227\n",
      "the r2 score is: 0.999440\n"
     ]
    }
   ],
   "source": [
    "_ = train_models(X_nand, y_nand/y_nand.min(), random_state=1)"
   ]
  },
  {
   "cell_type": "markdown",
   "metadata": {},
   "source": [
    "### Nor"
   ]
  },
  {
   "cell_type": "code",
   "execution_count": null,
   "metadata": {},
   "outputs": [
    {
     "name": "stdout",
     "output_type": "stream",
     "text": [
      "\n",
      "\n",
      "doing RF.....\n",
      "the training score is 0.999497\n",
      "the validation score is 0.997362\n",
      "the mse is 0.001057\n",
      "the r2 score is: 0.997362\n",
      "\n",
      "\n",
      "boosting the trees.....\n",
      "the training score is 0.999862\n",
      "the validation score is 0.999463\n",
      "the mse is 0.000218\n",
      "the r2 score is: 0.999463\n"
     ]
    }
   ],
   "source": [
    "_ = train_models(X_nor, y_nor/y_nor.min())"
   ]
  }
 ],
 "metadata": {
  "kernelspec": {
   "display_name": "Python 3 (ipykernel)",
   "language": "python",
   "name": "python3"
  }
 },
 "nbformat": 4,
 "nbformat_minor": 4
}
