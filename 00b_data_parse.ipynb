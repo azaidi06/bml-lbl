{
 "cells": [
  {
   "cell_type": "markdown",
   "id": "ebd982a9-13ec-41af-ad5d-f0ba87e7f6c0",
   "metadata": {},
   "source": [
    "### Now that the data retreival is cleared up and we don't have any failed values or discrepencies, this notebook will allow the parsing from .xslx to .csv files that can be used in our modeling notebooks!"
   ]
  },
  {
   "cell_type": "code",
   "execution_count": null,
   "id": "08481cb2-3422-45f0-a289-0fb123f238f6",
   "metadata": {},
   "outputs": [],
   "source": [
    "import matplotlib.pyplot as plt\n",
    "import pandas as pd\n",
    "import numpy as np"
   ]
  },
  {
   "cell_type": "markdown",
   "id": "927602c5-5364-4c06-9ba8-35dc1d30e656",
   "metadata": {},
   "source": [
    "### To deal with .xlsx extension, you will need to install the necessary package with the following command:\n",
    "\n",
    "*pip install openpyxl*"
   ]
  },
  {
   "cell_type": "code",
   "execution_count": null,
   "id": "ef6f4cb8-ed30-4cab-833c-ac57c7fe5ce5",
   "metadata": {},
   "outputs": [],
   "source": [
    "file_name = 'data/fixed_10gate.xlsx'\n",
    "sheet_name = '10_Gates_1_run_FAILS_fixed'"
   ]
  },
  {
   "cell_type": "code",
   "execution_count": null,
   "id": "79965ce3-4cdd-4f13-97ab-a3a6d41d86c5",
   "metadata": {},
   "outputs": [],
   "source": [
    "def read_sheet(file_name, sheet_name): return pd.read_excel(file_name, sheet_name, engine='openpyxl')"
   ]
  },
  {
   "cell_type": "code",
   "execution_count": null,
   "id": "208b0e70-93f5-4efe-82b5-1ac2a8c24d74",
   "metadata": {},
   "outputs": [],
   "source": [
    "data = read_sheet(file_name, sheet_name)"
   ]
  },
  {
   "cell_type": "code",
   "execution_count": null,
   "id": "02d2fbfa-46c2-4ee2-abe0-bce016d907bc",
   "metadata": {},
   "outputs": [
    {
     "data": {
      "text/html": [
       "<div>\n",
       "<style scoped>\n",
       "    .dataframe tbody tr th:only-of-type {\n",
       "        vertical-align: middle;\n",
       "    }\n",
       "\n",
       "    .dataframe tbody tr th {\n",
       "        vertical-align: top;\n",
       "    }\n",
       "\n",
       "    .dataframe thead th {\n",
       "        text-align: right;\n",
       "    }\n",
       "</style>\n",
       "<table border=\"1\" class=\"dataframe\">\n",
       "  <thead>\n",
       "    <tr style=\"text-align: right;\">\n",
       "      <th></th>\n",
       "      <th>base</th>\n",
       "      <th>values</th>\n",
       "    </tr>\n",
       "  </thead>\n",
       "  <tbody>\n",
       "    <tr>\n",
       "      <th>0</th>\n",
       "      <td>./g_buffer/100ps/0p1nm/ncfet_g_buffer_0.3</td>\n",
       "      <td>NaN</td>\n",
       "    </tr>\n",
       "    <tr>\n",
       "      <th>1</th>\n",
       "      <td>T_RISE</td>\n",
       "      <td>3.131324e-12</td>\n",
       "    </tr>\n",
       "    <tr>\n",
       "      <th>2</th>\n",
       "      <td>T_FALL</td>\n",
       "      <td>3.172790e-12</td>\n",
       "    </tr>\n",
       "    <tr>\n",
       "      <th>3</th>\n",
       "      <td>T_DELAY</td>\n",
       "      <td>9.921646e-12</td>\n",
       "    </tr>\n",
       "    <tr>\n",
       "      <th>4</th>\n",
       "      <td>./g_buffer/100ps/0p1nm/ncfet_g_buffer_0.4</td>\n",
       "      <td>NaN</td>\n",
       "    </tr>\n",
       "  </tbody>\n",
       "</table>\n",
       "</div>"
      ],
      "text/plain": [
       "                                        base        values\n",
       "0  ./g_buffer/100ps/0p1nm/ncfet_g_buffer_0.3           NaN\n",
       "1                                    T_RISE   3.131324e-12\n",
       "2                                    T_FALL   3.172790e-12\n",
       "3                                   T_DELAY   9.921646e-12\n",
       "4  ./g_buffer/100ps/0p1nm/ncfet_g_buffer_0.4           NaN"
      ]
     },
     "execution_count": null,
     "metadata": {},
     "output_type": "execute_result"
    }
   ],
   "source": [
    "data.head(5)"
   ]
  },
  {
   "cell_type": "code",
   "execution_count": null,
   "id": "17496d34-95d8-47bf-85ee-7ea6807f5e61",
   "metadata": {},
   "outputs": [
    {
     "data": {
      "text/plain": [
       "array(['./g_buffer/100ps/0p1nm/ncfet_g_buffer_0.3',\n",
       "       './g_buffer/100ps/0p1nm/ncfet_g_buffer_0.4'], dtype=object)"
      ]
     },
     "execution_count": null,
     "metadata": {},
     "output_type": "execute_result"
    }
   ],
   "source": [
    "param_strs = data[data.base.map(lambda x: len(x) > 10)].base.values\n",
    "param_strs[:2]"
   ]
  },
  {
   "cell_type": "code",
   "execution_count": null,
   "id": "4da3e061-6581-4aed-9d1f-a724d21b00ff",
   "metadata": {},
   "outputs": [
    {
     "data": {
      "text/plain": [
       "True"
      ]
     },
     "execution_count": null,
     "metadata": {},
     "output_type": "execute_result"
    }
   ],
   "source": [
    "trise_vals = data[data.base == 'T_RISE ']['values'].values\n",
    "tfall_vals = data[data.base == 'T_FALL ']['values'].values\n",
    "tdelay_vals = data[data.base == 'T_DELAY ']['values'].values\n",
    "len(trise_vals) == len(tfall_vals) == len(tdelay_vals) == len(param_strs)"
   ]
  },
  {
   "cell_type": "code",
   "execution_count": null,
   "id": "b743a919-94dd-4685-8be9-a96c1decc3b1",
   "metadata": {},
   "outputs": [],
   "source": [
    "#trise_vals"
   ]
  },
  {
   "cell_type": "code",
   "execution_count": null,
   "id": "d4fc472c-54ae-4b41-b3ba-95a77dc743c5",
   "metadata": {},
   "outputs": [],
   "source": [
    "#param_strs[0].split(sep='/')"
   ]
  },
  {
   "cell_type": "markdown",
   "id": "a6fb417e-0c7a-42c9-a903-081f3a98b786",
   "metadata": {},
   "source": [
    "It goes - [1] gate name, [2] clock cylce, [3] thickness, [4] voltage --> after some parsing"
   ]
  },
  {
   "cell_type": "code",
   "execution_count": null,
   "id": "1e13d082-416f-4993-9ca4-38b2f429315f",
   "metadata": {},
   "outputs": [],
   "source": [
    "gate_types = pd.Series(param_strs).map(lambda x: x.split('/')).map(lambda x: x[1][2:])"
   ]
  },
  {
   "cell_type": "code",
   "execution_count": null,
   "id": "67b115e9-a38c-41d1-b261-e2e87fd02f26",
   "metadata": {},
   "outputs": [
    {
     "data": {
      "text/plain": [
       "('100', '0p1')"
      ]
     },
     "execution_count": null,
     "metadata": {},
     "output_type": "execute_result"
    }
   ],
   "source": [
    "clock_cycle = pd.Series(map(lambda x: x.split(sep='/')[2][:-2], param_strs))\n",
    "thickness = pd.Series(map(lambda x: x.split(sep='/')[3][:-2], param_strs))\n",
    "clock_cycle[0], thickness[0]"
   ]
  },
  {
   "cell_type": "code",
   "execution_count": null,
   "id": "d1116042-87ce-4113-8a96-a04741e3698f",
   "metadata": {},
   "outputs": [],
   "source": [
    "#how to remove the pesky 'p' value in the thickness\n",
    "#thickness[0].replace('p', '.')"
   ]
  },
  {
   "cell_type": "code",
   "execution_count": null,
   "id": "9bfd8faa-c573-463c-9bd6-d9feb4941386",
   "metadata": {},
   "outputs": [
    {
     "data": {
      "text/plain": [
       "0    0.1\n",
       "1    0.1\n",
       "dtype: object"
      ]
     },
     "execution_count": null,
     "metadata": {},
     "output_type": "execute_result"
    }
   ],
   "source": [
    "thickness = thickness.map(lambda x: x.replace('p', '.'))\n",
    "thickness[:2]"
   ]
  },
  {
   "cell_type": "code",
   "execution_count": null,
   "id": "c8f62863-6cdf-4786-bbb9-862189ad873b",
   "metadata": {},
   "outputs": [],
   "source": [
    "voltage = pd.Series(map(lambda x: x.split('/')[-1].split('_')[-1], param_strs))"
   ]
  },
  {
   "cell_type": "code",
   "execution_count": null,
   "id": "9f0dd864-04a3-4ae0-bc8d-387282c8b53e",
   "metadata": {},
   "outputs": [
    {
     "data": {
      "text/html": [
       "<div>\n",
       "<style scoped>\n",
       "    .dataframe tbody tr th:only-of-type {\n",
       "        vertical-align: middle;\n",
       "    }\n",
       "\n",
       "    .dataframe tbody tr th {\n",
       "        vertical-align: top;\n",
       "    }\n",
       "\n",
       "    .dataframe thead th {\n",
       "        text-align: right;\n",
       "    }\n",
       "</style>\n",
       "<table border=\"1\" class=\"dataframe\">\n",
       "  <thead>\n",
       "    <tr style=\"text-align: right;\">\n",
       "      <th></th>\n",
       "      <th>gate_types</th>\n",
       "      <th>voltage</th>\n",
       "      <th>thickness</th>\n",
       "      <th>clock_cycle</th>\n",
       "      <th>t_rise</th>\n",
       "      <th>t_fall</th>\n",
       "      <th>t_delay</th>\n",
       "    </tr>\n",
       "  </thead>\n",
       "  <tbody>\n",
       "    <tr>\n",
       "      <th>11338</th>\n",
       "      <td>nor4</td>\n",
       "      <td>0.8</td>\n",
       "      <td>9</td>\n",
       "      <td>900</td>\n",
       "      <td>9.282352e-12</td>\n",
       "      <td>6.474237e-12</td>\n",
       "      <td>1.736532e-11</td>\n",
       "    </tr>\n",
       "    <tr>\n",
       "      <th>11339</th>\n",
       "      <td>nor4</td>\n",
       "      <td>0.9</td>\n",
       "      <td>9</td>\n",
       "      <td>900</td>\n",
       "      <td>9.847337e-12</td>\n",
       "      <td>8.520112e-12</td>\n",
       "      <td>1.743491e-11</td>\n",
       "    </tr>\n",
       "  </tbody>\n",
       "</table>\n",
       "</div>"
      ],
      "text/plain": [
       "      gate_types voltage thickness clock_cycle        t_rise        t_fall  \\\n",
       "11338       nor4     0.8         9         900  9.282352e-12  6.474237e-12   \n",
       "11339       nor4     0.9         9         900  9.847337e-12  8.520112e-12   \n",
       "\n",
       "            t_delay  \n",
       "11338  1.736532e-11  \n",
       "11339  1.743491e-11  "
      ]
     },
     "execution_count": null,
     "metadata": {},
     "output_type": "execute_result"
    }
   ],
   "source": [
    "sample_clean_df = pd.DataFrame({'gate_types' : gate_types,\n",
    "                        'voltage':voltage, 'thickness':thickness, 'clock_cycle': clock_cycle,\n",
    "                        't_rise': trise_vals, 't_fall': tfall_vals, 't_delay': tdelay_vals})\n",
    "sample_clean_df.tail(2)"
   ]
  },
  {
   "cell_type": "code",
   "execution_count": null,
   "id": "b4eb73ae-c7ba-471d-81ea-221788751ea4",
   "metadata": {},
   "outputs": [],
   "source": [
    "def get_clean_df(df):\n",
    "    param_strs = df[df.base.map(lambda x: len(x) > 10)].base.values\n",
    "    gate_types = pd.Series(param_strs).map(lambda x: x.split('/')).map(lambda x: x[1][2:])\n",
    "    trise_vals = df[df.base == 'T_RISE ']['values'].values\n",
    "    tfall_vals = df[df.base == 'T_FALL ']['values'].values\n",
    "    tdelay_vals = df[df.base == 'T_DELAY ']['values'].values\n",
    "    clock_cycle = pd.Series(map(lambda x: x.split(sep='/')[2][:-2], param_strs))\n",
    "    thickness = pd.Series(map(lambda x: x.split(sep='/')[3][:-2], param_strs))\n",
    "    thickness = thickness.map(lambda x: x.replace('p', '.'))\n",
    "    voltage = pd.Series(map(lambda x: x.split('/')[-1].split('_')[-1], param_strs))\n",
    "    #pdb.set_trace()\n",
    "    return pd.DataFrame({'type' : gate_types,\n",
    "            'voltage':voltage, 'thickness':thickness, 'clock_cycle': clock_cycle,\n",
    "            't_rise': trise_vals, 't_fall': tfall_vals, 't_delay': tdelay_vals})"
   ]
  },
  {
   "cell_type": "code",
   "execution_count": null,
   "id": "5b2ee460-0c59-4608-b941-1a6f399ce555",
   "metadata": {},
   "outputs": [
    {
     "data": {
      "text/plain": [
       "(11340, 7)"
      ]
     },
     "execution_count": null,
     "metadata": {},
     "output_type": "execute_result"
    }
   ],
   "source": [
    "run_df = get_clean_df(data).rename(columns={\"type\":\"gate_type\"})\n",
    "run_df.shape"
   ]
  },
  {
   "cell_type": "code",
   "execution_count": null,
   "id": "e58b0b43-ac8c-4943-beb7-57e9d56ff83b",
   "metadata": {},
   "outputs": [],
   "source": [
    "run_df.to_csv('data/ten_gate.csv', index=False)"
   ]
  },
  {
   "cell_type": "code",
   "execution_count": null,
   "id": "3c9697fe-1674-415a-8ce7-7e2d9edf2c9b",
   "metadata": {},
   "outputs": [
    {
     "data": {
      "text/html": [
       "<div>\n",
       "<style scoped>\n",
       "    .dataframe tbody tr th:only-of-type {\n",
       "        vertical-align: middle;\n",
       "    }\n",
       "\n",
       "    .dataframe tbody tr th {\n",
       "        vertical-align: top;\n",
       "    }\n",
       "\n",
       "    .dataframe thead th {\n",
       "        text-align: right;\n",
       "    }\n",
       "</style>\n",
       "<table border=\"1\" class=\"dataframe\">\n",
       "  <thead>\n",
       "    <tr style=\"text-align: right;\">\n",
       "      <th></th>\n",
       "      <th>type</th>\n",
       "      <th>voltage</th>\n",
       "      <th>thickness</th>\n",
       "      <th>clock_cycle</th>\n",
       "      <th>t_rise</th>\n",
       "      <th>t_fall</th>\n",
       "      <th>t_delay</th>\n",
       "    </tr>\n",
       "  </thead>\n",
       "  <tbody>\n",
       "    <tr>\n",
       "      <th>0</th>\n",
       "      <td>buffer</td>\n",
       "      <td>0.3</td>\n",
       "      <td>0.1</td>\n",
       "      <td>100</td>\n",
       "      <td>3.131324e-12</td>\n",
       "      <td>3.172790e-12</td>\n",
       "      <td>9.921646e-12</td>\n",
       "    </tr>\n",
       "  </tbody>\n",
       "</table>\n",
       "</div>"
      ],
      "text/plain": [
       "     type voltage thickness clock_cycle        t_rise        t_fall  \\\n",
       "0  buffer     0.3       0.1         100  3.131324e-12  3.172790e-12   \n",
       "\n",
       "        t_delay  \n",
       "0  9.921646e-12  "
      ]
     },
     "execution_count": null,
     "metadata": {},
     "output_type": "execute_result"
    }
   ],
   "source": [
    "run_df.head(1)"
   ]
  },
  {
   "cell_type": "code",
   "execution_count": null,
   "id": "6d95f193-0c5b-4b84-a7a1-9c11e4406032",
   "metadata": {},
   "outputs": [
    {
     "data": {
      "text/plain": [
       "array([1.495985e-11, 1.638343e-11, 1.708075e-11, 1.736532e-11,\n",
       "       1.743491e-11])"
      ]
     },
     "execution_count": null,
     "metadata": {},
     "output_type": "execute_result"
    }
   ],
   "source": [
    "run_df.tail().t_delay.values"
   ]
  },
  {
   "cell_type": "markdown",
   "id": "49da43ef-9d78-4563-9cdb-b7a4318ded44",
   "metadata": {},
   "source": [
    "### FAILED\n",
    "\n",
    "Lets make sense of the number of FAILED values in the runs"
   ]
  },
  {
   "cell_type": "code",
   "execution_count": null,
   "id": "e61689b6-d498-4f39-b35c-3c2e1aca7ce1",
   "metadata": {},
   "outputs": [],
   "source": [
    "def get_failed(df, row_type='t_delay'):\n",
    "    failed = (df[row_type] == ' FAILED').sum()\n",
    "    return failed, f'{row_type}: {failed/len(df) * 100: .2f}%'\n",
    "def get_full_fail(df):\n",
    "    time_vals = ['t_delay', 't_rise', 't_fall']\n",
    "    return [get_failed(df, t_val) for t_val in time_vals]"
   ]
  },
  {
   "cell_type": "code",
   "execution_count": null,
   "id": "1191f5a5-c15b-40e1-b7b7-e5d246fae1a5",
   "metadata": {},
   "outputs": [],
   "source": [
    "#get_failed(run1_df, 't_fall'), get_failed(run1_df, 't_rise'), get_failed(run1_df, 't_delay')"
   ]
  },
  {
   "cell_type": "code",
   "execution_count": null,
   "id": "308e3ac3-224f-4b9f-8602-8d3bc2acd13b",
   "metadata": {},
   "outputs": [
    {
     "data": {
      "text/html": [
       "<div>\n",
       "<style scoped>\n",
       "    .dataframe tbody tr th:only-of-type {\n",
       "        vertical-align: middle;\n",
       "    }\n",
       "\n",
       "    .dataframe tbody tr th {\n",
       "        vertical-align: top;\n",
       "    }\n",
       "\n",
       "    .dataframe thead th {\n",
       "        text-align: right;\n",
       "    }\n",
       "</style>\n",
       "<table border=\"1\" class=\"dataframe\">\n",
       "  <thead>\n",
       "    <tr style=\"text-align: right;\">\n",
       "      <th></th>\n",
       "      <th>type</th>\n",
       "      <th>voltage</th>\n",
       "      <th>thickness</th>\n",
       "      <th>clock_cycle</th>\n",
       "      <th>t_rise</th>\n",
       "      <th>t_fall</th>\n",
       "      <th>t_delay</th>\n",
       "    </tr>\n",
       "  </thead>\n",
       "  <tbody>\n",
       "  </tbody>\n",
       "</table>\n",
       "</div>"
      ],
      "text/plain": [
       "Empty DataFrame\n",
       "Columns: [type, voltage, thickness, clock_cycle, t_rise, t_fall, t_delay]\n",
       "Index: []"
      ]
     },
     "execution_count": null,
     "metadata": {},
     "output_type": "execute_result"
    }
   ],
   "source": [
    "run_df[run_df.t_fall == ' FAILED'].head(2)"
   ]
  },
  {
   "cell_type": "code",
   "execution_count": null,
   "id": "e79aaa42-717b-4582-9a0a-e262d8bb264c",
   "metadata": {},
   "outputs": [
    {
     "data": {
      "text/plain": [
       "[(0, 't_delay:  0.00%'), (0, 't_rise:  0.00%'), (0, 't_fall:  0.00%')]"
      ]
     },
     "execution_count": null,
     "metadata": {},
     "output_type": "execute_result"
    }
   ],
   "source": [
    "get_full_fail(run_df)"
   ]
  },
  {
   "cell_type": "code",
   "execution_count": null,
   "id": "8dcb5194-ee87-4915-a15c-c08c31abaf80",
   "metadata": {},
   "outputs": [
    {
     "data": {
      "text/plain": [
       "[(0, 't_delay:  0.00%'), (0, 't_rise:  0.00%'), (0, 't_fall:  0.00%')]"
      ]
     },
     "execution_count": null,
     "metadata": {},
     "output_type": "execute_result"
    }
   ],
   "source": [
    "get_full_fail(run_df)"
   ]
  },
  {
   "cell_type": "code",
   "execution_count": null,
   "id": "abf887d3-fd10-4947-b26c-8e2b286fb2eb",
   "metadata": {},
   "outputs": [
    {
     "data": {
      "text/plain": [
       "[(0, 't_delay:  0.00%'), (0, 't_rise:  0.00%'), (0, 't_fall:  0.00%')]"
      ]
     },
     "execution_count": null,
     "metadata": {},
     "output_type": "execute_result"
    }
   ],
   "source": [
    "get_full_fail(run_df)"
   ]
  },
  {
   "cell_type": "code",
   "execution_count": null,
   "id": "31bed209-fcc7-47fa-b359-06f64f071534",
   "metadata": {},
   "outputs": [
    {
     "data": {
      "text/plain": [
       "[(0, 't_delay:  0.00%'), (0, 't_rise:  0.00%'), (0, 't_fall:  0.00%')]"
      ]
     },
     "execution_count": null,
     "metadata": {},
     "output_type": "execute_result"
    }
   ],
   "source": [
    "get_full_fail(run_df)"
   ]
  },
  {
   "cell_type": "code",
   "execution_count": null,
   "id": "2c4d5392-4311-48c6-9628-0ca29d622cf7",
   "metadata": {},
   "outputs": [
    {
     "data": {
      "text/plain": [
       "[(0, 't_delay:  0.00%'), (0, 't_rise:  0.00%'), (0, 't_fall:  0.00%')]"
      ]
     },
     "execution_count": null,
     "metadata": {},
     "output_type": "execute_result"
    }
   ],
   "source": [
    "get_full_fail(run_df)"
   ]
  },
  {
   "cell_type": "code",
   "execution_count": null,
   "id": "61997d3c-6222-4d56-b72d-98229e048739",
   "metadata": {},
   "outputs": [
    {
     "data": {
      "text/plain": [
       "11340"
      ]
     },
     "execution_count": null,
     "metadata": {},
     "output_type": "execute_result"
    }
   ],
   "source": [
    "run_len = run_df.shape[0]\n",
    "run_len"
   ]
  },
  {
   "cell_type": "markdown",
   "id": "b7c06216-8952-489d-bcdb-37c290dc389b",
   "metadata": {},
   "source": [
    "Just to check that we are getting 11k samples as expected!"
   ]
  },
  {
   "cell_type": "code",
   "execution_count": null,
   "id": "20d271e0-f5db-4f42-aefd-46339755fb21",
   "metadata": {},
   "outputs": [],
   "source": []
  }
 ],
 "metadata": {
  "kernelspec": {
   "display_name": "Python 3 (ipykernel)",
   "language": "python",
   "name": "python3"
  }
 },
 "nbformat": 4,
 "nbformat_minor": 5
}
