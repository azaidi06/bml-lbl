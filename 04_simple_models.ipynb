{
 "cells": [
  {
   "cell_type": "markdown",
   "metadata": {},
   "source": [
    "### Lets do a more full scale analysis of our data with a few different types of models"
   ]
  },
  {
   "cell_type": "code",
   "execution_count": null,
   "metadata": {},
   "outputs": [],
   "source": [
    "from sklearn.preprocessing import StandardScaler\n",
    "from sklearn.linear_model import Ridge, RidgeCV\n",
    "from sklearn.ensemble import RandomForestRegressor \n",
    "from sklearn.metrics import mean_squared_error, r2_score\n",
    "from sklearn.model_selection import train_test_split\n",
    "import matplotlib.pyplot as plt\n",
    "import pandas as pd\n",
    "import numpy as np\n",
    "import xgboost as xgb"
   ]
  },
  {
   "cell_type": "markdown",
   "metadata": {},
   "source": [
    "First, we'll extract the data for a single run. This should feature 10 different gates"
   ]
  },
  {
   "cell_type": "code",
   "execution_count": null,
   "metadata": {},
   "outputs": [
    {
     "data": {
      "text/html": [
       "<div>\n",
       "<style scoped>\n",
       "    .dataframe tbody tr th:only-of-type {\n",
       "        vertical-align: middle;\n",
       "    }\n",
       "\n",
       "    .dataframe tbody tr th {\n",
       "        vertical-align: top;\n",
       "    }\n",
       "\n",
       "    .dataframe thead th {\n",
       "        text-align: right;\n",
       "    }\n",
       "</style>\n",
       "<table border=\"1\" class=\"dataframe\">\n",
       "  <thead>\n",
       "    <tr style=\"text-align: right;\">\n",
       "      <th></th>\n",
       "      <th>gate_type</th>\n",
       "      <th>voltage</th>\n",
       "      <th>thickness</th>\n",
       "      <th>clock_cycle</th>\n",
       "      <th>t_rise</th>\n",
       "      <th>t_fall</th>\n",
       "      <th>t_delay</th>\n",
       "    </tr>\n",
       "  </thead>\n",
       "  <tbody>\n",
       "    <tr>\n",
       "      <th>0</th>\n",
       "      <td>buffer</td>\n",
       "      <td>0.3</td>\n",
       "      <td>0.1</td>\n",
       "      <td>100</td>\n",
       "      <td>3.131324e-12</td>\n",
       "      <td>3.172790e-12</td>\n",
       "      <td>9.921646e-12</td>\n",
       "    </tr>\n",
       "    <tr>\n",
       "      <th>1</th>\n",
       "      <td>buffer</td>\n",
       "      <td>0.4</td>\n",
       "      <td>0.1</td>\n",
       "      <td>100</td>\n",
       "      <td>8.473565e-13</td>\n",
       "      <td>1.456597e-12</td>\n",
       "      <td>7.269524e-12</td>\n",
       "    </tr>\n",
       "  </tbody>\n",
       "</table>\n",
       "</div>"
      ],
      "text/plain": [
       "  gate_type  voltage  thickness  clock_cycle        t_rise        t_fall  \\\n",
       "0    buffer      0.3        0.1          100  3.131324e-12  3.172790e-12   \n",
       "1    buffer      0.4        0.1          100  8.473565e-13  1.456597e-12   \n",
       "\n",
       "        t_delay  \n",
       "0  9.921646e-12  \n",
       "1  7.269524e-12  "
      ]
     },
     "execution_count": null,
     "metadata": {},
     "output_type": "execute_result"
    }
   ],
   "source": [
    "df = pd.read_csv('data/ten_gate.csv')\n",
    "df.head(2)"
   ]
  },
  {
   "cell_type": "code",
   "execution_count": null,
   "metadata": {},
   "outputs": [
    {
     "data": {
      "text/plain": [
       "array([0.3, 0.4, 0.5, 0.6, 0.7, 0.8, 0.9])"
      ]
     },
     "execution_count": null,
     "metadata": {},
     "output_type": "execute_result"
    }
   ],
   "source": [
    "df.voltage.unique()"
   ]
  },
  {
   "cell_type": "code",
   "execution_count": null,
   "metadata": {},
   "outputs": [
    {
     "data": {
      "text/plain": [
       "array([0.1, 0.2, 0.3, 0.4, 0.5, 0.6, 0.7, 0.8, 0.9, 1. , 2. , 3. , 4. ,\n",
       "       5. , 6. , 7. , 8. , 9. ])"
      ]
     },
     "execution_count": null,
     "metadata": {},
     "output_type": "execute_result"
    }
   ],
   "source": [
    "df.thickness.unique()"
   ]
  },
  {
   "cell_type": "code",
   "execution_count": null,
   "metadata": {},
   "outputs": [
    {
     "data": {
      "text/plain": [
       "array([100, 200, 300, 400, 500, 600, 700, 800, 900])"
      ]
     },
     "execution_count": null,
     "metadata": {},
     "output_type": "execute_result"
    }
   ],
   "source": [
    "df.clock_cycle.unique()"
   ]
  },
  {
   "cell_type": "code",
   "execution_count": null,
   "metadata": {},
   "outputs": [
    {
     "data": {
      "text/plain": [
       "array(['buffer', 'inv_x1', 'inv_x2', 'inv_x4', 'nand2', 'nand3', 'nand4',\n",
       "       'nor2', 'nor3', 'nor4'], dtype='<U6')"
      ]
     },
     "execution_count": null,
     "metadata": {},
     "output_type": "execute_result"
    }
   ],
   "source": [
    "unique_gates = list(df.gate_type.unique())\n",
    "np.array(unique_gates)"
   ]
  },
  {
   "cell_type": "markdown",
   "metadata": {},
   "source": [
    "We'll need to drop some failed values in our nand4 gate in order to proceed, you can see the heatmap at the bottom of notebook #3 in order to confirm the need for this"
   ]
  },
  {
   "cell_type": "code",
   "execution_count": null,
   "metadata": {},
   "outputs": [
    {
     "data": {
      "text/plain": [
       "0"
      ]
     },
     "execution_count": null,
     "metadata": {},
     "output_type": "execute_result"
    }
   ],
   "source": [
    "#these are the bad t_fall values in nand4 that need to be dropped\n",
    "nand4_drop_idxs = ((df['gate_type'] == 'nand4') & (df['t_fall'] == ' FAILED')).values\n",
    "nand4_drop_idxs.sum()"
   ]
  },
  {
   "cell_type": "code",
   "execution_count": null,
   "metadata": {},
   "outputs": [
    {
     "data": {
      "text/plain": [
       "(11340, 7)"
      ]
     },
     "execution_count": null,
     "metadata": {},
     "output_type": "execute_result"
    }
   ],
   "source": [
    "df = df.loc[~nand4_drop_idxs].reset_index(drop=True)\n",
    "df.shape"
   ]
  },
  {
   "cell_type": "markdown",
   "metadata": {},
   "source": [
    "Lets flesh out a few functions that will make our lives easier in order to index into our data appropriately and drop whatever items we might need to be removed"
   ]
  },
  {
   "cell_type": "code",
   "execution_count": null,
   "metadata": {},
   "outputs": [],
   "source": [
    "def get_gate(gate_type='buffer'): return df[df.gate_type == gate_type]"
   ]
  },
  {
   "cell_type": "code",
   "execution_count": null,
   "metadata": {},
   "outputs": [],
   "source": [
    "def get_gate_xy(gate_type='buffer'):\n",
    "    #y_drop = 't_fall' if gate_type == 'buffer' else 't_rise'\n",
    "    df = get_gate(gate_type)\n",
    "    x_cols = ['clock_cycle', 'thickness', 'voltage']\n",
    "    y_cols = ['t_delay', 't_rise', 't_fall']\n",
    "    #y_cols.remove(y_drop)\n",
    "    x = np.vstack(df[x_cols].values).astype('float')\n",
    "    y = np.vstack(np.vstack(df[y_cols].values)).astype('float')\n",
    "    return x, y"
   ]
  },
  {
   "cell_type": "code",
   "execution_count": null,
   "metadata": {},
   "outputs": [
    {
     "data": {
      "text/plain": [
       "((1134, 3), (1134, 3))"
      ]
     },
     "execution_count": null,
     "metadata": {},
     "output_type": "execute_result"
    }
   ],
   "source": [
    "x, y = get_gate_xy('nor3')\n",
    "x.shape, y.shape"
   ]
  },
  {
   "cell_type": "code",
   "execution_count": null,
   "metadata": {},
   "outputs": [
    {
     "data": {
      "text/plain": [
       "{'buffer': None,\n",
       " 'inv_x1': None,\n",
       " 'inv_x2': None,\n",
       " 'inv_x4': None,\n",
       " 'nand2': None,\n",
       " 'nand3': None,\n",
       " 'nand4': None,\n",
       " 'nor2': None,\n",
       " 'nor3': None,\n",
       " 'nor4': None}"
      ]
     },
     "execution_count": null,
     "metadata": {},
     "output_type": "execute_result"
    }
   ],
   "source": [
    "gate_dict = dict.fromkeys(unique_gates)\n",
    "gate_dict"
   ]
  },
  {
   "cell_type": "code",
   "execution_count": null,
   "metadata": {},
   "outputs": [],
   "source": [
    "for gate in unique_gates: \n",
    "    gate_dict[gate] = get_gate_xy(gate_type=gate)"
   ]
  },
  {
   "cell_type": "code",
   "execution_count": null,
   "metadata": {},
   "outputs": [
    {
     "data": {
      "text/plain": [
       "((850, 3), (284, 3), (850, 3), (284, 3))"
      ]
     },
     "execution_count": null,
     "metadata": {},
     "output_type": "execute_result"
    }
   ],
   "source": [
    "x, y = gate_dict['buffer']\n",
    "x_tr, x_val, y_tr, y_val = train_test_split(x,y)\n",
    "x_tr.shape, x_val.shape, y_tr.shape, y_val.shape"
   ]
  },
  {
   "cell_type": "markdown",
   "metadata": {},
   "source": [
    "### Ok, we have a dictionary with our gates that we can quickly index into and do our model training and evaluation with"
   ]
  },
  {
   "cell_type": "markdown",
   "metadata": {},
   "source": [
    "## Lets flesh out and then add some new models into the mix for our analysis.\n",
    "\n",
    "We'll add the following models: \n",
    "\n",
    "- ElasticNet: (https://scikit-learn.org/stable/modules/generated/sklearn.linear_model.ElasticNet.html)\n",
    "- Lasso: (https://scikit-learn.org/stable/modules/generated/sklearn.linear_model.Lasso.html)\n",
    "- LassoCV: (https://scikit-learn.org/stable/modules/generated/sklearn.linear_model.LassoCV.html)\n",
    "- ElasticNetCv: (https://scikit-learn.org/stable/modules/generated/sklearn.linear_model.ElasticNetCV.html)\n",
    "\n",
    "To our previously used models:\n",
    "- Ridge Regression: (https://scikit-learn.org/stable/modules/generated/sklearn.linear_model.Ridge.html)\n",
    "- RandomForests: (https://scikit-learn.org/stable/modules/generated/sklearn.ensemble.RandomForestRegressor.html)\n",
    "- XGBoost: (https://xgboost.readthedocs.io/en/stable/) --> Gradient Boosted Trees\n",
    "\n",
    "We'll also introduce and begin to make use of using Polynomial Features (https://scikit-learn.org/stable/modules/generated/sklearn.preprocessing.PolynomialFeatures.html) to help our models by introducing polynomial combinations of our independent variables (x)"
   ]
  },
  {
   "cell_type": "code",
   "execution_count": null,
   "metadata": {},
   "outputs": [],
   "source": [
    "from sklearn.preprocessing import PolynomialFeatures\n",
    "from sklearn.linear_model import ElasticNet, LassoCV, MultiTaskLassoCV, MultiTaskElasticNetCV\n",
    "from sklearn import linear_model"
   ]
  },
  {
   "cell_type": "code",
   "execution_count": null,
   "metadata": {},
   "outputs": [
    {
     "data": {
      "text/plain": [
       "(1134, 10)"
      ]
     },
     "execution_count": null,
     "metadata": {},
     "output_type": "execute_result"
    }
   ],
   "source": [
    "PolynomialFeatures(2).fit_transform(x).shape"
   ]
  },
  {
   "cell_type": "code",
   "execution_count": null,
   "metadata": {},
   "outputs": [
    {
     "name": "stdout",
     "output_type": "stream",
     "text": [
      "-0.0022711123702880234\n"
     ]
    }
   ],
   "source": [
    "#without polynomial features.....\n",
    "regr = ElasticNet()\n",
    "regr.fit(x_tr,y_tr);\n",
    "#print(regr.coef_)\n",
    "print(regr.score(x_val,y_val))"
   ]
  },
  {
   "cell_type": "code",
   "execution_count": null,
   "metadata": {},
   "outputs": [
    {
     "name": "stdout",
     "output_type": "stream",
     "text": [
      "-0.0022711123702880234\n"
     ]
    }
   ],
   "source": [
    "#with polynomial features.....\n",
    "regr = ElasticNet()\n",
    "poly_x = PolynomialFeatures(2).fit_transform(x_tr)\n",
    "regr.fit(poly_x, y_tr);\n",
    "poly_x_val = PolynomialFeatures(2).fit_transform(x_val)\n",
    "print(regr.score(poly_x_val, y_val))"
   ]
  },
  {
   "cell_type": "code",
   "execution_count": null,
   "metadata": {},
   "outputs": [
    {
     "data": {
      "text/plain": [
       "((1134, 10), (1134, 3))"
      ]
     },
     "execution_count": null,
     "metadata": {},
     "output_type": "execute_result"
    }
   ],
   "source": [
    "stacked_poly_x = np.vstack([poly_x, poly_x_val])\n",
    "stacked_poly_x.shape, x.shape"
   ]
  },
  {
   "cell_type": "code",
   "execution_count": null,
   "metadata": {},
   "outputs": [],
   "source": [
    "#import timeit\n",
    "#poly_x.shape, poly_x_val.shape\n",
    "#%timeit regr.predict(stacked_x)"
   ]
  },
  {
   "cell_type": "markdown",
   "metadata": {},
   "source": [
    "The models all follow the same pattern in terms of how they are called, so lets wrap them all into a function.\n",
    "That was ugly and too much repeated code"
   ]
  },
  {
   "cell_type": "code",
   "execution_count": null,
   "metadata": {},
   "outputs": [],
   "source": [
    "#lets introduce partial functions to clean up our code a little\n",
    "from functools import partial"
   ]
  },
  {
   "cell_type": "code",
   "execution_count": null,
   "metadata": {},
   "outputs": [],
   "source": [
    "def normalize(x): return x / x.min() #used to normalize our Y values\n",
    "\n",
    "def poly_x(x, num_poly=2): return PolynomialFeatures(num_poly).fit_transform(x)\n",
    "\n",
    "def do_simple_model(x, y, model_name='ridge', num_poly=2, alpha=1.0, norm_y=True, print_vals=True,\n",
    "                   get_model=False):\n",
    "    x_tr, x_val, y_tr, y_val = train_test_split(x,y)\n",
    "    \n",
    "    #lets convert our independent variable into a different polynomial combination\n",
    "    if num_poly: x_tr, x_val = poly_x(x_tr, num_poly), poly_x(x_val, num_poly)\n",
    "    \n",
    "    alps = np.logspace(-5,-1)\n",
    "    \n",
    "    if model_name   == 'ridge': model = Ridge(alpha=alpha, random_state=0)\n",
    "    elif model_name == 'ridge-cv': model = RidgeCV()#alphas=alps)\n",
    "    #elif model_name == 'lasso': model = linear_model.Lasso(alpha=alpha,random_state=0)\n",
    "    #elif model_name == 'elastic': model = ElasticNet(random_state=0)\n",
    "    elif model_name == 'lasso': model = MultiTaskLassoCV(random_state=0, alphas=alps, max_iter=10000)\n",
    "    elif model_name == 'elastic': model = MultiTaskElasticNetCV(random_state=0, alphas=alps, max_iter=10000,\n",
    "                                                                  l1_ratio=np.arange(0.1, 1, 0.1))\n",
    "    elif model_name == 'random_forest': model = RandomForestRegressor(max_depth=100, random_state=0)\n",
    "    elif model_name == 'xgboost': model = xgb.XGBRegressor(eval_metric='rmse', random_state=0)\n",
    "    \n",
    "    #normally want to normalize y values for regression problem\n",
    "    if norm_y: y_tr, y_val = normalize(y_tr), normalize(y_val)\n",
    "    \n",
    "    #now lets fit our model to our training data\n",
    "    model.fit(x_tr, y_tr)\n",
    "    \n",
    "    #we'll predict our R2 score on only the validation data\n",
    "    r2score = model.score(x_val, y_val)\n",
    "    if print_vals: print(f'for a {model_name} model, the validation R2 score is: {r2score:2f}')\n",
    "    if get_model: return model\n",
    "    return r2score"
   ]
  },
  {
   "cell_type": "code",
   "execution_count": null,
   "metadata": {},
   "outputs": [],
   "source": [
    "def run_models(gate_type='buffer', random_state=0, print_vals=True):\n",
    "    print(f'-----Analyzing the {gate_type} gate-----')\n",
    "    x, y = gate_dict[gate_type]\n",
    "    scores = []\n",
    "    do_model = partial(do_simple_model, x, y, print_vals=print_vals)\n",
    "    #do_model(model_name='lasso')\n",
    "    #do_model(model_name='elastic')\n",
    "    scores.append(do_model(model_name='ridge', norm_y=False))\n",
    "    #scores.append(do_model(model_name='ridge-cv', norm_y=True))\n",
    "    scores.append(do_model(model_name='lasso'))\n",
    "    scores.append(do_model(model_name='elastic'))\n",
    "    scores.append(do_model(model_name='random_forest', num_poly=False))\n",
    "    scores.append(do_model(model_name='xgboost', num_poly=False))\n",
    "    return scores\n",
    "    print('\\n')"
   ]
  },
  {
   "cell_type": "code",
   "execution_count": null,
   "metadata": {},
   "outputs": [
    {
     "name": "stdout",
     "output_type": "stream",
     "text": [
      "-----Analyzing the buffer gate-----\n",
      "for a ridge model, the validation R2 score is: 0.739623\n",
      "for a lasso model, the validation R2 score is: 0.886017\n",
      "for a elastic model, the validation R2 score is: 0.912137\n",
      "for a random_forest model, the validation R2 score is: 1.000000\n",
      "for a xgboost model, the validation R2 score is: 0.999999\n"
     ]
    }
   ],
   "source": [
    "#test run on just the buffer gate\n",
    "_ = run_models(print_vals=True)"
   ]
  },
  {
   "cell_type": "code",
   "execution_count": null,
   "metadata": {},
   "outputs": [],
   "source": [
    "def model_gates(gate_dict, print_vals=True):\n",
    "    gate_scores = {}\n",
    "    gate_types = (gate_dict.keys())\n",
    "    for gate_type in gate_types: \n",
    "        scores = run_models(gate_type, print_vals=print_vals)\n",
    "        gate_scores[gate_type] = scores\n",
    "    results_df = pd.DataFrame(gate_scores).T.rename(columns={0:'ridge', 1:'lasso', 2: 'elasticnet',\n",
    "                                                        3: 'random-forest', 4: 'xgboost'}).T\n",
    "    return results_df"
   ]
  },
  {
   "cell_type": "code",
   "execution_count": null,
   "metadata": {},
   "outputs": [
    {
     "name": "stdout",
     "output_type": "stream",
     "text": [
      "-----Analyzing the buffer gate-----\n",
      "-----Analyzing the inv_x1 gate-----\n",
      "-----Analyzing the inv_x2 gate-----\n",
      "-----Analyzing the inv_x4 gate-----\n",
      "-----Analyzing the nand2 gate-----\n",
      "-----Analyzing the nand3 gate-----\n",
      "-----Analyzing the nand4 gate-----\n",
      "-----Analyzing the nor2 gate-----\n",
      "-----Analyzing the nor3 gate-----\n",
      "-----Analyzing the nor4 gate-----\n"
     ]
    },
    {
     "data": {
      "text/html": [
       "<div>\n",
       "<style scoped>\n",
       "    .dataframe tbody tr th:only-of-type {\n",
       "        vertical-align: middle;\n",
       "    }\n",
       "\n",
       "    .dataframe tbody tr th {\n",
       "        vertical-align: top;\n",
       "    }\n",
       "\n",
       "    .dataframe thead th {\n",
       "        text-align: right;\n",
       "    }\n",
       "</style>\n",
       "<table border=\"1\" class=\"dataframe\">\n",
       "  <thead>\n",
       "    <tr style=\"text-align: right;\">\n",
       "      <th></th>\n",
       "      <th>buffer</th>\n",
       "      <th>inv_x1</th>\n",
       "      <th>inv_x2</th>\n",
       "      <th>inv_x4</th>\n",
       "      <th>nand2</th>\n",
       "      <th>nand3</th>\n",
       "      <th>nand4</th>\n",
       "      <th>nor2</th>\n",
       "      <th>nor3</th>\n",
       "      <th>nor4</th>\n",
       "    </tr>\n",
       "  </thead>\n",
       "  <tbody>\n",
       "    <tr>\n",
       "      <th>ridge</th>\n",
       "      <td>0.745253</td>\n",
       "      <td>0.889471</td>\n",
       "      <td>0.870870</td>\n",
       "      <td>0.875719</td>\n",
       "      <td>0.863158</td>\n",
       "      <td>0.912426</td>\n",
       "      <td>0.881609</td>\n",
       "      <td>0.820179</td>\n",
       "      <td>0.820052</td>\n",
       "      <td>0.792159</td>\n",
       "    </tr>\n",
       "    <tr>\n",
       "      <th>lasso</th>\n",
       "      <td>0.907902</td>\n",
       "      <td>0.937518</td>\n",
       "      <td>0.927225</td>\n",
       "      <td>0.935633</td>\n",
       "      <td>0.919472</td>\n",
       "      <td>0.947173</td>\n",
       "      <td>0.907567</td>\n",
       "      <td>0.932286</td>\n",
       "      <td>0.919989</td>\n",
       "      <td>0.894468</td>\n",
       "    </tr>\n",
       "    <tr>\n",
       "      <th>elasticnet</th>\n",
       "      <td>0.888917</td>\n",
       "      <td>0.932406</td>\n",
       "      <td>0.928363</td>\n",
       "      <td>0.938069</td>\n",
       "      <td>0.918277</td>\n",
       "      <td>0.938498</td>\n",
       "      <td>0.925002</td>\n",
       "      <td>0.930436</td>\n",
       "      <td>0.925484</td>\n",
       "      <td>0.898558</td>\n",
       "    </tr>\n",
       "    <tr>\n",
       "      <th>random-forest</th>\n",
       "      <td>1.000000</td>\n",
       "      <td>1.000000</td>\n",
       "      <td>1.000000</td>\n",
       "      <td>1.000000</td>\n",
       "      <td>1.000000</td>\n",
       "      <td>1.000000</td>\n",
       "      <td>1.000000</td>\n",
       "      <td>1.000000</td>\n",
       "      <td>1.000000</td>\n",
       "      <td>1.000000</td>\n",
       "    </tr>\n",
       "    <tr>\n",
       "      <th>xgboost</th>\n",
       "      <td>1.000000</td>\n",
       "      <td>0.999999</td>\n",
       "      <td>0.999999</td>\n",
       "      <td>0.999999</td>\n",
       "      <td>1.000000</td>\n",
       "      <td>1.000000</td>\n",
       "      <td>0.999999</td>\n",
       "      <td>1.000000</td>\n",
       "      <td>1.000000</td>\n",
       "      <td>0.999999</td>\n",
       "    </tr>\n",
       "  </tbody>\n",
       "</table>\n",
       "</div>"
      ],
      "text/plain": [
       "                 buffer    inv_x1    inv_x2    inv_x4     nand2     nand3  \\\n",
       "ridge          0.745253  0.889471  0.870870  0.875719  0.863158  0.912426   \n",
       "lasso          0.907902  0.937518  0.927225  0.935633  0.919472  0.947173   \n",
       "elasticnet     0.888917  0.932406  0.928363  0.938069  0.918277  0.938498   \n",
       "random-forest  1.000000  1.000000  1.000000  1.000000  1.000000  1.000000   \n",
       "xgboost        1.000000  0.999999  0.999999  0.999999  1.000000  1.000000   \n",
       "\n",
       "                  nand4      nor2      nor3      nor4  \n",
       "ridge          0.881609  0.820179  0.820052  0.792159  \n",
       "lasso          0.907567  0.932286  0.919989  0.894468  \n",
       "elasticnet     0.925002  0.930436  0.925484  0.898558  \n",
       "random-forest  1.000000  1.000000  1.000000  1.000000  \n",
       "xgboost        0.999999  1.000000  1.000000  0.999999  "
      ]
     },
     "execution_count": null,
     "metadata": {},
     "output_type": "execute_result"
    }
   ],
   "source": [
    "results_df = model_gates(gate_dict, print_vals=False)\n",
    "results_df"
   ]
  },
  {
   "cell_type": "code",
   "execution_count": null,
   "metadata": {},
   "outputs": [
    {
     "data": {
      "image/png": "[encoded data removed]",
      "text/plain": [
       "<Figure size 432x288 with 1 Axes>"
      ]
     },
     "metadata": {
      "needs_background": "light"
     },
     "output_type": "display_data"
    }
   ],
   "source": [
    "results_df = results_df.T.rename(columns={'ridge':'Ridge', 'lasso':'Lasso', 'elasticnet': 'Elasticnet',\n",
    "                            'random-forest': 'Random-Forest', 'xgboost': 'Gradient Boosting'}).T\n",
    "results_df.plot.line(title='R2 Validation Scores per Gate',\n",
    "                    xlabel='Model', ylabel='Validation R2')\n",
    "plt.xticks(rotation=45);"
   ]
  },
  {
   "cell_type": "markdown",
   "metadata": {},
   "source": [
    "## add inference time calculcation + plot for slide"
   ]
  },
  {
   "cell_type": "code",
   "execution_count": null,
   "metadata": {},
   "outputs": [],
   "source": [
    "def inf_models(gate_type='buffer', random_state=0, print_vals=True):\n",
    "    print(f'-----Analyzing the {gate_type} gate-----')\n",
    "    x, y = gate_dict[gate_type]\n",
    "    models = []\n",
    "    do_model = partial(do_simple_model, x, y, print_vals=print_vals)\n",
    "    #do_model(model_name='lasso')\n",
    "    #do_model(model_name='elastic')\n",
    "    models.append(do_model(model_name='ridge', norm_y=False, get_model=True))\n",
    "    #scores.append(do_model(model_name='ridge-cv', norm_y=True))\n",
    "    models.append(do_model(model_name='lasso', get_model=True))\n",
    "    models.append(do_model(model_name='elastic', get_model=True))\n",
    "    models.append(do_model(model_name='random_forest', num_poly=False, get_model=True))\n",
    "    models.append(do_model(model_name='xgboost', num_poly=False, get_model=True))\n",
    "    return models"
   ]
  },
  {
   "cell_type": "code",
   "execution_count": null,
   "metadata": {},
   "outputs": [
    {
     "name": "stdout",
     "output_type": "stream",
     "text": [
      "-----Analyzing the buffer gate-----\n",
      "for a ridge model, the validation R2 score is: 0.743894\n",
      "for a lasso model, the validation R2 score is: 0.887854\n",
      "for a elastic model, the validation R2 score is: 0.894700\n",
      "for a random_forest model, the validation R2 score is: 1.000000\n",
      "for a xgboost model, the validation R2 score is: 1.000000\n"
     ]
    },
    {
     "data": {
      "text/plain": [
       "5"
      ]
     },
     "execution_count": null,
     "metadata": {},
     "output_type": "execute_result"
    }
   ],
   "source": [
    "inf_models = inf_models()\n",
    "len(inf_models)"
   ]
  },
  {
   "cell_type": "code",
   "execution_count": null,
   "metadata": {},
   "outputs": [],
   "source": [
    "poly_x = PolynomialFeatures(2).fit_transform(x_tr)\n",
    "poly_x_val = PolynomialFeatures(2).fit_transform(x_val)\n",
    "stacked_x = np.vstack([poly_x, poly_x_val])"
   ]
  },
  {
   "cell_type": "code",
   "execution_count": null,
   "metadata": {},
   "outputs": [
    {
     "data": {
      "text/plain": [
       "[(1134, 3), (1134, 3), (1134, 3)]"
      ]
     },
     "execution_count": null,
     "metadata": {},
     "output_type": "execute_result"
    }
   ],
   "source": [
    "[inf_models[x].predict(stacked_x).shape for x in range(len(inf_models)-2)]"
   ]
  },
  {
   "cell_type": "code",
   "execution_count": null,
   "metadata": {},
   "outputs": [
    {
     "name": "stdout",
     "output_type": "stream",
     "text": [
      "30.1 µs ± 111 ns per loop (mean ± std. dev. of 7 runs, 10,000 loops each)\n"
     ]
    }
   ],
   "source": [
    "%timeit inf_models[0].predict(stacked_x) #ridge model"
   ]
  },
  {
   "cell_type": "code",
   "execution_count": null,
   "metadata": {},
   "outputs": [
    {
     "name": "stdout",
     "output_type": "stream",
     "text": [
      "30.5 µs ± 44.1 ns per loop (mean ± std. dev. of 7 runs, 10,000 loops each)\n"
     ]
    }
   ],
   "source": [
    "%timeit inf_models[1].predict(stacked_x) # lasso"
   ]
  },
  {
   "cell_type": "code",
   "execution_count": null,
   "metadata": {},
   "outputs": [
    {
     "name": "stdout",
     "output_type": "stream",
     "text": [
      "30.8 µs ± 60.8 ns per loop (mean ± std. dev. of 7 runs, 10,000 loops each)\n"
     ]
    }
   ],
   "source": [
    "%timeit inf_models[2].predict(stacked_x) # elastic"
   ]
  },
  {
   "cell_type": "code",
   "execution_count": null,
   "metadata": {},
   "outputs": [
    {
     "name": "stdout",
     "output_type": "stream",
     "text": [
      "4.32 ms ± 6.7 µs per loop (mean ± std. dev. of 7 runs, 100 loops each)\n"
     ]
    }
   ],
   "source": [
    "%timeit inf_models[3].predict(x) # Random Forest"
   ]
  },
  {
   "cell_type": "code",
   "execution_count": null,
   "metadata": {},
   "outputs": [
    {
     "name": "stdout",
     "output_type": "stream",
     "text": [
      "1.03 ms ± 10.2 µs per loop (mean ± std. dev. of 7 runs, 1,000 loops each)\n"
     ]
    }
   ],
   "source": [
    "%timeit inf_models[4].predict(x) # XGBoost"
   ]
  },
  {
   "cell_type": "code",
   "execution_count": null,
   "metadata": {},
   "outputs": [
    {
     "data": {
      "text/plain": [
       "{'Ridge': 2.63e-05,\n",
       " 'Lasso': 2.73e-05,\n",
       " 'Elastic': 2.7499999999999998e-05,\n",
       " 'Random-Forest': 0.00404,\n",
       " 'Gradient Boosting': 0.00103}"
      ]
     },
     "execution_count": null,
     "metadata": {},
     "output_type": "execute_result"
    }
   ],
   "source": [
    "inf_times = {'Ridge' : 26.3*1e-6,\n",
    "             'Lasso' : 27.3*1e-6,\n",
    "             'Elastic' : 27.5 * 1e-6,\n",
    "             'Random-Forest' : 4.04 * 1e-3,\n",
    "             'Gradient Boosting' : 1.03 * 1e-3}\n",
    "inf_times"
   ]
  },
  {
   "cell_type": "code",
   "execution_count": null,
   "metadata": {},
   "outputs": [
    {
     "data": {
      "image/png": "[encoded data removed]",
      "text/plain": [
       "<Figure size 432x288 with 1 Axes>"
      ]
     },
     "metadata": {
      "needs_background": "light"
     },
     "output_type": "display_data"
    }
   ],
   "source": [
    "plt.bar(x=inf_times.keys(), height=inf_times.values())\n",
    "plt.yscale('log')\n",
    "plt.title('Inference Time Per Model')\n",
    "plt.ylabel('Seconds')\n",
    "plt.xlabel('\\nModel')\n",
    "plt.xticks(rotation=45);"
   ]
  },
  {
   "cell_type": "markdown",
   "metadata": {},
   "source": [
    "#### probably couldve wrapped infernce stuff up into function"
   ]
  },
  {
   "cell_type": "markdown",
   "metadata": {},
   "source": [
    "To see a printout of all the results one by one....."
   ]
  },
  {
   "cell_type": "code",
   "execution_count": null,
   "metadata": {},
   "outputs": [
    {
     "name": "stdout",
     "output_type": "stream",
     "text": [
      "-----Analyzing buffer gates-----\n",
      "for a ridge model, the validation R2 score is: 0.813969\n",
      "for a lasso-cv model, the validation R2 score is: 0.693241\n",
      "for a elastic-cv model, the validation R2 score is: 0.706021\n",
      "for a random_forest model, the validation R2 score is: 1.000000\n",
      "for a xgboost model, the validation R2 score is: 1.000000\n",
      "\n",
      "\n",
      "-----Analyzing inv_x1 gates-----\n",
      "for a ridge model, the validation R2 score is: 0.876524\n",
      "for a lasso-cv model, the validation R2 score is: 0.811746\n",
      "for a elastic-cv model, the validation R2 score is: 0.838664\n",
      "for a random_forest model, the validation R2 score is: 1.000000\n",
      "for a xgboost model, the validation R2 score is: 1.000000\n",
      "\n",
      "\n",
      "-----Analyzing inv_x2 gates-----\n",
      "for a ridge model, the validation R2 score is: 0.866308\n",
      "for a lasso-cv model, the validation R2 score is: 0.823860\n",
      "for a elastic-cv model, the validation R2 score is: 0.826822\n",
      "for a random_forest model, the validation R2 score is: 1.000000\n",
      "for a xgboost model, the validation R2 score is: 0.999999\n",
      "\n",
      "\n",
      "-----Analyzing inv_x4 gates-----\n",
      "for a ridge model, the validation R2 score is: 0.872435\n",
      "for a lasso-cv model, the validation R2 score is: 0.818481\n",
      "for a elastic-cv model, the validation R2 score is: 0.832196\n",
      "for a random_forest model, the validation R2 score is: 1.000000\n",
      "for a xgboost model, the validation R2 score is: 0.999999\n",
      "\n",
      "\n",
      "-----Analyzing nand2 gates-----\n",
      "for a ridge model, the validation R2 score is: 0.865246\n",
      "for a lasso-cv model, the validation R2 score is: 0.834410\n",
      "for a elastic-cv model, the validation R2 score is: 0.825420\n",
      "for a random_forest model, the validation R2 score is: 1.000000\n",
      "for a xgboost model, the validation R2 score is: 0.999999\n",
      "\n",
      "\n",
      "-----Analyzing nand3 gates-----\n",
      "for a ridge model, the validation R2 score is: 0.932791\n",
      "for a lasso-cv model, the validation R2 score is: 0.901560\n",
      "for a elastic-cv model, the validation R2 score is: 0.913577\n",
      "for a random_forest model, the validation R2 score is: 1.000000\n",
      "for a xgboost model, the validation R2 score is: 0.999997\n",
      "\n",
      "\n",
      "-----Analyzing nand4 gates-----\n",
      "for a ridge model, the validation R2 score is: 0.854417\n",
      "for a lasso-cv model, the validation R2 score is: 0.671438\n",
      "for a elastic-cv model, the validation R2 score is: 0.658258\n",
      "for a random_forest model, the validation R2 score is: 1.000000\n",
      "for a xgboost model, the validation R2 score is: 1.000000\n",
      "\n",
      "\n",
      "-----Analyzing nor2 gates-----\n",
      "for a ridge model, the validation R2 score is: 0.839162\n",
      "for a lasso-cv model, the validation R2 score is: 0.774749\n",
      "for a elastic-cv model, the validation R2 score is: 0.745894\n",
      "for a random_forest model, the validation R2 score is: 1.000000\n",
      "for a xgboost model, the validation R2 score is: 1.000000\n",
      "\n",
      "\n",
      "-----Analyzing nor3 gates-----\n",
      "for a ridge model, the validation R2 score is: 0.828391\n",
      "for a lasso-cv model, the validation R2 score is: 0.737804\n",
      "for a elastic-cv model, the validation R2 score is: 0.735115\n",
      "for a random_forest model, the validation R2 score is: 1.000000\n",
      "for a xgboost model, the validation R2 score is: 1.000000\n",
      "\n",
      "\n",
      "-----Analyzing nor4 gates-----\n",
      "for a ridge model, the validation R2 score is: 0.838687\n",
      "for a lasso-cv model, the validation R2 score is: 0.760420\n",
      "for a elastic-cv model, the validation R2 score is: 0.738781\n",
      "for a random_forest model, the validation R2 score is: 1.000000\n",
      "for a xgboost model, the validation R2 score is: 0.999999\n",
      "\n",
      "\n"
     ]
    }
   ],
   "source": [
    "for gate_type in gate_dict.keys(): run_models(gate_type, random_state=123)"
   ]
  },
  {
   "cell_type": "markdown",
   "metadata": {},
   "source": [
    "### Looks like our Random Forest and XGBoost models are still doing the best at the moment, but will that hold after a parameter search? (all of the models are using their default parameters at the moment)"
   ]
  },
  {
   "cell_type": "code",
   "execution_count": null,
   "metadata": {},
   "outputs": [],
   "source": []
  },
  {
   "cell_type": "markdown",
   "metadata": {},
   "source": [
    "# To do:\n",
    "\n",
    "- Plotting functionality\n",
    "- Save results into Csv"
   ]
  },
  {
   "cell_type": "code",
   "execution_count": null,
   "metadata": {},
   "outputs": [],
   "source": []
  },
  {
   "cell_type": "code",
   "execution_count": null,
   "metadata": {},
   "outputs": [],
   "source": []
  },
  {
   "cell_type": "code",
   "execution_count": null,
   "metadata": {},
   "outputs": [],
   "source": []
  },
  {
   "cell_type": "code",
   "execution_count": null,
   "metadata": {},
   "outputs": [],
   "source": []
  }
 ],
 "metadata": {
  "kernelspec": {
   "display_name": "Python 3 (ipykernel)",
   "language": "python",
   "name": "python3"
  }
 },
 "nbformat": 4,
 "nbformat_minor": 4
}
