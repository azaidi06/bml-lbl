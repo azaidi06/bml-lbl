{
 "cells": [
  {
   "cell_type": "markdown",
   "metadata": {},
   "source": [
    "### Lets do a more full scale analysis of our data with a few different types of models"
   ]
  },
  {
   "cell_type": "code",
   "execution_count": null,
   "metadata": {},
   "outputs": [],
   "source": [
    "from sklearn.preprocessing import StandardScaler\n",
    "from sklearn.linear_model import Ridge\n",
    "from sklearn.ensemble import RandomForestRegressor \n",
    "from sklearn.metrics import mean_squared_error, r2_score\n",
    "from sklearn.model_selection import train_test_split\n",
    "import pandas as pd\n",
    "import numpy as np\n",
    "import xgboost as xgb"
   ]
  },
  {
   "cell_type": "markdown",
   "metadata": {},
   "source": [
    "First, we'll extract the data for a single run. This should feature 10 different gates"
   ]
  },
  {
   "cell_type": "code",
   "execution_count": null,
   "metadata": {},
   "outputs": [
    {
     "data": {
      "text/html": [
       "<div>\n",
       "<style scoped>\n",
       "    .dataframe tbody tr th:only-of-type {\n",
       "        vertical-align: middle;\n",
       "    }\n",
       "\n",
       "    .dataframe tbody tr th {\n",
       "        vertical-align: top;\n",
       "    }\n",
       "\n",
       "    .dataframe thead th {\n",
       "        text-align: right;\n",
       "    }\n",
       "</style>\n",
       "<table border=\"1\" class=\"dataframe\">\n",
       "  <thead>\n",
       "    <tr style=\"text-align: right;\">\n",
       "      <th></th>\n",
       "      <th>gate_type</th>\n",
       "      <th>voltage</th>\n",
       "      <th>thickness</th>\n",
       "      <th>clock_cycle</th>\n",
       "      <th>t_rise</th>\n",
       "      <th>t_fall</th>\n",
       "      <th>t_delay</th>\n",
       "    </tr>\n",
       "  </thead>\n",
       "  <tbody>\n",
       "    <tr>\n",
       "      <th>0</th>\n",
       "      <td>buffer</td>\n",
       "      <td>0.3</td>\n",
       "      <td>0.1</td>\n",
       "      <td>100</td>\n",
       "      <td>3.131324e-12</td>\n",
       "      <td>3.17279e-12</td>\n",
       "      <td>9.921646e-12</td>\n",
       "    </tr>\n",
       "    <tr>\n",
       "      <th>1</th>\n",
       "      <td>buffer</td>\n",
       "      <td>0.4</td>\n",
       "      <td>0.1</td>\n",
       "      <td>100</td>\n",
       "      <td>8.473565e-13</td>\n",
       "      <td>1.456597e-12</td>\n",
       "      <td>7.269524e-12</td>\n",
       "    </tr>\n",
       "  </tbody>\n",
       "</table>\n",
       "</div>"
      ],
      "text/plain": [
       "  gate_type  voltage  thickness  clock_cycle        t_rise        t_fall  \\\n",
       "0    buffer      0.3        0.1          100  3.131324e-12   3.17279e-12   \n",
       "1    buffer      0.4        0.1          100  8.473565e-13  1.456597e-12   \n",
       "\n",
       "        t_delay  \n",
       "0  9.921646e-12  \n",
       "1  7.269524e-12  "
      ]
     },
     "execution_count": null,
     "metadata": {},
     "output_type": "execute_result"
    }
   ],
   "source": [
    "df = pd.read_csv('data/run1.csv')\n",
    "df.head(2)"
   ]
  },
  {
   "cell_type": "code",
   "execution_count": null,
   "metadata": {},
   "outputs": [
    {
     "data": {
      "text/plain": [
       "array(['buffer', 'inv_x1', 'inv_x2', 'inv_x4', 'nand2', 'nand3', 'nand4',\n",
       "       'nor2', 'nor3', 'nor4'], dtype='<U6')"
      ]
     },
     "execution_count": null,
     "metadata": {},
     "output_type": "execute_result"
    }
   ],
   "source": [
    "unique_gates = list(df.gate_type.unique())\n",
    "np.array(unique_gates)"
   ]
  },
  {
   "cell_type": "markdown",
   "metadata": {},
   "source": [
    "We'll need to drop some failed values in our nand4 gate in order to proceed, you can see the heatmap at the bottom of notebook #3 in order to confirm the need for this"
   ]
  },
  {
   "cell_type": "code",
   "execution_count": null,
   "metadata": {},
   "outputs": [
    {
     "data": {
      "text/plain": [
       "36"
      ]
     },
     "execution_count": null,
     "metadata": {},
     "output_type": "execute_result"
    }
   ],
   "source": [
    "#these are the bad t_fall values in nand4 that need to be dropped\n",
    "nand4_drop_idxs = ((df['gate_type'] == 'nand4') & (df['t_fall'] == ' FAILED')).values\n",
    "nand4_drop_idxs.sum()"
   ]
  },
  {
   "cell_type": "code",
   "execution_count": null,
   "metadata": {},
   "outputs": [
    {
     "data": {
      "text/plain": [
       "(11304, 7)"
      ]
     },
     "execution_count": null,
     "metadata": {},
     "output_type": "execute_result"
    }
   ],
   "source": [
    "df = df.loc[~nand4_drop_idxs].reset_index(drop=True)\n",
    "df.shape"
   ]
  },
  {
   "cell_type": "markdown",
   "metadata": {},
   "source": [
    "Lets flesh out a few functions that will make our lives easier in order to index into our data appropriately and drop whatever items we might need to be removed"
   ]
  },
  {
   "cell_type": "code",
   "execution_count": null,
   "metadata": {},
   "outputs": [],
   "source": [
    "def get_gate(gate_type='buffer'): return df[df.gate_type == gate_type]"
   ]
  },
  {
   "cell_type": "code",
   "execution_count": null,
   "metadata": {},
   "outputs": [],
   "source": [
    "def get_gate_xy(gate_type='buffer'):\n",
    "    y_drop = 't_fall' if gate_type=='buffer' else 't_rise'\n",
    "    df = get_gate(gate_type)\n",
    "    x_cols = ['clock_cycle', 'thickness', 'voltage']\n",
    "    y_cols = ['t_delay', 't_rise', 't_fall']\n",
    "    y_cols.remove(y_drop)\n",
    "    x = np.vstack(df[x_cols].values).astype('float')\n",
    "    y = np.vstack(np.vstack(df[y_cols].values)).astype('float')\n",
    "    return x, y"
   ]
  },
  {
   "cell_type": "code",
   "execution_count": null,
   "metadata": {},
   "outputs": [
    {
     "data": {
      "text/plain": [
       "((1134, 3), (1134, 2))"
      ]
     },
     "execution_count": null,
     "metadata": {},
     "output_type": "execute_result"
    }
   ],
   "source": [
    "x, y = get_gate_xy('nor3')\n",
    "x.shape, y.shape"
   ]
  },
  {
   "cell_type": "code",
   "execution_count": null,
   "metadata": {},
   "outputs": [
    {
     "data": {
      "text/plain": [
       "{'buffer': None,\n",
       " 'inv_x1': None,\n",
       " 'inv_x2': None,\n",
       " 'inv_x4': None,\n",
       " 'nand2': None,\n",
       " 'nand3': None,\n",
       " 'nand4': None,\n",
       " 'nor2': None,\n",
       " 'nor3': None,\n",
       " 'nor4': None}"
      ]
     },
     "execution_count": null,
     "metadata": {},
     "output_type": "execute_result"
    }
   ],
   "source": [
    "gate_dict = dict.fromkeys(unique_gates)\n",
    "gate_dict"
   ]
  },
  {
   "cell_type": "code",
   "execution_count": null,
   "metadata": {},
   "outputs": [],
   "source": [
    "for gate in unique_gates: \n",
    "    gate_dict[gate] = get_gate_xy(gate_type=gate)"
   ]
  },
  {
   "cell_type": "code",
   "execution_count": null,
   "metadata": {},
   "outputs": [
    {
     "data": {
      "text/plain": [
       "((850, 3), (284, 3), (850, 2), (284, 2))"
      ]
     },
     "execution_count": null,
     "metadata": {},
     "output_type": "execute_result"
    }
   ],
   "source": [
    "x, y = gate_dict['buffer']\n",
    "x_tr, x_val, y_tr, y_val = train_test_split(x,y)\n",
    "x_tr.shape, x_val.shape, y_tr.shape, y_val.shape"
   ]
  },
  {
   "cell_type": "markdown",
   "metadata": {},
   "source": [
    "### Ok, we have a dictionary with our gates that we can quickly index into and do our model training and evaluation with"
   ]
  },
  {
   "cell_type": "markdown",
   "metadata": {},
   "source": [
    "## Lets flesh out and then add some new models into the mix for our analysis.\n",
    "\n",
    "We'll add the following models: \n",
    "\n",
    "- ElasticNet: (https://scikit-learn.org/stable/modules/generated/sklearn.linear_model.ElasticNet.html)\n",
    "- Lasso: (https://scikit-learn.org/stable/modules/generated/sklearn.linear_model.Lasso.html)\n",
    "- LassoCV: (https://scikit-learn.org/stable/modules/generated/sklearn.linear_model.LassoCV.html)\n",
    "- ElasticNetCv: (https://scikit-learn.org/stable/modules/generated/sklearn.linear_model.LassoCV.html)\n",
    "\n",
    "To our previously used models:\n",
    "- Ridge Regression: (https://scikit-learn.org/stable/modules/generated/sklearn.linear_model.Ridge.html)\n",
    "- RandomForests: (https://scikit-learn.org/stable/modules/generated/sklearn.ensemble.RandomForestRegressor.html)\n",
    "- XGBoost: (https://xgboost.readthedocs.io/en/stable/) --> Gradient Boosted Trees\n",
    "\n",
    "We'll also introduce and begin to make use of using Polynomial Features (https://scikit-learn.org/stable/modules/generated/sklearn.preprocessing.PolynomialFeatures.html) to help our models by introducing polynomial combinations of our independent variables (x)"
   ]
  },
  {
   "cell_type": "code",
   "execution_count": null,
   "metadata": {},
   "outputs": [],
   "source": [
    "from sklearn.preprocessing import PolynomialFeatures\n",
    "from sklearn.linear_model import ElasticNet, LassoCV, MultiTaskLassoCV, MultiTaskElasticNetCV\n",
    "from sklearn import linear_model"
   ]
  },
  {
   "cell_type": "code",
   "execution_count": null,
   "metadata": {},
   "outputs": [
    {
     "data": {
      "text/plain": [
       "(1134, 10)"
      ]
     },
     "execution_count": null,
     "metadata": {},
     "output_type": "execute_result"
    }
   ],
   "source": [
    "PolynomialFeatures(2).fit_transform(x).shape"
   ]
  },
  {
   "cell_type": "code",
   "execution_count": null,
   "metadata": {},
   "outputs": [
    {
     "name": "stdout",
     "output_type": "stream",
     "text": [
      "-0.0036199686533131548\n"
     ]
    }
   ],
   "source": [
    "#without polynomial features.....\n",
    "regr = ElasticNet()\n",
    "regr.fit(x_tr,y_tr);\n",
    "#print(regr.coef_)\n",
    "print(regr.score(x_val,y_val))"
   ]
  },
  {
   "cell_type": "code",
   "execution_count": null,
   "metadata": {},
   "outputs": [
    {
     "name": "stdout",
     "output_type": "stream",
     "text": [
      "-0.0036199686533131548\n"
     ]
    }
   ],
   "source": [
    "#with polynomial features.....\n",
    "regr = ElasticNet()\n",
    "poly_x = PolynomialFeatures(2).fit_transform(x_tr)\n",
    "regr.fit(poly_x, y_tr);\n",
    "poly_x_val = PolynomialFeatures(2).fit_transform(x_val)\n",
    "print(regr.score(poly_x_val, y_val))"
   ]
  },
  {
   "cell_type": "markdown",
   "metadata": {},
   "source": [
    "The models all follow the same pattern in terms of how they are called, so lets wrap them all into a function.\n",
    "That was ugly and too much repeated code"
   ]
  },
  {
   "cell_type": "code",
   "execution_count": null,
   "metadata": {},
   "outputs": [
    {
     "name": "stdout",
     "output_type": "stream",
     "text": [
      "for a random_forest model, the validation score is: 1.0\n"
     ]
    }
   ],
   "source": [
    "do_simple_model(x,y, 'random_forest', num_poly=None, norm_y=True)"
   ]
  },
  {
   "cell_type": "code",
   "execution_count": null,
   "metadata": {},
   "outputs": [
    {
     "name": "stdout",
     "output_type": "stream",
     "text": [
      "for a xgboost model, the validation score is: 0.9999995886556486\n"
     ]
    }
   ],
   "source": [
    "do_simple_model(x,y, 'xgboost', num_poly=None, norm_y=True)"
   ]
  },
  {
   "cell_type": "code",
   "execution_count": null,
   "metadata": {},
   "outputs": [],
   "source": [
    "def normalize(x): return x / x.min()\n",
    "\n",
    "def do_simple_model(x, y, model_name='ridge', num_poly=2, alpha=1.0, norm_y=False):\n",
    "    x_tr, x_val, y_tr, y_val = train_test_split(x,y)\n",
    "    if num_poly:\n",
    "        x_tr = PolynomialFeatures(num_poly).fit_transform(x_tr)\n",
    "        x_val = PolynomialFeatures(num_poly).fit_transform(x_val)\n",
    "    if model_name == 'ridge': model = Ridge(alpha=alpha)\n",
    "    elif 'lasso': model = linear_model.Lasso(alpha=alpha)\n",
    "    elif 'elastic': model = ElasticNet()\n",
    "    elif 'lasso-cv': model = MultiTaskLassoCV(cv=5, random_state=0)\n",
    "    elif 'elastic-cv': model = MultiTaskElasticNetCV(cv=5, random_state=0)\n",
    "    elif 'random_forest': model = RandomForestRegressor(max_depth=100, random_state=0)\n",
    "    elif 'xgboost': model = xgb.XGBRegressor(eval_metric='rmse')\n",
    "    if norm_y: \n",
    "        y_tr, y_val = normalize(y_tr), normalize(y_val)\n",
    "    model.fit(x_tr, y_tr)\n",
    "    r2score = model.score(x_val, y_val)\n",
    "    print(f'for a {model_name} model, the validation score is: {r2score}')"
   ]
  },
  {
   "cell_type": "code",
   "execution_count": null,
   "metadata": {},
   "outputs": [],
   "source": [
    "def run_models(gate_type='buffer', random_state=0, normalize_y=True):\n",
    "    print(f'-----Analyzing {gate_type} gates-----')\n",
    "    x, y = gate_dict[gate_type]\n",
    "    do_simple_model(x, y, model_name='ridge')\n",
    "    do_simple_model(x, y, model_name='lasso')\n",
    "    #do_simple_model(x, y, model_name='elastic')\n",
    "    do_simple_model(x, y, model_name='lasso-cv')\n",
    "    do_simple_model(x, y, model_name='elastic-cv')\n",
    "    do_simple_model(x, y, model_name='random_forest', norm_y=True, num_poly=0)\n",
    "    do_simple_model(x, y, model_name='xgboost', norm_y=True, num_poly=0)\n",
    "    print('\\n')"
   ]
  },
  {
   "cell_type": "code",
   "execution_count": null,
   "metadata": {},
   "outputs": [
    {
     "name": "stdout",
     "output_type": "stream",
     "text": [
      "-----Analyzing buffer gates-----\n",
      "for a ridge model, the validation score is: 0.7926424083227464\n",
      "for a lasso model, the validation score is: -0.002686280311227085\n",
      "for a lasso-cv model, the validation score is: -0.008146830944338768\n",
      "for a elastic-cv model, the validation score is: -0.023607705305650928\n",
      "for a random_forest model, the validation score is: 0.6397995094142909\n",
      "for a xgboost model, the validation score is: 0.6717446251421435\n",
      "\n",
      "\n"
     ]
    }
   ],
   "source": [
    "#test run on just the buffer gate\n",
    "run_models()"
   ]
  },
  {
   "cell_type": "code",
   "execution_count": null,
   "metadata": {},
   "outputs": [
    {
     "name": "stdout",
     "output_type": "stream",
     "text": [
      "-----Analyzing buffer gates-----\n",
      "for a ridge model, the validation score is: 0.8222329564046105\n",
      "for a lasso-cv model, the validation score is: 0.5947528630137102\n",
      "for a elastic-cv model, the validation score is: 0.5831564609135782\n",
      "for a random_forest model, the validation score is: 1.0\n",
      "for a xgboost model, the validation score is: 0.9999997444053901\n",
      "\n",
      "\n",
      "-----Analyzing inv_x1 gates-----\n",
      "for a ridge model, the validation score is: 0.8728247712581148\n",
      "for a lasso-cv model, the validation score is: 0.6285965653386434\n",
      "for a elastic-cv model, the validation score is: 0.6670710824457344\n",
      "for a random_forest model, the validation score is: 1.0\n",
      "for a xgboost model, the validation score is: 0.9999986111712638\n",
      "\n",
      "\n",
      "-----Analyzing inv_x2 gates-----\n",
      "for a ridge model, the validation score is: 0.8723129154048755\n",
      "for a lasso-cv model, the validation score is: 0.6085649832761226\n",
      "for a elastic-cv model, the validation score is: 0.6109733502268793\n",
      "for a random_forest model, the validation score is: 1.0\n",
      "for a xgboost model, the validation score is: 0.9999996967338554\n",
      "\n",
      "\n",
      "-----Analyzing inv_x4 gates-----\n",
      "for a ridge model, the validation score is: 0.8654163383386722\n",
      "for a lasso-cv model, the validation score is: 0.6117705015464091\n",
      "for a elastic-cv model, the validation score is: 0.6231830735529131\n",
      "for a random_forest model, the validation score is: 1.0\n",
      "for a xgboost model, the validation score is: 0.9999993606765867\n",
      "\n",
      "\n",
      "-----Analyzing nand2 gates-----\n",
      "for a ridge model, the validation score is: 0.8610537163463023\n",
      "for a lasso-cv model, the validation score is: 0.6732135524283039\n",
      "for a elastic-cv model, the validation score is: 0.6843794676813286\n",
      "for a random_forest model, the validation score is: 1.0\n",
      "for a xgboost model, the validation score is: 0.9999980198043594\n",
      "\n",
      "\n",
      "-----Analyzing nand3 gates-----\n",
      "for a ridge model, the validation score is: 0.9333883917773333\n",
      "for a lasso-cv model, the validation score is: 0.7327076329905575\n",
      "for a elastic-cv model, the validation score is: 0.7189259972544424\n",
      "for a random_forest model, the validation score is: 1.0\n",
      "for a xgboost model, the validation score is: 0.9999973132371427\n",
      "\n",
      "\n",
      "-----Analyzing nand4 gates-----\n",
      "for a ridge model, the validation score is: 0.8455951183539709\n",
      "for a lasso-cv model, the validation score is: 0.5497477219888696\n",
      "for a elastic-cv model, the validation score is: 0.6264278390977256\n",
      "for a random_forest model, the validation score is: 1.0\n",
      "for a xgboost model, the validation score is: 0.9999994456111184\n",
      "\n",
      "\n",
      "-----Analyzing nor2 gates-----\n",
      "for a ridge model, the validation score is: 0.8522627280408643\n",
      "for a lasso-cv model, the validation score is: 0.6210574932761256\n",
      "for a elastic-cv model, the validation score is: 0.6219602445028984\n",
      "for a random_forest model, the validation score is: 1.0\n",
      "for a xgboost model, the validation score is: 0.9999998580629641\n",
      "\n",
      "\n",
      "-----Analyzing nor3 gates-----\n",
      "for a ridge model, the validation score is: 0.8350696446673955\n",
      "for a lasso-cv model, the validation score is: 0.6164558195409018\n",
      "for a elastic-cv model, the validation score is: 0.5782455748194317\n",
      "for a random_forest model, the validation score is: 1.0\n",
      "for a xgboost model, the validation score is: 0.9999993176883382\n",
      "\n",
      "\n",
      "-----Analyzing nor4 gates-----\n",
      "for a ridge model, the validation score is: 0.8441934582162747\n",
      "for a lasso-cv model, the validation score is: 0.5435121760117881\n",
      "for a elastic-cv model, the validation score is: 0.5603585125318711\n",
      "for a random_forest model, the validation score is: 1.0\n",
      "for a xgboost model, the validation score is: 0.9999984763339764\n",
      "\n",
      "\n"
     ]
    }
   ],
   "source": [
    "for gate_type in gate_dict.keys(): run_models(gate_type, random_state=123)"
   ]
  },
  {
   "cell_type": "markdown",
   "metadata": {},
   "source": [
    "### Looks like our Random Forest and XGBoost models are still doing the best at the moment, but will that hold after a parameter search? (all of the models are using their default parameters at the moment)"
   ]
  },
  {
   "cell_type": "code",
   "execution_count": null,
   "metadata": {},
   "outputs": [],
   "source": []
  },
  {
   "cell_type": "markdown",
   "metadata": {},
   "source": [
    "# To do:\n",
    "\n",
    "- Plotting functionality\n",
    "- Save results into Csv"
   ]
  },
  {
   "cell_type": "code",
   "execution_count": null,
   "metadata": {},
   "outputs": [],
   "source": []
  },
  {
   "cell_type": "code",
   "execution_count": null,
   "metadata": {},
   "outputs": [],
   "source": []
  },
  {
   "cell_type": "code",
   "execution_count": null,
   "metadata": {},
   "outputs": [],
   "source": []
  },
  {
   "cell_type": "code",
   "execution_count": null,
   "metadata": {},
   "outputs": [],
   "source": []
  }
 ],
 "metadata": {
  "kernelspec": {
   "display_name": "Python 3 (ipykernel)",
   "language": "python",
   "name": "python3"
  }
 },
 "nbformat": 4,
 "nbformat_minor": 4
}
