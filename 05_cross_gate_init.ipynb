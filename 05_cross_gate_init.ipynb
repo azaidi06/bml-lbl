{
 "cells": [
  {
   "cell_type": "markdown",
   "metadata": {},
   "source": [
    "### Initial work exploring whether we can train generalizable models --> i.e. given training data on `and` gates and `nor` gates, can we make accurate predictions on `Nand` gates?\n",
    "\n",
    "#### will stick with the simple models for now while fleshing it out. Can introduce other types of model/algo later on"
   ]
  },
  {
   "cell_type": "code",
   "execution_count": null,
   "metadata": {},
   "outputs": [],
   "source": [
    "from sklearn.preprocessing import StandardScaler\n",
    "from sklearn.linear_model import Ridge, RidgeCV\n",
    "from sklearn.ensemble import RandomForestRegressor \n",
    "from sklearn.metrics import mean_squared_error, r2_score\n",
    "from sklearn.model_selection import train_test_split\n",
    "from sklearn.preprocessing import PolynomialFeatures\n",
    "from sklearn.linear_model import ElasticNet, LassoCV, MultiTaskLassoCV, MultiTaskElasticNetCV\n",
    "from sklearn import linear_model\n",
    "import matplotlib.pyplot as plt\n",
    "import pandas as pd\n",
    "import numpy as np\n",
    "import xgboost as xgb"
   ]
  },
  {
   "cell_type": "markdown",
   "metadata": {},
   "source": [
    "First, we'll extract the data for a single run. This should feature 10 different gates"
   ]
  },
  {
   "cell_type": "code",
   "execution_count": null,
   "metadata": {},
   "outputs": [
    {
     "data": {
      "text/html": [
       "<div>\n",
       "<style scoped>\n",
       "    .dataframe tbody tr th:only-of-type {\n",
       "        vertical-align: middle;\n",
       "    }\n",
       "\n",
       "    .dataframe tbody tr th {\n",
       "        vertical-align: top;\n",
       "    }\n",
       "\n",
       "    .dataframe thead th {\n",
       "        text-align: right;\n",
       "    }\n",
       "</style>\n",
       "<table border=\"1\" class=\"dataframe\">\n",
       "  <thead>\n",
       "    <tr style=\"text-align: right;\">\n",
       "      <th></th>\n",
       "      <th>gate_type</th>\n",
       "      <th>voltage</th>\n",
       "      <th>thickness</th>\n",
       "      <th>clock_cycle</th>\n",
       "      <th>t_rise</th>\n",
       "      <th>t_fall</th>\n",
       "      <th>t_delay</th>\n",
       "    </tr>\n",
       "  </thead>\n",
       "  <tbody>\n",
       "    <tr>\n",
       "      <th>0</th>\n",
       "      <td>buffer</td>\n",
       "      <td>0.3</td>\n",
       "      <td>0.1</td>\n",
       "      <td>100</td>\n",
       "      <td>3.131324e-12</td>\n",
       "      <td>3.172790e-12</td>\n",
       "      <td>9.921646e-12</td>\n",
       "    </tr>\n",
       "    <tr>\n",
       "      <th>1</th>\n",
       "      <td>buffer</td>\n",
       "      <td>0.4</td>\n",
       "      <td>0.1</td>\n",
       "      <td>100</td>\n",
       "      <td>8.473565e-13</td>\n",
       "      <td>1.456597e-12</td>\n",
       "      <td>7.269524e-12</td>\n",
       "    </tr>\n",
       "  </tbody>\n",
       "</table>\n",
       "</div>"
      ],
      "text/plain": [
       "  gate_type  voltage  thickness  clock_cycle        t_rise        t_fall  \\\n",
       "0    buffer      0.3        0.1          100  3.131324e-12  3.172790e-12   \n",
       "1    buffer      0.4        0.1          100  8.473565e-13  1.456597e-12   \n",
       "\n",
       "        t_delay  \n",
       "0  9.921646e-12  \n",
       "1  7.269524e-12  "
      ]
     },
     "execution_count": null,
     "metadata": {},
     "output_type": "execute_result"
    }
   ],
   "source": [
    "df = pd.read_csv('data/ten_gate.csv')\n",
    "df.head(2)"
   ]
  },
  {
   "cell_type": "code",
   "execution_count": null,
   "metadata": {},
   "outputs": [
    {
     "data": {
      "text/plain": [
       "array([0.3, 0.4, 0.5, 0.6, 0.7, 0.8, 0.9])"
      ]
     },
     "execution_count": null,
     "metadata": {},
     "output_type": "execute_result"
    }
   ],
   "source": [
    "df.voltage.unique()"
   ]
  },
  {
   "cell_type": "code",
   "execution_count": null,
   "metadata": {},
   "outputs": [
    {
     "data": {
      "text/plain": [
       "array([0.1, 0.2, 0.3, 0.4, 0.5, 0.6, 0.7, 0.8, 0.9, 1. , 2. , 3. , 4. ,\n",
       "       5. , 6. , 7. , 8. , 9. ])"
      ]
     },
     "execution_count": null,
     "metadata": {},
     "output_type": "execute_result"
    }
   ],
   "source": [
    "df.thickness.unique()"
   ]
  },
  {
   "cell_type": "code",
   "execution_count": null,
   "metadata": {},
   "outputs": [
    {
     "data": {
      "text/plain": [
       "array([100, 200, 300, 400, 500, 600, 700, 800, 900])"
      ]
     },
     "execution_count": null,
     "metadata": {},
     "output_type": "execute_result"
    }
   ],
   "source": [
    "df.clock_cycle.unique()"
   ]
  },
  {
   "cell_type": "code",
   "execution_count": null,
   "metadata": {},
   "outputs": [
    {
     "data": {
      "text/plain": [
       "array(['buffer', 'inv_x1', 'inv_x2', 'inv_x4', 'nand2', 'nand3', 'nand4',\n",
       "       'nor2', 'nor3', 'nor4'], dtype='<U6')"
      ]
     },
     "execution_count": null,
     "metadata": {},
     "output_type": "execute_result"
    }
   ],
   "source": [
    "unique_gates = list(df.gate_type.unique())\n",
    "np.array(unique_gates)"
   ]
  },
  {
   "cell_type": "markdown",
   "metadata": {},
   "source": [
    "We'll need to drop some failed values in our nand4 gate in order to proceed, you can see the heatmap at the bottom of notebook #3 in order to confirm the need for this"
   ]
  },
  {
   "cell_type": "code",
   "execution_count": null,
   "metadata": {},
   "outputs": [
    {
     "data": {
      "text/plain": [
       "0"
      ]
     },
     "execution_count": null,
     "metadata": {},
     "output_type": "execute_result"
    }
   ],
   "source": [
    "#these are the bad t_fall values in nand4 that need to be dropped\n",
    "nand4_drop_idxs = ((df['gate_type'] == 'nand4') & (df['t_fall'] == ' FAILED')).values\n",
    "nand4_drop_idxs.sum()"
   ]
  },
  {
   "cell_type": "code",
   "execution_count": null,
   "metadata": {},
   "outputs": [
    {
     "data": {
      "text/plain": [
       "(11340, 7)"
      ]
     },
     "execution_count": null,
     "metadata": {},
     "output_type": "execute_result"
    }
   ],
   "source": [
    "df = df.loc[~nand4_drop_idxs].reset_index(drop=True)\n",
    "df.shape"
   ]
  },
  {
   "cell_type": "markdown",
   "metadata": {},
   "source": [
    "Lets flesh out a few functions that will make our lives easier in order to index into our data appropriately and drop whatever items we might need to be removed"
   ]
  },
  {
   "cell_type": "code",
   "execution_count": null,
   "metadata": {},
   "outputs": [],
   "source": [
    "def get_gate(gate_type='buffer'): return df[df.gate_type == gate_type]"
   ]
  },
  {
   "cell_type": "code",
   "execution_count": null,
   "metadata": {},
   "outputs": [],
   "source": [
    "def get_gate_xy(gate_type='buffer'):\n",
    "    #y_drop = 't_fall' if gate_type == 'buffer' else 't_rise'\n",
    "    df = get_gate(gate_type)\n",
    "    x_cols = ['clock_cycle', 'thickness', 'voltage']\n",
    "    y_cols = ['t_delay', 't_rise', 't_fall']\n",
    "    #y_cols.remove(y_drop)\n",
    "    x = np.vstack(df[x_cols].values).astype('float')\n",
    "    y = np.vstack(np.vstack(df[y_cols].values)).astype('float')\n",
    "    return x, y"
   ]
  },
  {
   "cell_type": "code",
   "execution_count": null,
   "metadata": {},
   "outputs": [
    {
     "data": {
      "text/plain": [
       "((1134, 3), (1134, 3), (1134, 3), (1134, 3), (1134, 3), (1134, 3))"
      ]
     },
     "execution_count": null,
     "metadata": {},
     "output_type": "execute_result"
    }
   ],
   "source": [
    "x1, y1 = get_gate_xy('nor3')\n",
    "x2, y2 = get_gate_xy('nand2')\n",
    "x3, y3 = get_gate_xy('buffer')\n",
    "x1.shape, y1.shape, x2.shape, y2.shape, x3.shape, x3.shape"
   ]
  },
  {
   "cell_type": "code",
   "execution_count": null,
   "metadata": {},
   "outputs": [
    {
     "data": {
      "text/plain": [
       "{'buffer': None,\n",
       " 'inv_x1': None,\n",
       " 'inv_x2': None,\n",
       " 'inv_x4': None,\n",
       " 'nand2': None,\n",
       " 'nand3': None,\n",
       " 'nand4': None,\n",
       " 'nor2': None,\n",
       " 'nor3': None,\n",
       " 'nor4': None}"
      ]
     },
     "execution_count": null,
     "metadata": {},
     "output_type": "execute_result"
    }
   ],
   "source": [
    "gate_dict = dict.fromkeys(unique_gates)\n",
    "gate_dict"
   ]
  },
  {
   "cell_type": "code",
   "execution_count": null,
   "metadata": {},
   "outputs": [],
   "source": [
    "for gate in unique_gates: \n",
    "    gate_dict[gate] = get_gate_xy(gate_type=gate)"
   ]
  },
  {
   "cell_type": "code",
   "execution_count": null,
   "metadata": {},
   "outputs": [
    {
     "data": {
      "text/plain": [
       "((850, 3), (284, 3), (850, 3), (284, 3))"
      ]
     },
     "execution_count": null,
     "metadata": {},
     "output_type": "execute_result"
    }
   ],
   "source": [
    "x, y = gate_dict['buffer']\n",
    "x_tr, x_val, y_tr, y_val = train_test_split(x,y)\n",
    "x_tr.shape, x_val.shape, y_tr.shape, y_val.shape"
   ]
  },
  {
   "cell_type": "code",
   "execution_count": null,
   "metadata": {},
   "outputs": [],
   "source": [
    "def get_mult_gate_df(gate_names=['buffer']):\n",
    "    gates = [gate_dict[gate] for gate in gate_names]\n",
    "    xs = np.vstack([gate[0] for gate in gates])\n",
    "    ys = np.vstack([gate[1] for gate in gates])\n",
    "    #xs = np.append(*xs, axis=0)\n",
    "    #ys = np.append(*ys, axis=0)\n",
    "    return xs, ys"
   ]
  },
  {
   "cell_type": "code",
   "execution_count": null,
   "metadata": {},
   "outputs": [
    {
     "data": {
      "text/plain": [
       "((2268, 3), (2268, 3), (1134, 3), (1134, 3))"
      ]
     },
     "execution_count": null,
     "metadata": {},
     "output_type": "execute_result"
    }
   ],
   "source": [
    "xs_tr, ys_tr = get_mult_gate_df(['nor2', 'nand2'])\n",
    "x_val, y_val = get_mult_gate_df(['buffer'])\n",
    "xs_tr.shape, ys_tr.shape, x_val.shape, y_val.shape"
   ]
  },
  {
   "cell_type": "code",
   "execution_count": null,
   "metadata": {},
   "outputs": [],
   "source": [
    "#lets introduce partial functions to clean up our code a little\n",
    "from functools import partial"
   ]
  },
  {
   "cell_type": "code",
   "execution_count": null,
   "metadata": {},
   "outputs": [],
   "source": [
    "def normalize(x): return x / x.min() #used to normalize our Y values\n",
    "\n",
    "def poly_x(x, num_poly=2): return PolynomialFeatures(num_poly).fit_transform(x)\n",
    "\n",
    "def do_simple_model(x_tr, y_tr, x_val, y_val, model_name='ridge', num_poly=2, alpha=1.0, norm_y=True, print_vals=True,\n",
    "                   get_model=False):\n",
    "    #x_tr, x_val, y_tr, y_val = train_test_split(x,y)\n",
    "    \n",
    "    #lets convert our independent variable into a different polynomial combination\n",
    "    if num_poly: x_tr, x_val = poly_x(x_tr, num_poly), poly_x(x_val, num_poly)\n",
    "    \n",
    "    alps = np.logspace(-5,-1)\n",
    "    \n",
    "    if model_name   == 'ridge': model = Ridge(alpha=alpha, random_state=0)\n",
    "    elif model_name == 'ridge-cv': model = RidgeCV()#alphas=alps)\n",
    "    #elif model_name == 'lasso': model = linear_model.Lasso(alpha=alpha,random_state=0)\n",
    "    #elif model_name == 'elastic': model = ElasticNet(random_state=0)\n",
    "    elif model_name == 'lasso': model = MultiTaskLassoCV(random_state=0, alphas=alps, max_iter=10000)\n",
    "    elif model_name == 'elastic': model = MultiTaskElasticNetCV(random_state=0, alphas=alps, max_iter=10000,\n",
    "                                                                  l1_ratio=np.arange(0.1, 1, 0.1))\n",
    "    elif model_name == 'random_forest': model = RandomForestRegressor(max_depth=100, random_state=0)\n",
    "    elif model_name == 'xgboost': model = xgb.XGBRegressor(eval_metric='rmse', random_state=0)\n",
    "    \n",
    "    #normally want to normalize y values for regression problem\n",
    "    if norm_y: y_tr, y_val = normalize(y_tr), normalize(y_val)\n",
    "    \n",
    "    #now lets fit our model to our training data\n",
    "    model.fit(x_tr, y_tr)\n",
    "    \n",
    "    #we'll predict our R2 score on only the validation data\n",
    "    r2score = model.score(x_val, y_val)\n",
    "    if print_vals: print(f'for a {model_name} model, the validation R2 score is: {r2score:2f}')\n",
    "    if get_model: return model\n",
    "    return r2score"
   ]
  },
  {
   "cell_type": "code",
   "execution_count": null,
   "metadata": {},
   "outputs": [
    {
     "data": {
      "text/plain": [
       "(array([[1.e+02, 1.e-01, 3.e-01],\n",
       "        [1.e+02, 1.e-01, 4.e-01],\n",
       "        [1.e+02, 1.e-01, 5.e-01],\n",
       "        ...,\n",
       "        [9.e+02, 9.e+00, 7.e-01],\n",
       "        [9.e+02, 9.e+00, 8.e-01],\n",
       "        [9.e+02, 9.e+00, 9.e-01]]),\n",
       " array([[1.632233e-11, 1.977015e-12, 1.227493e-11],\n",
       "        [1.053187e-11, 1.041346e-12, 6.330658e-12],\n",
       "        [9.340901e-12, 8.290432e-13, 5.132249e-12],\n",
       "        ...,\n",
       "        [4.995822e-11, 8.932680e-12, 1.255144e-11],\n",
       "        [5.445763e-11, 9.260474e-12, 1.234946e-11],\n",
       "        [5.852438e-11, 9.273399e-12, 1.190102e-11]]))"
      ]
     },
     "execution_count": null,
     "metadata": {},
     "output_type": "execute_result"
    }
   ],
   "source": [
    "get_mult_gate_df([gates[-1]])"
   ]
  },
  {
   "cell_type": "code",
   "execution_count": null,
   "metadata": {},
   "outputs": [],
   "source": [
    "def run_models(gate_types=['buffer','nand2', 'nor3', 'nor4', 'nor2'], random_state=0, print_vals=True):\n",
    "    print(f'-----Training with {gate_types[:-1]} gate(s)-----')\n",
    "    print(f'-----Validating with {gate_types[-1]} gate(s)-----')\n",
    "    x_tr, y_tr = get_mult_gate_df(gate_types[:-1])\n",
    "    x_val, y_val = get_mult_gate_df([gate_types[-1]])\n",
    "    scores = []\n",
    "    do_model = partial(do_simple_model, x_tr, y_tr,x_val, y_val, print_vals=print_vals)\n",
    "    #do_model(model_name='lasso')\n",
    "    #do_model(model_name='elastic')\n",
    "    scores.append(do_model(model_name='ridge', norm_y=False))\n",
    "    #scores.append(do_model(model_name='ridge-cv', norm_y=True))\n",
    "    scores.append(do_model(model_name='lasso'))\n",
    "    scores.append(do_model(model_name='elastic'))\n",
    "    scores.append(do_model(model_name='random_forest', num_poly=False))\n",
    "    scores.append(do_model(model_name='xgboost', num_poly=False))\n",
    "    return scores\n",
    "    print('\\n')"
   ]
  },
  {
   "cell_type": "code",
   "execution_count": null,
   "metadata": {},
   "outputs": [
    {
     "name": "stdout",
     "output_type": "stream",
     "text": [
      "-----Training with ['buffer', 'nand2', 'nor3', 'nor4'] gate(s)-----\n",
      "-----Validating with nor2 gate(s)-----\n",
      "for a ridge model, the validation R2 score is: 0.560218\n",
      "for a lasso model, the validation R2 score is: -6.008699\n",
      "for a elastic model, the validation R2 score is: -5.997165\n",
      "for a random_forest model, the validation R2 score is: -6.000715\n",
      "for a xgboost model, the validation R2 score is: -6.001771\n"
     ]
    }
   ],
   "source": [
    "#test run on just the buffer gate\n",
    "_ = run_models(print_vals=True)"
   ]
  },
  {
   "cell_type": "code",
   "execution_count": null,
   "metadata": {},
   "outputs": [
    {
     "name": "stdout",
     "output_type": "stream",
     "text": [
      "-----Training with ['nor2', 'nor3'] gate(s)-----\n",
      "-----Validating with nor4 gate(s)-----\n",
      "for a ridge model, the validation R2 score is: 0.510508\n",
      "for a lasso model, the validation R2 score is: -0.094901\n",
      "for a elastic model, the validation R2 score is: -0.089154\n",
      "for a random_forest model, the validation R2 score is: -0.057613\n",
      "for a xgboost model, the validation R2 score is: -0.056576\n"
     ]
    }
   ],
   "source": [
    "_ = run_models(print_vals=True, gate_types=['nor2', 'nor3', 'nor4'])"
   ]
  },
  {
   "cell_type": "code",
   "execution_count": null,
   "metadata": {},
   "outputs": [
    {
     "name": "stdout",
     "output_type": "stream",
     "text": [
      "-----Training with ['nor2', 'nor3', 'buffer'] gate(s)-----\n",
      "-----Validating with nor4 gate(s)-----\n",
      "for a ridge model, the validation R2 score is: 0.176506\n",
      "for a lasso model, the validation R2 score is: -13.249755\n",
      "for a elastic model, the validation R2 score is: -13.232831\n",
      "for a random_forest model, the validation R2 score is: -13.329106\n",
      "for a xgboost model, the validation R2 score is: -13.302315\n"
     ]
    }
   ],
   "source": [
    "_ = run_models(print_vals=True, gate_types=['nor2', 'nor3', 'buffer', 'nor4'])"
   ]
  },
  {
   "cell_type": "code",
   "execution_count": null,
   "metadata": {},
   "outputs": [
    {
     "name": "stdout",
     "output_type": "stream",
     "text": [
      "-----Training with ['nor2', 'nor3', 'nor4'] gate(s)-----\n",
      "-----Validating with buffer gate(s)-----\n",
      "for a ridge model, the validation R2 score is: -7.824065\n",
      "for a lasso model, the validation R2 score is: -1.191767\n",
      "for a elastic model, the validation R2 score is: -1.188271\n",
      "for a random_forest model, the validation R2 score is: -1.145132\n",
      "for a xgboost model, the validation R2 score is: -1.144619\n"
     ]
    }
   ],
   "source": [
    "_ = run_models(print_vals=True, gate_types=['nor2', 'nor3', 'nor4', 'buffer'])"
   ]
  },
  {
   "cell_type": "code",
   "execution_count": null,
   "metadata": {},
   "outputs": [
    {
     "name": "stdout",
     "output_type": "stream",
     "text": [
      "-----Training with ['nand2', 'nand3'] gate(s)-----\n",
      "-----Validating with nand4 gate(s)-----\n",
      "for a ridge model, the validation R2 score is: 0.313560\n",
      "for a lasso model, the validation R2 score is: 0.210744\n",
      "for a elastic model, the validation R2 score is: 0.210168\n",
      "for a random_forest model, the validation R2 score is: 0.242085\n",
      "for a xgboost model, the validation R2 score is: 0.241073\n"
     ]
    }
   ],
   "source": [
    "_ = run_models(print_vals=True, gate_types=['nand2', 'nand3', 'nand4'])"
   ]
  },
  {
   "cell_type": "code",
   "execution_count": null,
   "metadata": {},
   "outputs": [],
   "source": [
    "#list(gate_dict.keys())"
   ]
  },
  {
   "cell_type": "code",
   "execution_count": null,
   "metadata": {},
   "outputs": [
    {
     "name": "stdout",
     "output_type": "stream",
     "text": [
      "-----Training with ['buffer', 'inv_x1', 'inv_x2', 'inv_x4', 'nand2', 'nand3', 'nand4', 'nor2', 'nor3'] gate(s)-----\n",
      "-----Validating with nor4 gate(s)-----\n",
      "for a ridge model, the validation R2 score is: -2.759713\n",
      "for a lasso model, the validation R2 score is: -38.186342\n",
      "for a elastic model, the validation R2 score is: -38.178127\n",
      "for a random_forest model, the validation R2 score is: -38.328649\n",
      "for a xgboost model, the validation R2 score is: -38.329943\n"
     ]
    }
   ],
   "source": [
    "_ = run_models(print_vals=True, gate_types=list(gate_dict.keys()))"
   ]
  },
  {
   "cell_type": "code",
   "execution_count": null,
   "metadata": {},
   "outputs": [],
   "source": []
  }
 ],
 "metadata": {
  "kernelspec": {
   "display_name": "Python 3 (ipykernel)",
   "language": "python",
   "name": "python3"
  }
 },
 "nbformat": 4,
 "nbformat_minor": 4
}
